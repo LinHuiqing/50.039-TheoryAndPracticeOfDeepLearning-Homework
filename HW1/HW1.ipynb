{
 "cells": [
  {
   "cell_type": "code",
   "execution_count": 1,
   "metadata": {},
   "outputs": [],
   "source": [
    "# import relevant packages\n",
    "import numpy as np\n",
    "import pandas as pd\n",
    "from sklearn.pipeline import make_pipeline\n",
    "from sklearn.preprocessing import StandardScaler\n",
    "from sklearn.svm import SVC"
   ]
  },
  {
   "cell_type": "code",
   "execution_count": 2,
   "metadata": {},
   "outputs": [],
   "source": [
    "# set random state so as to get reproducible results\n",
    "np.random.seed(2021)"
   ]
  },
  {
   "cell_type": "code",
   "execution_count": 3,
   "metadata": {},
   "outputs": [],
   "source": [
    "# read label info from file and convert to list\n",
    "label_info = pd.read_csv(\"label_info.txt\", delimiter=\"\\t\", index_col=\"number\")\n",
    "label_ls = label_info['name'].tolist()"
   ]
  },
  {
   "cell_type": "code",
   "execution_count": 4,
   "metadata": {},
   "outputs": [],
   "source": [
    "# read labels of images from gtlabels file\n",
    "with open(\"gtlabels.txt\") as ex_labels_file:\n",
    "    ex_labels_str = ex_labels_file.read().strip()\n",
    "ex_labels = ex_labels_str.split(\"\\n\")\n",
    "ex_labels = [line.split() for line in ex_labels]"
   ]
  },
  {
   "cell_type": "code",
   "execution_count": 5,
   "metadata": {},
   "outputs": [
    {
     "output_type": "execute_result",
     "data": {
      "text/plain": [
       "                                        filename Partylife Family_Friends  \\\n",
       "0       0039b5a7-c1ad-423a-92a0-3f38558043a2.jpg         0              0   \n",
       "1       003eaf28-898d-404f-abe5-e8e86d422fa2.jpg         0              0   \n",
       "2       005f4848-780a-4d31-8c09-4abdfd46804c.jpg         0              0   \n",
       "3       00a53424-5a0d-4c9d-ac90-242a6099fc35.jpg         0              0   \n",
       "4       00b5c2a5-2b8f-492b-ad5d-ed3310e6da56.jpg         0              0   \n",
       "...                                          ...       ...            ...   \n",
       "7995  {FFA81171-399C-432E-8373-753B7FC5F85B}.jpg         0              0   \n",
       "7996  {FFB02EA2-96FB-4C60-ADEF-C57C0CC2266E}.jpg         0              0   \n",
       "7997  {FFB61D93-7A87-487B-8478-58B78E878823}.jpg         0              0   \n",
       "7998  {FFC6F015-ABF9-4AD9-ACC9-0941FD14A251}.jpg         0              0   \n",
       "7999  {FFEA602F-75FF-45DC-8146-1EF60445C400}.jpg         0              0   \n",
       "\n",
       "     Beach_Holidays Building_Sights Snow Citylife Landscape_Nature Sports  \\\n",
       "0                 0               0    0        0                0      0   \n",
       "1                 0               0    0        0                0      0   \n",
       "2                 0               0    0        0                0      0   \n",
       "3                 0               0    0        0                0      0   \n",
       "4                 0               0    0        0                0      0   \n",
       "...             ...             ...  ...      ...              ...    ...   \n",
       "7995              0               1    0        1                1      0   \n",
       "7996              0               0    0        0                1      0   \n",
       "7997              0               1    0        0                0      0   \n",
       "7998              0               0    0        0                0      0   \n",
       "7999              0               0    0        0                0      0   \n",
       "\n",
       "     Desert  ... old_person happy funny euphoric active scary unpleasant  \\\n",
       "0         0  ...          0     0     1        0      0     0          0   \n",
       "1         0  ...          0     1     1        0      0     0          0   \n",
       "2         0  ...          0     1     0        0      0     0          1   \n",
       "3         0  ...          0     1     0        0      1     0          0   \n",
       "4         0  ...          0     0     0        0      0     0          1   \n",
       "...     ...  ...        ...   ...   ...      ...    ...   ...        ...   \n",
       "7995      0  ...          0     0     0        0      0     0          0   \n",
       "7996      0  ...          0     0     0        0      0     0          0   \n",
       "7997      0  ...          0     0     0        0      0     0          0   \n",
       "7998      0  ...          0     0     0        0      0     0          0   \n",
       "7999      0  ...          1     1     0        0      0     0          0   \n",
       "\n",
       "     melancholic inactive calm  \n",
       "0              0        0    1  \n",
       "1              0        1    0  \n",
       "2              1        1    1  \n",
       "3              0        0    0  \n",
       "4              1        1    0  \n",
       "...          ...      ...  ...  \n",
       "7995           0        0    1  \n",
       "7996           0        0    1  \n",
       "7997           0        0    0  \n",
       "7998           0        1    0  \n",
       "7999           0        0    0  \n",
       "\n",
       "[8000 rows x 100 columns]"
      ],
      "text/html": "<div>\n<style scoped>\n    .dataframe tbody tr th:only-of-type {\n        vertical-align: middle;\n    }\n\n    .dataframe tbody tr th {\n        vertical-align: top;\n    }\n\n    .dataframe thead th {\n        text-align: right;\n    }\n</style>\n<table border=\"1\" class=\"dataframe\">\n  <thead>\n    <tr style=\"text-align: right;\">\n      <th></th>\n      <th>filename</th>\n      <th>Partylife</th>\n      <th>Family_Friends</th>\n      <th>Beach_Holidays</th>\n      <th>Building_Sights</th>\n      <th>Snow</th>\n      <th>Citylife</th>\n      <th>Landscape_Nature</th>\n      <th>Sports</th>\n      <th>Desert</th>\n      <th>...</th>\n      <th>old_person</th>\n      <th>happy</th>\n      <th>funny</th>\n      <th>euphoric</th>\n      <th>active</th>\n      <th>scary</th>\n      <th>unpleasant</th>\n      <th>melancholic</th>\n      <th>inactive</th>\n      <th>calm</th>\n    </tr>\n  </thead>\n  <tbody>\n    <tr>\n      <th>0</th>\n      <td>0039b5a7-c1ad-423a-92a0-3f38558043a2.jpg</td>\n      <td>0</td>\n      <td>0</td>\n      <td>0</td>\n      <td>0</td>\n      <td>0</td>\n      <td>0</td>\n      <td>0</td>\n      <td>0</td>\n      <td>0</td>\n      <td>...</td>\n      <td>0</td>\n      <td>0</td>\n      <td>1</td>\n      <td>0</td>\n      <td>0</td>\n      <td>0</td>\n      <td>0</td>\n      <td>0</td>\n      <td>0</td>\n      <td>1</td>\n    </tr>\n    <tr>\n      <th>1</th>\n      <td>003eaf28-898d-404f-abe5-e8e86d422fa2.jpg</td>\n      <td>0</td>\n      <td>0</td>\n      <td>0</td>\n      <td>0</td>\n      <td>0</td>\n      <td>0</td>\n      <td>0</td>\n      <td>0</td>\n      <td>0</td>\n      <td>...</td>\n      <td>0</td>\n      <td>1</td>\n      <td>1</td>\n      <td>0</td>\n      <td>0</td>\n      <td>0</td>\n      <td>0</td>\n      <td>0</td>\n      <td>1</td>\n      <td>0</td>\n    </tr>\n    <tr>\n      <th>2</th>\n      <td>005f4848-780a-4d31-8c09-4abdfd46804c.jpg</td>\n      <td>0</td>\n      <td>0</td>\n      <td>0</td>\n      <td>0</td>\n      <td>0</td>\n      <td>0</td>\n      <td>0</td>\n      <td>0</td>\n      <td>0</td>\n      <td>...</td>\n      <td>0</td>\n      <td>1</td>\n      <td>0</td>\n      <td>0</td>\n      <td>0</td>\n      <td>0</td>\n      <td>1</td>\n      <td>1</td>\n      <td>1</td>\n      <td>1</td>\n    </tr>\n    <tr>\n      <th>3</th>\n      <td>00a53424-5a0d-4c9d-ac90-242a6099fc35.jpg</td>\n      <td>0</td>\n      <td>0</td>\n      <td>0</td>\n      <td>0</td>\n      <td>0</td>\n      <td>0</td>\n      <td>0</td>\n      <td>0</td>\n      <td>0</td>\n      <td>...</td>\n      <td>0</td>\n      <td>1</td>\n      <td>0</td>\n      <td>0</td>\n      <td>1</td>\n      <td>0</td>\n      <td>0</td>\n      <td>0</td>\n      <td>0</td>\n      <td>0</td>\n    </tr>\n    <tr>\n      <th>4</th>\n      <td>00b5c2a5-2b8f-492b-ad5d-ed3310e6da56.jpg</td>\n      <td>0</td>\n      <td>0</td>\n      <td>0</td>\n      <td>0</td>\n      <td>0</td>\n      <td>0</td>\n      <td>0</td>\n      <td>0</td>\n      <td>0</td>\n      <td>...</td>\n      <td>0</td>\n      <td>0</td>\n      <td>0</td>\n      <td>0</td>\n      <td>0</td>\n      <td>0</td>\n      <td>1</td>\n      <td>1</td>\n      <td>1</td>\n      <td>0</td>\n    </tr>\n    <tr>\n      <th>...</th>\n      <td>...</td>\n      <td>...</td>\n      <td>...</td>\n      <td>...</td>\n      <td>...</td>\n      <td>...</td>\n      <td>...</td>\n      <td>...</td>\n      <td>...</td>\n      <td>...</td>\n      <td>...</td>\n      <td>...</td>\n      <td>...</td>\n      <td>...</td>\n      <td>...</td>\n      <td>...</td>\n      <td>...</td>\n      <td>...</td>\n      <td>...</td>\n      <td>...</td>\n      <td>...</td>\n    </tr>\n    <tr>\n      <th>7995</th>\n      <td>{FFA81171-399C-432E-8373-753B7FC5F85B}.jpg</td>\n      <td>0</td>\n      <td>0</td>\n      <td>0</td>\n      <td>1</td>\n      <td>0</td>\n      <td>1</td>\n      <td>1</td>\n      <td>0</td>\n      <td>0</td>\n      <td>...</td>\n      <td>0</td>\n      <td>0</td>\n      <td>0</td>\n      <td>0</td>\n      <td>0</td>\n      <td>0</td>\n      <td>0</td>\n      <td>0</td>\n      <td>0</td>\n      <td>1</td>\n    </tr>\n    <tr>\n      <th>7996</th>\n      <td>{FFB02EA2-96FB-4C60-ADEF-C57C0CC2266E}.jpg</td>\n      <td>0</td>\n      <td>0</td>\n      <td>0</td>\n      <td>0</td>\n      <td>0</td>\n      <td>0</td>\n      <td>1</td>\n      <td>0</td>\n      <td>0</td>\n      <td>...</td>\n      <td>0</td>\n      <td>0</td>\n      <td>0</td>\n      <td>0</td>\n      <td>0</td>\n      <td>0</td>\n      <td>0</td>\n      <td>0</td>\n      <td>0</td>\n      <td>1</td>\n    </tr>\n    <tr>\n      <th>7997</th>\n      <td>{FFB61D93-7A87-487B-8478-58B78E878823}.jpg</td>\n      <td>0</td>\n      <td>0</td>\n      <td>0</td>\n      <td>1</td>\n      <td>0</td>\n      <td>0</td>\n      <td>0</td>\n      <td>0</td>\n      <td>0</td>\n      <td>...</td>\n      <td>0</td>\n      <td>0</td>\n      <td>0</td>\n      <td>0</td>\n      <td>0</td>\n      <td>0</td>\n      <td>0</td>\n      <td>0</td>\n      <td>0</td>\n      <td>0</td>\n    </tr>\n    <tr>\n      <th>7998</th>\n      <td>{FFC6F015-ABF9-4AD9-ACC9-0941FD14A251}.jpg</td>\n      <td>0</td>\n      <td>0</td>\n      <td>0</td>\n      <td>0</td>\n      <td>0</td>\n      <td>0</td>\n      <td>0</td>\n      <td>0</td>\n      <td>0</td>\n      <td>...</td>\n      <td>0</td>\n      <td>0</td>\n      <td>0</td>\n      <td>0</td>\n      <td>0</td>\n      <td>0</td>\n      <td>0</td>\n      <td>0</td>\n      <td>1</td>\n      <td>0</td>\n    </tr>\n    <tr>\n      <th>7999</th>\n      <td>{FFEA602F-75FF-45DC-8146-1EF60445C400}.jpg</td>\n      <td>0</td>\n      <td>0</td>\n      <td>0</td>\n      <td>0</td>\n      <td>0</td>\n      <td>0</td>\n      <td>0</td>\n      <td>0</td>\n      <td>0</td>\n      <td>...</td>\n      <td>1</td>\n      <td>1</td>\n      <td>0</td>\n      <td>0</td>\n      <td>0</td>\n      <td>0</td>\n      <td>0</td>\n      <td>0</td>\n      <td>0</td>\n      <td>0</td>\n    </tr>\n  </tbody>\n</table>\n<p>8000 rows × 100 columns</p>\n</div>"
     },
     "metadata": {},
     "execution_count": 5
    }
   ],
   "source": [
    "# initialise dataframe from labels info and image info\n",
    "df = pd.DataFrame (ex_labels,columns=['filename']+label_ls)\n",
    "df"
   ]
  },
  {
   "cell_type": "code",
   "execution_count": 6,
   "metadata": {},
   "outputs": [
    {
     "output_type": "execute_result",
     "data": {
      "text/plain": [
       "                                        filename Spring Summer Autumn\n",
       "0       0039b5a7-c1ad-423a-92a0-3f38558043a2.jpg      0      0      0\n",
       "1       003eaf28-898d-404f-abe5-e8e86d422fa2.jpg      0      0      0\n",
       "2       005f4848-780a-4d31-8c09-4abdfd46804c.jpg      0      0      0\n",
       "3       00a53424-5a0d-4c9d-ac90-242a6099fc35.jpg      0      0      0\n",
       "4       00b5c2a5-2b8f-492b-ad5d-ed3310e6da56.jpg      0      0      0\n",
       "...                                          ...    ...    ...    ...\n",
       "7995  {FFA81171-399C-432E-8373-753B7FC5F85B}.jpg      0      1      0\n",
       "7996  {FFB02EA2-96FB-4C60-ADEF-C57C0CC2266E}.jpg      0      0      0\n",
       "7997  {FFB61D93-7A87-487B-8478-58B78E878823}.jpg      0      0      0\n",
       "7998  {FFC6F015-ABF9-4AD9-ACC9-0941FD14A251}.jpg      0      0      0\n",
       "7999  {FFEA602F-75FF-45DC-8146-1EF60445C400}.jpg      0      0      0\n",
       "\n",
       "[8000 rows x 4 columns]"
      ],
      "text/html": "<div>\n<style scoped>\n    .dataframe tbody tr th:only-of-type {\n        vertical-align: middle;\n    }\n\n    .dataframe tbody tr th {\n        vertical-align: top;\n    }\n\n    .dataframe thead th {\n        text-align: right;\n    }\n</style>\n<table border=\"1\" class=\"dataframe\">\n  <thead>\n    <tr style=\"text-align: right;\">\n      <th></th>\n      <th>filename</th>\n      <th>Spring</th>\n      <th>Summer</th>\n      <th>Autumn</th>\n    </tr>\n  </thead>\n  <tbody>\n    <tr>\n      <th>0</th>\n      <td>0039b5a7-c1ad-423a-92a0-3f38558043a2.jpg</td>\n      <td>0</td>\n      <td>0</td>\n      <td>0</td>\n    </tr>\n    <tr>\n      <th>1</th>\n      <td>003eaf28-898d-404f-abe5-e8e86d422fa2.jpg</td>\n      <td>0</td>\n      <td>0</td>\n      <td>0</td>\n    </tr>\n    <tr>\n      <th>2</th>\n      <td>005f4848-780a-4d31-8c09-4abdfd46804c.jpg</td>\n      <td>0</td>\n      <td>0</td>\n      <td>0</td>\n    </tr>\n    <tr>\n      <th>3</th>\n      <td>00a53424-5a0d-4c9d-ac90-242a6099fc35.jpg</td>\n      <td>0</td>\n      <td>0</td>\n      <td>0</td>\n    </tr>\n    <tr>\n      <th>4</th>\n      <td>00b5c2a5-2b8f-492b-ad5d-ed3310e6da56.jpg</td>\n      <td>0</td>\n      <td>0</td>\n      <td>0</td>\n    </tr>\n    <tr>\n      <th>...</th>\n      <td>...</td>\n      <td>...</td>\n      <td>...</td>\n      <td>...</td>\n    </tr>\n    <tr>\n      <th>7995</th>\n      <td>{FFA81171-399C-432E-8373-753B7FC5F85B}.jpg</td>\n      <td>0</td>\n      <td>1</td>\n      <td>0</td>\n    </tr>\n    <tr>\n      <th>7996</th>\n      <td>{FFB02EA2-96FB-4C60-ADEF-C57C0CC2266E}.jpg</td>\n      <td>0</td>\n      <td>0</td>\n      <td>0</td>\n    </tr>\n    <tr>\n      <th>7997</th>\n      <td>{FFB61D93-7A87-487B-8478-58B78E878823}.jpg</td>\n      <td>0</td>\n      <td>0</td>\n      <td>0</td>\n    </tr>\n    <tr>\n      <th>7998</th>\n      <td>{FFC6F015-ABF9-4AD9-ACC9-0941FD14A251}.jpg</td>\n      <td>0</td>\n      <td>0</td>\n      <td>0</td>\n    </tr>\n    <tr>\n      <th>7999</th>\n      <td>{FFEA602F-75FF-45DC-8146-1EF60445C400}.jpg</td>\n      <td>0</td>\n      <td>0</td>\n      <td>0</td>\n    </tr>\n  </tbody>\n</table>\n<p>8000 rows × 4 columns</p>\n</div>"
     },
     "metadata": {},
     "execution_count": 6
    }
   ],
   "source": [
    "# take out irrelevant classes from dataframe\n",
    "chosen_classes = [\"Spring\", \"Summer\", \"Autumn\"]\n",
    "df = df.filter([\"filename\"]+chosen_classes)\n",
    "df"
   ]
  },
  {
   "cell_type": "code",
   "execution_count": 7,
   "metadata": {},
   "outputs": [
    {
     "output_type": "execute_result",
     "data": {
      "text/plain": [
       "                                        filename  Spring  Summer  Autumn\n",
       "0       0039b5a7-c1ad-423a-92a0-3f38558043a2.jpg       0       0       0\n",
       "1       003eaf28-898d-404f-abe5-e8e86d422fa2.jpg       0       0       0\n",
       "2       005f4848-780a-4d31-8c09-4abdfd46804c.jpg       0       0       0\n",
       "3       00a53424-5a0d-4c9d-ac90-242a6099fc35.jpg       0       0       0\n",
       "4       00b5c2a5-2b8f-492b-ad5d-ed3310e6da56.jpg       0       0       0\n",
       "...                                          ...     ...     ...     ...\n",
       "7995  {FFA81171-399C-432E-8373-753B7FC5F85B}.jpg       0       1       0\n",
       "7996  {FFB02EA2-96FB-4C60-ADEF-C57C0CC2266E}.jpg       0       0       0\n",
       "7997  {FFB61D93-7A87-487B-8478-58B78E878823}.jpg       0       0       0\n",
       "7998  {FFC6F015-ABF9-4AD9-ACC9-0941FD14A251}.jpg       0       0       0\n",
       "7999  {FFEA602F-75FF-45DC-8146-1EF60445C400}.jpg       0       0       0\n",
       "\n",
       "[8000 rows x 4 columns]"
      ],
      "text/html": "<div>\n<style scoped>\n    .dataframe tbody tr th:only-of-type {\n        vertical-align: middle;\n    }\n\n    .dataframe tbody tr th {\n        vertical-align: top;\n    }\n\n    .dataframe thead th {\n        text-align: right;\n    }\n</style>\n<table border=\"1\" class=\"dataframe\">\n  <thead>\n    <tr style=\"text-align: right;\">\n      <th></th>\n      <th>filename</th>\n      <th>Spring</th>\n      <th>Summer</th>\n      <th>Autumn</th>\n    </tr>\n  </thead>\n  <tbody>\n    <tr>\n      <th>0</th>\n      <td>0039b5a7-c1ad-423a-92a0-3f38558043a2.jpg</td>\n      <td>0</td>\n      <td>0</td>\n      <td>0</td>\n    </tr>\n    <tr>\n      <th>1</th>\n      <td>003eaf28-898d-404f-abe5-e8e86d422fa2.jpg</td>\n      <td>0</td>\n      <td>0</td>\n      <td>0</td>\n    </tr>\n    <tr>\n      <th>2</th>\n      <td>005f4848-780a-4d31-8c09-4abdfd46804c.jpg</td>\n      <td>0</td>\n      <td>0</td>\n      <td>0</td>\n    </tr>\n    <tr>\n      <th>3</th>\n      <td>00a53424-5a0d-4c9d-ac90-242a6099fc35.jpg</td>\n      <td>0</td>\n      <td>0</td>\n      <td>0</td>\n    </tr>\n    <tr>\n      <th>4</th>\n      <td>00b5c2a5-2b8f-492b-ad5d-ed3310e6da56.jpg</td>\n      <td>0</td>\n      <td>0</td>\n      <td>0</td>\n    </tr>\n    <tr>\n      <th>...</th>\n      <td>...</td>\n      <td>...</td>\n      <td>...</td>\n      <td>...</td>\n    </tr>\n    <tr>\n      <th>7995</th>\n      <td>{FFA81171-399C-432E-8373-753B7FC5F85B}.jpg</td>\n      <td>0</td>\n      <td>1</td>\n      <td>0</td>\n    </tr>\n    <tr>\n      <th>7996</th>\n      <td>{FFB02EA2-96FB-4C60-ADEF-C57C0CC2266E}.jpg</td>\n      <td>0</td>\n      <td>0</td>\n      <td>0</td>\n    </tr>\n    <tr>\n      <th>7997</th>\n      <td>{FFB61D93-7A87-487B-8478-58B78E878823}.jpg</td>\n      <td>0</td>\n      <td>0</td>\n      <td>0</td>\n    </tr>\n    <tr>\n      <th>7998</th>\n      <td>{FFC6F015-ABF9-4AD9-ACC9-0941FD14A251}.jpg</td>\n      <td>0</td>\n      <td>0</td>\n      <td>0</td>\n    </tr>\n    <tr>\n      <th>7999</th>\n      <td>{FFEA602F-75FF-45DC-8146-1EF60445C400}.jpg</td>\n      <td>0</td>\n      <td>0</td>\n      <td>0</td>\n    </tr>\n  </tbody>\n</table>\n<p>8000 rows × 4 columns</p>\n</div>"
     },
     "metadata": {},
     "execution_count": 7
    }
   ],
   "source": [
    "# change labels from str to int\n",
    "df = df.astype({'Spring': 'int32', 'Summer': 'int32', 'Autumn': 'int32'})\n",
    "df"
   ]
  },
  {
   "cell_type": "code",
   "execution_count": 8,
   "metadata": {},
   "outputs": [
    {
     "output_type": "execute_result",
     "data": {
      "text/plain": [
       "                                        filename  Spring  Summer  Autumn\n",
       "16      01d88c87-f2e3-4a7f-be26-b38c549b5e7d.jpg       1       0       0\n",
       "33      03b0bf90-f66b-41ad-b7ae-0e9f818cb9fd.jpg       0       1       0\n",
       "37      03e489e7-7c0f-48f3-971d-b44b7e026f25.jpg       0       1       0\n",
       "43      040b9239-da83-462b-991e-c4f2a1898a62.jpg       0       1       0\n",
       "48      04c01e0c-6ab4-416d-9417-8796283521f4.jpg       0       0       1\n",
       "...                                          ...     ...     ...     ...\n",
       "7969  {FE042A4E-B85C-49EF-82E8-3D5C922A7E8D}.jpg       0       1       0\n",
       "7978  {FECAD3F9-8EE7-43C1-932E-DD804E4B796B}.jpg       0       1       0\n",
       "7984  {FF4B4F7C-BBEB-4224-B15E-E514D3CB1949}.jpg       0       1       0\n",
       "7988  {FF781858-65E9-446F-A089-BB26716FFE2E}.jpg       0       1       0\n",
       "7995  {FFA81171-399C-432E-8373-753B7FC5F85B}.jpg       0       1       0\n",
       "\n",
       "[1145 rows x 4 columns]"
      ],
      "text/html": "<div>\n<style scoped>\n    .dataframe tbody tr th:only-of-type {\n        vertical-align: middle;\n    }\n\n    .dataframe tbody tr th {\n        vertical-align: top;\n    }\n\n    .dataframe thead th {\n        text-align: right;\n    }\n</style>\n<table border=\"1\" class=\"dataframe\">\n  <thead>\n    <tr style=\"text-align: right;\">\n      <th></th>\n      <th>filename</th>\n      <th>Spring</th>\n      <th>Summer</th>\n      <th>Autumn</th>\n    </tr>\n  </thead>\n  <tbody>\n    <tr>\n      <th>16</th>\n      <td>01d88c87-f2e3-4a7f-be26-b38c549b5e7d.jpg</td>\n      <td>1</td>\n      <td>0</td>\n      <td>0</td>\n    </tr>\n    <tr>\n      <th>33</th>\n      <td>03b0bf90-f66b-41ad-b7ae-0e9f818cb9fd.jpg</td>\n      <td>0</td>\n      <td>1</td>\n      <td>0</td>\n    </tr>\n    <tr>\n      <th>37</th>\n      <td>03e489e7-7c0f-48f3-971d-b44b7e026f25.jpg</td>\n      <td>0</td>\n      <td>1</td>\n      <td>0</td>\n    </tr>\n    <tr>\n      <th>43</th>\n      <td>040b9239-da83-462b-991e-c4f2a1898a62.jpg</td>\n      <td>0</td>\n      <td>1</td>\n      <td>0</td>\n    </tr>\n    <tr>\n      <th>48</th>\n      <td>04c01e0c-6ab4-416d-9417-8796283521f4.jpg</td>\n      <td>0</td>\n      <td>0</td>\n      <td>1</td>\n    </tr>\n    <tr>\n      <th>...</th>\n      <td>...</td>\n      <td>...</td>\n      <td>...</td>\n      <td>...</td>\n    </tr>\n    <tr>\n      <th>7969</th>\n      <td>{FE042A4E-B85C-49EF-82E8-3D5C922A7E8D}.jpg</td>\n      <td>0</td>\n      <td>1</td>\n      <td>0</td>\n    </tr>\n    <tr>\n      <th>7978</th>\n      <td>{FECAD3F9-8EE7-43C1-932E-DD804E4B796B}.jpg</td>\n      <td>0</td>\n      <td>1</td>\n      <td>0</td>\n    </tr>\n    <tr>\n      <th>7984</th>\n      <td>{FF4B4F7C-BBEB-4224-B15E-E514D3CB1949}.jpg</td>\n      <td>0</td>\n      <td>1</td>\n      <td>0</td>\n    </tr>\n    <tr>\n      <th>7988</th>\n      <td>{FF781858-65E9-446F-A089-BB26716FFE2E}.jpg</td>\n      <td>0</td>\n      <td>1</td>\n      <td>0</td>\n    </tr>\n    <tr>\n      <th>7995</th>\n      <td>{FFA81171-399C-432E-8373-753B7FC5F85B}.jpg</td>\n      <td>0</td>\n      <td>1</td>\n      <td>0</td>\n    </tr>\n  </tbody>\n</table>\n<p>1145 rows × 4 columns</p>\n</div>"
     },
     "metadata": {},
     "execution_count": 8
    }
   ],
   "source": [
    "# filter out rows with only chosen labels\n",
    "df = df[df[\"Spring\"] + df[\"Summer\"] + df[\"Autumn\"] == 1]\n",
    "df"
   ]
  },
  {
   "cell_type": "code",
   "execution_count": 9,
   "metadata": {},
   "outputs": [
    {
     "output_type": "execute_result",
     "data": {
      "text/plain": [
       "                                        filename  Spring  Summer  Autumn  \\\n",
       "16      01d88c87-f2e3-4a7f-be26-b38c549b5e7d.jpg       1       0       0   \n",
       "33      03b0bf90-f66b-41ad-b7ae-0e9f818cb9fd.jpg       0       1       0   \n",
       "37      03e489e7-7c0f-48f3-971d-b44b7e026f25.jpg       0       1       0   \n",
       "43      040b9239-da83-462b-991e-c4f2a1898a62.jpg       0       1       0   \n",
       "48      04c01e0c-6ab4-416d-9417-8796283521f4.jpg       0       0       1   \n",
       "...                                          ...     ...     ...     ...   \n",
       "7969  {FE042A4E-B85C-49EF-82E8-3D5C922A7E8D}.jpg       0       1       0   \n",
       "7978  {FECAD3F9-8EE7-43C1-932E-DD804E4B796B}.jpg       0       1       0   \n",
       "7984  {FF4B4F7C-BBEB-4224-B15E-E514D3CB1949}.jpg       0       1       0   \n",
       "7988  {FF781858-65E9-446F-A089-BB26716FFE2E}.jpg       0       1       0   \n",
       "7995  {FFA81171-399C-432E-8373-753B7FC5F85B}.jpg       0       1       0   \n",
       "\n",
       "                                               features  \n",
       "16    [0.00048693782, 0.00509194, 0.0028135052, 0.00...  \n",
       "33    [0.0002985283, 0.0064952117, 0.0053253854, 0.0...  \n",
       "37    [0.00049501075, 0.004573596, 0.003921549, 0.00...  \n",
       "43    [0.00014986246, 0.0066579483, 0.0009286591, 0....  \n",
       "48    [0.00050134765, 0.0032292355, 0.0039382987, 0....  \n",
       "...                                                 ...  \n",
       "7969  [0.00035466423, 0.004972555, 0.00472961, 0.001...  \n",
       "7978  [0.0004272918, 0.0034273197, 0.0026839902, 0.0...  \n",
       "7984  [0.00033894225, 0.0045505385, 0.0032907669, 0....  \n",
       "7988  [0.00031476427, 0.0069268006, 0.0034461773, 0....  \n",
       "7995  [0.00025896615, 0.002326071, 0.0026373048, 0.0...  \n",
       "\n",
       "[1145 rows x 5 columns]"
      ],
      "text/html": "<div>\n<style scoped>\n    .dataframe tbody tr th:only-of-type {\n        vertical-align: middle;\n    }\n\n    .dataframe tbody tr th {\n        vertical-align: top;\n    }\n\n    .dataframe thead th {\n        text-align: right;\n    }\n</style>\n<table border=\"1\" class=\"dataframe\">\n  <thead>\n    <tr style=\"text-align: right;\">\n      <th></th>\n      <th>filename</th>\n      <th>Spring</th>\n      <th>Summer</th>\n      <th>Autumn</th>\n      <th>features</th>\n    </tr>\n  </thead>\n  <tbody>\n    <tr>\n      <th>16</th>\n      <td>01d88c87-f2e3-4a7f-be26-b38c549b5e7d.jpg</td>\n      <td>1</td>\n      <td>0</td>\n      <td>0</td>\n      <td>[0.00048693782, 0.00509194, 0.0028135052, 0.00...</td>\n    </tr>\n    <tr>\n      <th>33</th>\n      <td>03b0bf90-f66b-41ad-b7ae-0e9f818cb9fd.jpg</td>\n      <td>0</td>\n      <td>1</td>\n      <td>0</td>\n      <td>[0.0002985283, 0.0064952117, 0.0053253854, 0.0...</td>\n    </tr>\n    <tr>\n      <th>37</th>\n      <td>03e489e7-7c0f-48f3-971d-b44b7e026f25.jpg</td>\n      <td>0</td>\n      <td>1</td>\n      <td>0</td>\n      <td>[0.00049501075, 0.004573596, 0.003921549, 0.00...</td>\n    </tr>\n    <tr>\n      <th>43</th>\n      <td>040b9239-da83-462b-991e-c4f2a1898a62.jpg</td>\n      <td>0</td>\n      <td>1</td>\n      <td>0</td>\n      <td>[0.00014986246, 0.0066579483, 0.0009286591, 0....</td>\n    </tr>\n    <tr>\n      <th>48</th>\n      <td>04c01e0c-6ab4-416d-9417-8796283521f4.jpg</td>\n      <td>0</td>\n      <td>0</td>\n      <td>1</td>\n      <td>[0.00050134765, 0.0032292355, 0.0039382987, 0....</td>\n    </tr>\n    <tr>\n      <th>...</th>\n      <td>...</td>\n      <td>...</td>\n      <td>...</td>\n      <td>...</td>\n      <td>...</td>\n    </tr>\n    <tr>\n      <th>7969</th>\n      <td>{FE042A4E-B85C-49EF-82E8-3D5C922A7E8D}.jpg</td>\n      <td>0</td>\n      <td>1</td>\n      <td>0</td>\n      <td>[0.00035466423, 0.004972555, 0.00472961, 0.001...</td>\n    </tr>\n    <tr>\n      <th>7978</th>\n      <td>{FECAD3F9-8EE7-43C1-932E-DD804E4B796B}.jpg</td>\n      <td>0</td>\n      <td>1</td>\n      <td>0</td>\n      <td>[0.0004272918, 0.0034273197, 0.0026839902, 0.0...</td>\n    </tr>\n    <tr>\n      <th>7984</th>\n      <td>{FF4B4F7C-BBEB-4224-B15E-E514D3CB1949}.jpg</td>\n      <td>0</td>\n      <td>1</td>\n      <td>0</td>\n      <td>[0.00033894225, 0.0045505385, 0.0032907669, 0....</td>\n    </tr>\n    <tr>\n      <th>7988</th>\n      <td>{FF781858-65E9-446F-A089-BB26716FFE2E}.jpg</td>\n      <td>0</td>\n      <td>1</td>\n      <td>0</td>\n      <td>[0.00031476427, 0.0069268006, 0.0034461773, 0....</td>\n    </tr>\n    <tr>\n      <th>7995</th>\n      <td>{FFA81171-399C-432E-8373-753B7FC5F85B}.jpg</td>\n      <td>0</td>\n      <td>1</td>\n      <td>0</td>\n      <td>[0.00025896615, 0.002326071, 0.0026373048, 0.0...</td>\n    </tr>\n  </tbody>\n</table>\n<p>1145 rows × 5 columns</p>\n</div>"
     },
     "metadata": {},
     "execution_count": 9
    }
   ],
   "source": [
    "# add image features from respective .npy files\n",
    "image_path = \"./imagefeatures\"\n",
    "features_col = []\n",
    "for _, row in df.iterrows():\n",
    "    features_col.append(np.load(f\"{image_path}/{row['filename']}_ft.npy\"))\n",
    "df[\"features\"] = features_col\n",
    "df"
   ]
  },
  {
   "cell_type": "code",
   "execution_count": 10,
   "metadata": {},
   "outputs": [],
   "source": [
    "def train_val_test_split_y(df_full, class_label):\n",
    "    \"\"\" To perform train-val-test split for positive output of a certain class.\n",
    "\n",
    "        Args: \n",
    "            df_full - (pandas.core.frame.DataFrame) full dataset\n",
    "            class_label - (str) class (i.e. \"Spring\", \"Summer\" or \"Autumn\")\n",
    "        \n",
    "        Returns:\n",
    "            class_df_test, class_df_val, class_df_train - (pandas.core.frame.DataFrame) dataframes after split is performed\n",
    "    \"\"\"\n",
    "    class_df = df_full.loc[df_full[class_label] == 1]\n",
    "    class_df = class_df.sample(frac=1)\n",
    "    no_of_rows = len(class_df)\n",
    "    test_end = no_of_rows // 5\n",
    "    val_end = no_of_rows // 20 * 3 + test_end\n",
    "    class_df_test, class_df_val, class_df_train = class_df[:test_end], \\\n",
    "                                                  class_df[test_end:val_end], \\\n",
    "                                                  class_df[val_end:]\n",
    "    return class_df_test, class_df_val, class_df_train"
   ]
  },
  {
   "cell_type": "code",
   "execution_count": 11,
   "metadata": {},
   "outputs": [],
   "source": [
    "def train_val_test_split_all(df_full, class_labels):\n",
    "    \"\"\" To perform train-val-test split for a certain class.\n",
    "\n",
    "        Args: \n",
    "            df_full - (pandas.core.frame.DataFrame) full dataset\n",
    "            class_labels - (list) chosen classes (i.e. [\"Spring\", \"Summer\", \"Autumn\"])\n",
    "        \n",
    "        Returns:\n",
    "            df_test, df_val, df_train - (pandas.core.frame.DataFrame) dataframes after split is performed\n",
    "    \"\"\"\n",
    "    df_train_ls, df_val_ls, df_test_ls = [], [], []\n",
    "    for class_label in class_labels:\n",
    "        df_test_pos, df_val_pos, df_train_pos = train_val_test_split_y(df_full, class_label)\n",
    "        df_train_ls.append(df_train_pos)\n",
    "        df_val_ls.append(df_val_pos)\n",
    "        df_test_ls.append(df_test_pos)\n",
    "    df_train = pd.concat(df_train_ls).sample(frac=1)\n",
    "    df_val = pd.concat(df_val_ls).sample(frac=1)\n",
    "    df_test = pd.concat(df_test_ls).sample(frac=1)\n",
    "    return df_train, df_val, df_test"
   ]
  },
  {
   "cell_type": "code",
   "execution_count": 12,
   "metadata": {},
   "outputs": [
    {
     "output_type": "stream",
     "name": "stdout",
     "text": [
      "--- train set ---\n           Spring      Summer      Autumn\ncount  749.000000  749.000000  749.000000\nmean     0.092123    0.771696    0.136182\nstd      0.289393    0.420020    0.343210\nmin      0.000000    0.000000    0.000000\n25%      0.000000    1.000000    0.000000\n50%      0.000000    1.000000    0.000000\n75%      0.000000    1.000000    0.000000\nmax      1.000000    1.000000    1.000000\n--- val set ---\n           Spring      Summer      Autumn\ncount  168.000000  168.000000  168.000000\nmean     0.089286    0.785714    0.125000\nstd      0.286008    0.411553    0.331708\nmin      0.000000    0.000000    0.000000\n25%      0.000000    1.000000    0.000000\n50%      0.000000    1.000000    0.000000\n75%      0.000000    1.000000    0.000000\nmax      1.000000    1.000000    1.000000\n--- test set ---\n           Spring      Summer      Autumn\ncount  228.000000  228.000000  228.000000\nmean     0.092105    0.776316    0.131579\nstd      0.289811    0.417630    0.338776\nmin      0.000000    0.000000    0.000000\n25%      0.000000    1.000000    0.000000\n50%      0.000000    1.000000    0.000000\n75%      0.000000    1.000000    0.000000\nmax      1.000000    1.000000    1.000000\n"
     ]
    }
   ],
   "source": [
    "# split dataset into train, val and test sets\n",
    "df_train, df_val, df_test = train_val_test_split_all(df, chosen_classes)\n",
    "print(\"--- train set ---\")\n",
    "print(df_train.describe())\n",
    "print(\"--- val set ---\")\n",
    "print(df_val.describe())\n",
    "print(\"--- test set ---\")\n",
    "print(df_test.describe())"
   ]
  },
  {
   "cell_type": "code",
   "execution_count": 13,
   "metadata": {},
   "outputs": [],
   "source": [
    "def fit_model(X, y, reg_constant, kernel):\n",
    "    \"\"\" To fit the SVM model.\n",
    "\n",
    "        Args: \n",
    "            X - (pandas.core.series.Series) features\n",
    "            y - (pandas.core.series.Series) labels\n",
    "            reg_constant - (int) regularisation constant to use with SVM\n",
    "            kernel - (str) kernel mode to use\n",
    "        \n",
    "        Returns:\n",
    "            (sklearn.pipeline.Pipeline object) model which can be used to make predictions\n",
    "    \"\"\"\n",
    "    clf = make_pipeline(StandardScaler(), \\\n",
    "                        SVC(kernel=kernel, C=reg_constant, probability=True))\n",
    "    X = np.stack(X.to_list(), axis=0)\n",
    "    return clf.fit(X, y)"
   ]
  },
  {
   "cell_type": "code",
   "execution_count": 14,
   "metadata": {},
   "outputs": [],
   "source": [
    "def get_vanilla_accuracy(y_pred, y_true):\n",
    "    \"\"\" To get vanilla accuracy.\n",
    "\n",
    "        Args: \n",
    "            y_pred - (pandas.core.series.Series) predicted labels\n",
    "            y_true - (pandas.core.series.Series) true labels\n",
    "        \n",
    "        Returns:\n",
    "            (float) vanilla accuracy\n",
    "    \"\"\"\n",
    "    y_pred, y_true = np.array(y_pred), np.array(y_true)\n",
    "    check_label = np.max(y_pred & y_true, axis=1)\n",
    "    return np.sum(check_label) / len(y_true)"
   ]
  },
  {
   "cell_type": "code",
   "execution_count": 15,
   "metadata": {},
   "outputs": [],
   "source": [
    "def get_a_c(y_pred, y_true):\n",
    "    \"\"\" To calculate a_c as written in handout.\n",
    "\n",
    "        Args:\n",
    "            y_pred - (pandas.core.series.Series) predicted labels\n",
    "            y_true - (pandas.core.series.Series) true labels\n",
    "        \n",
    "        Returns:\n",
    "            a_c as given by equation in handout\n",
    "    \"\"\"\n",
    "    y_pred, y_true = np.array(y_pred), np.array(y_true)\n",
    "    true_positive = y_pred & y_true == 1\n",
    "    return np.sum(true_positive) / np.sum(y_true)"
   ]
  },
  {
   "cell_type": "code",
   "execution_count": 16,
   "metadata": {},
   "outputs": [],
   "source": [
    "def get_class_wise_avg_acc(y_pred, y_true):\n",
    "    \"\"\" To calculate class-wise averaged accuracy.\n",
    "\n",
    "        Args:\n",
    "            y_pred - (pandas.core.frame.DataFrame) predicted labels of multiple classes\n",
    "            y_true - (pandas.core.frame.DataFrame) true labels of multiple classes\n",
    "        \n",
    "        Returns:\n",
    "            (float) class-wise averaged accuracy\n",
    "    \"\"\"\n",
    "    sum_a_c = 0\n",
    "    for class_label in y_true.columns:\n",
    "        sum_a_c += get_a_c(y_pred[class_label], y_true[class_label])\n",
    "    return sum_a_c / len(y_true.columns)"
   ]
  },
  {
   "cell_type": "code",
   "execution_count": 17,
   "metadata": {},
   "outputs": [],
   "source": [
    "def get_best_reg_constant(train_set, val_set, reg_const_ls, class_labels, kernel):\n",
    "    \"\"\" To get the best regularisation constant.\n",
    "\n",
    "        Args: \n",
    "            train_set - (pandas.core.frame.DataFrame) train set with labels and features\n",
    "            val_set - (pandas.core.frame.DataFrame) val set with labels and features\n",
    "            reg_c_ls - (list) regularisation constants\n",
    "            class_labels - (list) chosen classes (i.e. [\"Spring\", \"Summer\", \"Autumn\"])\n",
    "\n",
    "        \n",
    "        Returns:\n",
    "            (float) best regularisation constant\n",
    "    \"\"\"\n",
    "    reg_const_acc_dict = {}\n",
    "    for constant in reg_const_ls:\n",
    "        print(f\"Using regularisation constant {constant}...\")\n",
    "        y_store = val_set.copy().replace(1.0, np.NaN)\n",
    "        y_store = y_store.replace(0.0, np.NaN)\n",
    "        for class_label in class_labels:\n",
    "            model = fit_model(train_set[\"features\"], train_set[class_label], constant, kernel)\n",
    "            X_val = np.stack(val_set[\"features\"].to_list(), axis=0)\n",
    "            pred_probs = model.predict_proba(X_val)\n",
    "            y_store[class_label] = pred_probs[:, 1]\n",
    "        y_store[class_labels] = (y_store[class_labels] == y_store[class_labels].max(axis=1)[:, None]).astype(int)\n",
    "        vanilla_acc = get_vanilla_accuracy(y_store[class_labels], val_set[class_labels])\n",
    "        print(f\"Vanilla accuracy is {vanilla_acc}.\")\n",
    "        class_wise_avg_acc = get_class_wise_avg_acc(y_store[class_labels], val_set[class_labels])\n",
    "        print(f\"Class-wise averaged accuracy is {class_wise_avg_acc}.\")\n",
    "        reg_const_acc_dict[constant] = class_wise_avg_acc\n",
    "    return max(reg_const_acc_dict, key=reg_const_acc_dict.get)"
   ]
  },
  {
   "cell_type": "code",
   "execution_count": 18,
   "metadata": {},
   "outputs": [
    {
     "output_type": "execute_result",
     "data": {
      "text/plain": [
       "[0.01, 0.1, 0.31622776601683794, 1, 3.1622776601683795, 10, 100]"
      ]
     },
     "metadata": {},
     "execution_count": 18
    }
   ],
   "source": [
    "# initialise reg_constants to store all possible constants\n",
    "reg_constants = [0.01, 0.1, 0.1**0.5, 1, 10**0.5, 10, 100]\n",
    "reg_constants"
   ]
  },
  {
   "cell_type": "code",
   "execution_count": 19,
   "metadata": {},
   "outputs": [
    {
     "output_type": "execute_result",
     "data": {
      "text/plain": [
       "['linear', 'rbf']"
      ]
     },
     "metadata": {},
     "execution_count": 19
    }
   ],
   "source": [
    "# initialise list of kernels to try out\n",
    "kernels = [\"linear\", \"rbf\"]\n",
    "kernels"
   ]
  },
  {
   "cell_type": "code",
   "execution_count": 20,
   "metadata": {
    "tags": []
   },
   "outputs": [
    {
     "output_type": "stream",
     "name": "stdout",
     "text": [
      "--- For kernel mode 'linear' ---\n",
      "Using regularisation constant 0.01...\n",
      "Vanilla accuracy is 0.8392857142857143.\n",
      "Class-wise averaged accuracy is 0.4958874458874459.\n",
      "Using regularisation constant 0.1...\n",
      "Vanilla accuracy is 0.8333333333333334.\n",
      "Class-wise averaged accuracy is 0.4933621933621934.\n",
      "Using regularisation constant 0.31622776601683794...\n",
      "Vanilla accuracy is 0.8333333333333334.\n",
      "Class-wise averaged accuracy is 0.4933621933621934.\n",
      "Using regularisation constant 1...\n",
      "Vanilla accuracy is 0.8273809523809523.\n",
      "Class-wise averaged accuracy is 0.49083694083694085.\n",
      "Using regularisation constant 3.1622776601683795...\n",
      "Vanilla accuracy is 0.8333333333333334.\n",
      "Class-wise averaged accuracy is 0.4933621933621934.\n",
      "Using regularisation constant 10...\n",
      "Vanilla accuracy is 0.8273809523809523.\n",
      "Class-wise averaged accuracy is 0.49083694083694085.\n",
      "Using regularisation constant 100...\n",
      "Vanilla accuracy is 0.8333333333333334.\n",
      "Class-wise averaged accuracy is 0.4933621933621934.\n",
      "Best regularisation constant found is 0.01.\n",
      "--- For kernel mode 'rbf' ---\n",
      "Using regularisation constant 0.01...\n",
      "Vanilla accuracy is 0.8333333333333334.\n",
      "Class-wise averaged accuracy is 0.5454545454545454.\n",
      "Using regularisation constant 0.1...\n",
      "Vanilla accuracy is 0.8333333333333334.\n",
      "Class-wise averaged accuracy is 0.5454545454545454.\n",
      "Using regularisation constant 0.31622776601683794...\n",
      "Vanilla accuracy is 0.8333333333333334.\n",
      "Class-wise averaged accuracy is 0.5454545454545454.\n",
      "Using regularisation constant 1...\n",
      "Vanilla accuracy is 0.8333333333333334.\n",
      "Class-wise averaged accuracy is 0.5454545454545454.\n",
      "Using regularisation constant 3.1622776601683795...\n",
      "Vanilla accuracy is 0.7976190476190477.\n",
      "Class-wise averaged accuracy is 0.5106060606060606.\n",
      "Using regularisation constant 10...\n",
      "Vanilla accuracy is 0.7976190476190477.\n",
      "Class-wise averaged accuracy is 0.4909090909090909.\n",
      "Using regularisation constant 100...\n",
      "Vanilla accuracy is 0.7976190476190477.\n",
      "Class-wise averaged accuracy is 0.4909090909090909.\n",
      "Best regularisation constant found is 0.01.\n"
     ]
    }
   ],
   "source": [
    "# iterate through all classes to get the best regularisation constant\n",
    "best_reg_consts = {}\n",
    "for kernel in kernels:\n",
    "    print(f\"--- For kernel mode '{kernel}' ---\")\n",
    "    best_reg_consts[kernel] = get_best_reg_constant(df_train, df_val, reg_constants, chosen_classes, kernel)\n",
    "    print(f\"Best regularisation constant found is {best_reg_consts[kernel]}.\")"
   ]
  },
  {
   "cell_type": "code",
   "execution_count": 21,
   "metadata": {},
   "outputs": [],
   "source": [
    "def get_final_model(df_train, df_val, class_label, reg_constant, kernel):\n",
    "    \"\"\" To get final model with best reg constant.\n",
    "\n",
    "        Args: \n",
    "            df_train - (pandas.core.frame.DataFrame) training set\n",
    "            df_val - (pandas.core.frame.DataFrame) validation set \n",
    "            class_label - (str) class (i.e. \"Spring\", \"Summer\" or \"Autumn\")\n",
    "            reg_constant - (int) regularisation constant to use with SVM\n",
    "            kernel - (str) kernel mode to use\n",
    "        \n",
    "        Returns:\n",
    "            (sklearn.pipeline.Pipeline object) model which can be used to make predictions\n",
    "    \"\"\"\n",
    "    df_train_val = df_train.append(df_val).sample(frac=1)\n",
    "    return fit_model(df_train_val[\"features\"], df_train_val[class_label], reg_constant, kernel)"
   ]
  },
  {
   "cell_type": "code",
   "execution_count": 22,
   "metadata": {},
   "outputs": [
    {
     "output_type": "stream",
     "name": "stdout",
     "text": [
      "--- For kernel mode 'linear' ---\n",
      "Vanilla accuracy is 0.8070175438596491.\n",
      "Class-wise averaged accuracy is 0.4480225988700565.\n",
      "--- For kernel mode 'rbf' ---\n",
      "Vanilla accuracy is 0.8377192982456141.\n",
      "Class-wise averaged accuracy is 0.5448479956954534.\n"
     ]
    }
   ],
   "source": [
    "# get test vanilla accuracy values and class-wise averaged accuracy\n",
    "for kernel in kernels:\n",
    "    print(f\"--- For kernel mode '{kernel}' ---\")\n",
    "    y_store = df_test.copy().replace(1.0, np.NaN)\n",
    "    y_store = y_store.replace(0.0, np.NaN)\n",
    "    for class_label in chosen_classes:\n",
    "        model = get_final_model(df_train, df_val, class_label, best_reg_consts[kernel], kernel)\n",
    "        X_test = np.stack(df_test[\"features\"].to_list(), axis=0)\n",
    "        pred_probs = model.predict_proba(X_test)\n",
    "        y_store[class_label] = pred_probs[:, 1]\n",
    "    y_store[chosen_classes] = (y_store[chosen_classes] == y_store[chosen_classes].max(axis=1)[:, None]).astype(int)\n",
    "    vanilla_acc = get_vanilla_accuracy(y_store[chosen_classes], df_test[chosen_classes])\n",
    "    print(f\"Vanilla accuracy is {vanilla_acc}.\")\n",
    "    class_wise_avg_acc = get_class_wise_avg_acc(y_store[chosen_classes], df_test[chosen_classes])\n",
    "    print(f\"Class-wise averaged accuracy is {class_wise_avg_acc}.\")"
   ]
  },
  {
   "cell_type": "code",
   "execution_count": 23,
   "metadata": {},
   "outputs": [],
   "source": [
    "# save train-val-test split as .npy files\n",
    "save_folder = \"./dataset_splits\"\n",
    "dataset_types = [(\"train\", df_train), (\"val\", df_val), (\"test\", df_test)]\n",
    "for ds_type, ds in dataset_types:\n",
    "    np.save(f\"{save_folder}/{ds_type}\", ds.to_numpy())"
   ]
  },
  {
   "cell_type": "code",
   "execution_count": null,
   "metadata": {},
   "outputs": [],
   "source": []
  }
 ],
 "metadata": {
  "kernelspec": {
   "display_name": "Python 3",
   "language": "python",
   "name": "python3"
  },
  "language_info": {
   "codemirror_mode": {
    "name": "ipython",
    "version": 3
   },
   "file_extension": ".py",
   "mimetype": "text/x-python",
   "name": "python",
   "nbconvert_exporter": "python",
   "pygments_lexer": "ipython3",
   "version": "3.7.4-final"
  }
 },
 "nbformat": 4,
 "nbformat_minor": 4
}