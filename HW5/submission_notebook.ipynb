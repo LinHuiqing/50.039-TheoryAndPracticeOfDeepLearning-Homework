{
 "cells": [
  {
   "cell_type": "markdown",
   "metadata": {},
   "source": [
    "# Homework 9 - Descriptive Notebook\n",
    "\n",
    "In this homework notebook, we will create and train our own SkipGram embedding, by using the speech from Martin Luther King in the text.text file.\n",
    "\n",
    "Get familiar with the code and write a small report (2 pages max), with answers to the questions listed at the end of the notebook.\n",
    "\n",
    "**The report must be submitted in PDF format, before April 4th, 11.59pm!**\n",
    "\n",
    "Do not forget to write your name and student ID on the report.\n",
    "\n",
    "You may also submit your own copy of the notebook along with the report. If you do so, please add your name and ID to the cell below."
   ]
  },
  {
   "cell_type": "code",
   "execution_count": 1,
   "metadata": {},
   "outputs": [],
   "source": [
    "# Name: Lin Huiqing\n",
    "# Student ID: 1003810"
   ]
  },
  {
   "cell_type": "markdown",
   "metadata": {},
   "source": [
    "### Imports needed\n",
    "\n",
    "Note, we strongly advise to use a CUDA/GPU machine for this notebook.\n",
    "\n",
    "Technically, this can be done on CPU only, but it will be very slow!\n",
    "\n",
    "If you decide to use it on CPU, you might also have to change some of the .cuda() methods used on torch tensors and models in this notebook!"
   ]
  },
  {
   "cell_type": "code",
   "execution_count": 1,
   "metadata": {},
   "outputs": [
    {
     "name": "stdout",
     "output_type": "stream",
     "text": [
      "cuda is available: True\n"
     ]
    }
   ],
   "source": [
    "import torch\n",
    "from torch.autograd import Variable\n",
    "import torch.nn as nn\n",
    "import torch.optim as optim\n",
    "import torch.nn.functional as F\n",
    "import functools\n",
    "import matplotlib.pyplot as plt\n",
    "CUDA = torch.cuda.is_available()\n",
    "print(f\"cuda is available: {CUDA}\")"
   ]
  },
  {
   "cell_type": "markdown",
   "metadata": {},
   "source": [
    "### Step 1. Produce some data based on a given text for training our SkipGram model    \n",
    "\n",
    "The functions below will be used to produce our dataset for training the SkipGram model."
   ]
  },
  {
   "cell_type": "code",
   "execution_count": 2,
   "metadata": {},
   "outputs": [],
   "source": [
    "def text_to_train(text, context_window):\n",
    "    \"\"\"\n",
    "    This function receives the text as a list of words, in lowercase format.\n",
    "    It then returns data, a list of all the possible (x,y) pairs with\n",
    "    - x being the middle word of the sentence of length 2*context_window+1,\n",
    "    - y being a list of 2k words, containing the k preceding words and the k\n",
    "    posterior words.\n",
    "    \"\"\"\n",
    "    \n",
    "    # Get data from list of words in text, using a context window of size k = context_window\n",
    "    data = []\n",
    "    for i in range(context_window, len(text) - context_window):\n",
    "        target = [text[i+e] for e in range(-context_window, context_window+1) if i+e != i]\n",
    "        input_word = text[i]\n",
    "        data.append((input_word, target))\n",
    "        \n",
    "    return data"
   ]
  },
  {
   "cell_type": "code",
   "execution_count": 3,
   "metadata": {},
   "outputs": [],
   "source": [
    "def create_text():\n",
    "    \"\"\"\n",
    "    This function loads the string of text from the text.txt file,\n",
    "    and produces a list of words in string format, as variable text.\n",
    "    \"\"\"\n",
    "    \n",
    "    # Load corpus from file\n",
    "    with open(\"./text.txt\", 'r', encoding=\"utf8\",) as f:\n",
    "        corpus = f.readlines()\n",
    "    f.close()\n",
    "    \n",
    "    # Join corpus into a single string\n",
    "    text = \"\"\n",
    "    for s in corpus:\n",
    "        l = s.split()\n",
    "        for s2 in l:\n",
    "            # Removes all special characters from string\n",
    "            s2 = ''.join(filter(str.isalnum, s2))\n",
    "            s2 += ' '\n",
    "            text += s2.lower()\n",
    "    text = text.split()\n",
    "    \n",
    "    return text"
   ]
  },
  {
   "cell_type": "code",
   "execution_count": 4,
   "metadata": {},
   "outputs": [
    {
     "name": "stdout",
     "output_type": "stream",
     "text": [
      "['i', 'am', 'happy', 'to', 'join', 'with', 'you', 'today', 'in', 'what', 'will', 'go', 'down', 'in', 'history', 'as', 'the', 'greatest', 'demonstration', 'for', 'freedom', 'in', 'the', 'history', 'of', 'our', 'nation', 'five', 'score', 'years', 'ago', 'a', 'great', 'american', 'in', 'whose', 'symbolic', 'shadow', 'we', 'stand', 'today', 'signed', 'the', 'emancipation', 'proclamation', 'this', 'momentous', 'decree', 'came', 'as', 'a', 'great', 'beacon', 'of', 'hope', 'to', 'millions', 'of', 'slaves', 'who', 'had', 'been', 'seared', 'in', 'the', 'flames', 'of', 'whithering', 'injustice', 'it', 'came', 'as', 'a', 'joyous', 'daybreak', 'to', 'end', 'the', 'long', 'night', 'of', 'their', 'captivity', 'but', 'one', 'hundred', 'years', 'later', 'the', 'colored', 'america', 'is', 'still', 'not', 'free', 'one', 'hundred', 'years', 'later', 'the', 'life', 'of', 'the', 'colored', 'american', 'is', 'still', 'sadly', 'crippled', 'by', 'the', 'manacle', 'of', 'segregation', 'and', 'the', 'chains', 'of', 'discrimination', 'one', 'hundred', 'years', 'later', 'the', 'colored', 'american', 'lives', 'on', 'a', 'lonely', 'island', 'of', 'poverty', 'in', 'the', 'midst', 'of', 'a', 'vast', 'ocean', 'of', 'material', 'prosperity', 'one', 'hundred', 'years', 'later', 'the', 'colored', 'american', 'is', 'still', 'languishing', 'in', 'the', 'corners', 'of', 'american', 'society', 'and', 'finds', 'himself', 'an', 'exile', 'in', 'his', 'own', 'land', 'so', 'we', 'have', 'come', 'here', 'today', 'to', 'dramatize', 'a', 'shameful', 'condition', 'in', 'a', 'sense', 'we', 'have', 'come', 'to', 'our', 'nations', 'capital', 'to', 'cash', 'a', 'check', 'when', 'the', 'architects', 'of', 'our', 'great', 'republic', 'wrote', 'the', 'magnificent', 'words', 'of', 'the', 'constitution', 'and', 'the', 'declaration', 'of', 'independence', 'they', 'were', 'signing', 'a', 'promissory', 'note', 'to', 'which', 'every', 'american', 'was', 'to', 'fall', 'heir', 'this', 'note', 'was', 'a', 'promise', 'that', 'all', 'men', 'yes', 'black', 'men', 'as', 'well', 'as', 'white', 'men', 'would', 'be', 'guaranteed', 'the', 'inalienable', 'rights', 'of', 'life', 'liberty', 'and', 'the', 'pursuit', 'of', 'happiness', 'it', 'is', 'obvious', 'today', 'that', 'america', 'has', 'defaulted', 'on', 'this', 'promissory', 'note', 'insofar', 'as', 'her', 'citizens', 'of', 'color', 'are', 'concerned', 'instead', 'of', 'honoring', 'this', 'sacred', 'obligation', 'america', 'has', 'given', 'its', 'colored', 'people', 'a', 'bad', 'check', 'a', 'check', 'that', 'has', 'come', 'back', 'marked', 'insufficient', 'funds', 'but', 'we', 'refuse', 'to', 'believe', 'that', 'the', 'bank', 'of', 'justice', 'is', 'bankrupt', 'we', 'refuse', 'to', 'believe', 'that', 'there', 'are', 'insufficient', 'funds', 'in', 'the', 'great', 'vaults', 'of', 'opportunity', 'of', 'this', 'nation', 'so', 'we', 'have', 'come', 'to', 'cash', 'this', 'check', 'a', 'check', 'that', 'will', 'give', 'us', 'upon', 'demand', 'the', 'riches', 'of', 'freedom', 'and', 'security', 'of', 'justice', 'we', 'have', 'also', 'come', 'to', 'his', 'hallowed', 'spot', 'to', 'remind', 'america', 'of', 'the', 'fierce', 'urgency', 'of', 'now', 'this', 'is', 'not', 'time', 'to', 'engage', 'in', 'the', 'luxury', 'of', 'cooling', 'off', 'or', 'to', 'take', 'the', 'tranquilizing', 'drug', 'of', 'gradualism', 'now', 'is', 'the', 'time', 'to', 'make', 'real', 'the', 'promise', 'of', 'democracy', 'now', 'it', 'the', 'time', 'to', 'rise', 'from', 'the', 'dark', 'and', 'desolate', 'valley', 'of', 'segregation', 'to', 'the', 'sunlit', 'path', 'of', 'racial', 'justice', 'now', 'it', 'the', 'time', 'to', 'lift', 'our', 'nation', 'from', 'the', 'quicksand', 'of', 'racial', 'injustice', 'to', 'the', 'solid', 'rock', 'of', 'brotherhood', 'now', 'is', 'the', 'time', 'to', 'make', 'justice', 'a', 'reality', 'to', 'all', 'of', 'gods', 'children', 'i', 'would', 'be', 'fatal', 'for', 'the', 'nation', 'to', 'overlook', 'the', 'urgency', 'of', 'the', 'moment', 'and', 'to', 'underestimate', 'the', 'determination', 'of', 'its', 'colored', 'citizens', 'this', 'sweltering', 'summer', 'of', 'the', 'colored', 'peoples', 'legitimate', 'discontent', 'will', 'not', 'pass', 'until', 'there', 'is', 'an', 'invigorating', 'autumn', 'of', 'freedom', 'and', 'equality', 'nineteen', 'sixtythree', 'is', 'not', 'an', 'end', 'but', 'a', 'beginning', 'those', 'who', 'hope', 'that', 'the', 'colored', 'americans', 'needed', 'to', 'blow', 'off', 'steam', 'and', 'will', 'now', 'be', 'content', 'will', 'have', 'a', 'rude', 'awakening', 'if', 'the', 'nation', 'returns', 'to', 'business', 'as', 'usual', 'there', 'will', 'be', 'neither', 'rest', 'nor', 'tranquility', 'in', 'america', 'until', 'the', 'colored', 'citizen', 'is', 'granted', 'his', 'citizenship', 'rights', 'the', 'whirlwinds', 'of', 'revolt', 'will', 'continue', 'to', 'shake', 'the', 'foundations', 'of', 'our', 'nation', 'until', 'the', 'bright', 'day', 'of', 'justice', 'emerges', 'we', 'can', 'never', 'be', 'satisfied', 'as', 'long', 'as', 'our', 'bodies', 'heavy', 'with', 'the', 'fatigue', 'of', 'travel', 'cannot', 'gain', 'lodging', 'in', 'the', 'motels', 'of', 'the', 'highways', 'and', 'the', 'hotels', 'of', 'the', 'cities', 'we', 'cannot', 'be', 'satisfied', 'as', 'long', 'as', 'the', 'colored', 'persons', 'basic', 'mobility', 'is', 'from', 'a', 'smaller', 'ghetto', 'to', 'a', 'larger', 'one', 'we', 'can', 'never', 'be', 'satisfied', 'as', 'long', 'as', 'our', 'children', 'are', 'stripped', 'of', 'their', 'selfhood', 'and', 'robbed', 'of', 'their', 'dignity', 'by', 'signs', 'stating', 'for', 'white', 'only', 'we', 'cannot', 'be', 'satisfied', 'as', 'long', 'as', 'a', 'colored', 'person', 'in', 'mississippi', 'cannot', 'vote', 'and', 'a', 'colored', 'person', 'in', 'new', 'york', 'believes', 'he', 'has', 'nothing', 'for', 'which', 'to', 'vote', 'no', 'no', 'we', 'are', 'not', 'satisfied', 'and', 'we', 'will', 'not', 'be', 'satisfied', 'until', 'justice', 'rolls', 'down', 'like', 'waters', 'and', 'righteousness', 'like', 'a', 'mighty', 'stream', 'i', 'am', 'not', 'unmindful', 'that', 'some', 'of', 'you', 'have', 'come', 'here', 'out', 'of', 'your', 'trials', 'and', 'tribulations', 'some', 'of', 'you', 'have', 'come', 'from', 'areas', 'where', 'your', 'quest', 'for', 'freedom', 'left', 'you', 'battered', 'by', 'storms', 'of', 'persecutions', 'and', 'staggered', 'by', 'the', 'winds', 'of', 'police', 'brutality', 'you', 'have', 'been', 'the', 'veterans', 'of', 'creative', 'suffering', 'continue', 'to', 'work', 'with', 'the', 'faith', 'that', 'unearned', 'suffering', 'is', 'redemptive', 'go', 'back', 'to', 'mississippi', 'go', 'back', 'to', 'alabama', 'go', 'back', 'to', 'south', 'carolina', 'go', 'back', 'to', 'georgia', 'go', 'back', 'to', 'louisiana', 'go', 'back', 'to', 'the', 'slums', 'and', 'ghettos', 'of', 'our', 'modern', 'cities', 'knowing', 'that', 'somehow', 'this', 'situation', 'can', 'and', 'will', 'be', 'changed', 'let', 'us', 'not', 'wallow', 'in', 'the', 'valley', 'of', 'despair', 'i', 'say', 'to', 'you', 'my', 'friends', 'we', 'have', 'the', 'difficulties', 'of', 'today', 'and', 'tomorrow', 'i', 'still', 'have', 'a', 'dream', 'it', 'is', 'a', 'dream', 'deeply', 'rooted', 'in', 'the', 'american', 'dream', 'i', 'have', 'a', 'dream', 'that', 'one', 'day', 'this', 'nation', 'will', 'rise', 'up', 'and', 'live', 'out', 'the', 'true', 'meaning', 'of', 'its', 'creed', 'we', 'hold', 'these', 'truths', 'to', 'be', 'selfevident', 'that', 'all', 'men', 'are', 'created', 'equal', 'i', 'have', 'a', 'dream', 'that', 'one', 'day', 'out', 'in', 'the', 'red', 'hills', 'of', 'georgia', 'the', 'sons', 'of', 'former', 'slaves', 'and', 'the', 'sons', 'of', 'former', 'slaveowners', 'will', 'be', 'able', 'to', 'sit', 'down', 'together', 'at', 'the', 'table', 'of', 'brotherhood', 'i', 'have', 'a', 'dream', 'that', 'one', 'day', 'even', 'the', 'state', 'of', 'mississippi', 'a', 'state', 'sweltering', 'with', 'the', 'heat', 'of', 'oppression', 'will', 'be', 'transformed', 'into', 'an', 'oasis', 'of', 'freedom', 'and', 'justice', 'i', 'have', 'a', 'dream', 'that', 'my', 'four', 'little', 'children', 'will', 'one', 'day', 'live', 'in', 'a', 'nation', 'where', 'they', 'will', 'not', 'be', 'judged', 'by', 'the', 'color', 'of', 'their', 'skin', 'but', 'by', 'their', 'character', 'i', 'have', 'a', 'dream', 'today', 'i', 'have', 'a', 'dream', 'that', 'one', 'day', 'down', 'in', 'alabama', 'with', 'its', 'vicious', 'racists', 'with', 'its', 'governor', 'having', 'his', 'lips', 'dripping', 'with', 'the', 'words', 'of', 'interposition', 'and', 'nullification', 'that', 'one', 'day', 'right', 'down', 'in', 'alabama', 'little', 'black', 'boys', 'and', 'black', 'girls', 'will', 'be', 'able', 'to', 'join', 'hands', 'with', 'little', 'white', 'boys', 'and', 'white', 'girls', 'as', 'sisters', 'and', 'brothers', 'i', 'have', 'a', 'dream', 'today', 'i', 'have', 'a', 'dream', 'that', 'one', 'day', 'every', 'valley', 'shall', 'be', 'engulfed', 'every', 'hill', 'shall', 'be', 'exalted', 'and', 'every', 'mountain', 'shall', 'be', 'made', 'low', 'the', 'rough', 'places', 'will', 'be', 'made', 'plains', 'and', 'the', 'crooked', 'places', 'will', 'be', 'made', 'straight', 'and', 'the', 'glory', 'of', 'the', 'lord', 'shall', 'be', 'revealed', 'and', 'all', 'flesh', 'shall', 'see', 'it', 'together', 'this', 'is', 'our', 'hope', 'this', 'is', 'the', 'faith', 'that', 'i', 'will', 'go', 'back', 'to', 'the', 'south', 'with', 'with', 'this', 'faith', 'we', 'will', 'be', 'able', 'to', 'hew', 'out', 'of', 'the', 'mountain', 'of', 'despair', 'a', 'stone', 'of', 'hope', 'with', 'this', 'faith', 'we', 'will', 'be', 'able', 'to', 'transform', 'the', 'jangling', 'discords', 'of', 'our', 'nation', 'into', 'a', 'beautiful', 'symphony', 'of', 'brotherhood', 'with', 'this', 'faith', 'we', 'will', 'be', 'able', 'to', 'work', 'together', 'to', 'pray', 'together', 'to', 'struggle', 'together', 'to', 'go', 'to', 'jail', 'together', 'to', 'climb', 'up', 'for', 'freedom', 'together', 'knowing', 'that', 'we', 'will', 'be', 'free', 'one', 'day', 'this', 'will', 'be', 'the', 'day', 'when', 'all', 'of', 'gods', 'children', 'will', 'be', 'able', 'to', 'sing', 'with', 'new', 'meaning', 'my', 'country', 'tis', 'of', 'thee', 'sweet', 'land', 'of', 'liberty', 'of', 'thee', 'i', 'sing', 'land', 'where', 'my', 'fathers', 'died', 'land', 'of', 'the', 'pilgrims', 'pride', 'from', 'every', 'mountainside', 'let', 'freedom', 'ring', 'and', 'if', 'america', 'is', 'to', 'be', 'a', 'great', 'nation', 'this', 'must', 'become', 'true', 'so', 'let', 'freedom', 'ring', 'from', 'the', 'hilltops', 'of', 'new', 'hampshire', 'let', 'freedom', 'ring', 'from', 'the', 'mighty', 'mountains', 'of', 'new', 'york', 'let', 'freedom', 'ring', 'from', 'the', 'heightening', 'alleghenies', 'of', 'pennsylvania', 'let', 'freedom', 'ring', 'from', 'the', 'snowcapped', 'rockies', 'of', 'colorado', 'let', 'freedom', 'ring', 'from', 'the', 'curvaceous', 'slopes', 'of', 'california', 'but', 'not', 'only', 'that', 'let', 'freedom', 'ring', 'from', 'stone', 'mountain', 'of', 'georgia', 'let', 'freedom', 'ring', 'from', 'every', 'hill', 'and', 'molehill', 'of', 'mississippi', 'and', 'every', 'mountainside', 'when', 'we', 'let', 'freedom', 'ring', 'when', 'we', 'let', 'it', 'ring', 'from', 'every', 'tenement', 'and', 'every', 'hamlet', 'from', 'every', 'state', 'and', 'every', 'city', 'we', 'will', 'be', 'able', 'to', 'speed', 'up', 'that', 'day', 'when', 'all', 'of', 'gods', 'children', 'black', 'men', 'and', 'white', 'men', 'jews', 'and', 'gentiles', 'protestants', 'and', 'catholics', 'will', 'be', 'able', 'to', 'join', 'hands', 'and', 'sing', 'in', 'the', 'words', 'of', 'the', 'old', 'spiritual', 'free', 'at', 'last', 'free', 'at', 'last', 'thank', 'god', 'almighty', 'we', 'are', 'free', 'at', 'last']\n"
     ]
    }
   ],
   "source": [
    "text = create_text()\n",
    "print(text)"
   ]
  },
  {
   "cell_type": "code",
   "execution_count": 5,
   "metadata": {},
   "outputs": [],
   "source": [
    "def generate_data(text, context_window):\n",
    "    \"\"\"\n",
    "    This function receives the text and context window size.\n",
    "    It produces four outputs:\n",
    "    - vocab, a set containing the words found in text.txt,\n",
    "    without any doublons,\n",
    "    - word2index, a dictionary to convert words to their integer index,\n",
    "    - index2word, a dictionary to convert integer index to their respective words,\n",
    "    - data, containing our (x,y) pairs for training.\n",
    "    \"\"\"\n",
    "    \n",
    "    # Create vocabulary set V\n",
    "    vocab = set(text)\n",
    "    \n",
    "    # Word to index and index 2 word converters\n",
    "    word2index = {w:i for i,w in enumerate(vocab)}\n",
    "    index2word = {i:w for i,w in enumerate(vocab)}\n",
    "    \n",
    "    # Generate data\n",
    "    data = text_to_train(text, context_window)\n",
    "    \n",
    "    return vocab, data, word2index, index2word"
   ]
  },
  {
   "cell_type": "code",
   "execution_count": 6,
   "metadata": {},
   "outputs": [],
   "source": [
    "vocab, data, word2index, index2word = generate_data(text, context_window = 2)"
   ]
  },
  {
   "cell_type": "code",
   "execution_count": 7,
   "metadata": {},
   "outputs": [
    {
     "name": "stdout",
     "output_type": "stream",
     "text": [
      "{'cash', 'god', 'governor', 'was', 'engulfed', 'gentiles', 'one', 'stating', 'declaration', 'redemptive', 'valley', 'heavy', 'dignity', 'brutality', 'fatigue', 'pride', 'slaves', 'their', 'rude', 'unmindful', 'old', 'suffering', 'can', 'material', 'has', 'spot', 'he', 'louisiana', 'democracy', 'lonely', 'up', 'must', 'this', 'defaulted', 'no', 'languishing', 'lips', 'true', 'lord', 'never', 'will', 'last', 'california', 'transform', 'heat', 'captivity', 'vote', 'been', 'hampshire', 'to', 'citizen', 'now', 'sunlit', 'still', 'gain', 'am', 'us', 'creed', 'bad', 'moment', 'night', 'storms', 'opportunity', 'not', 'segregation', 'south', 'my', 'revealed', 'these', 'be', 'here', 'liberty', 'struggle', 'smaller', 'dream', 'citizenship', 'cities', 'rough', 'shadow', 'given', 'mississippi', 'proclamation', 'flesh', 'symphony', 'funds', 'speed', 'quest', 'midst', 'foundations', 'joyous', 'come', 'seared', 'together', 'plains', 'tenement', 'make', 'check', 'island', 'into', 'reality', 'interposition', 'judged', 'slopes', 'ago', 'constitution', 'discontent', 'basic', 'returns', 'your', 'georgia', 'red', 'tomorrow', 'unearned', 'nations', 'have', 'finds', 'persons', 'sense', 'business', 'jangling', 'emancipation', 'made', 'at', 'live', 'state', 'long', 'history', 'gradualism', 'like', 'straight', 'curvaceous', 'her', 'rolls', 'hill', 'wallow', 'desolate', 'selfevident', 'whirlwinds', 'symbolic', 'nothing', 'when', 'thank', 'usual', 'little', 'if', 'travel', 'architects', 'stream', 'satisfied', 'jail', 'marked', 'society', 'chains', 'from', 'out', 'despair', 'luxury', 'changed', 'beautiful', 'nation', 'american', 'winds', 'greatest', 'sit', 'of', 'protestants', 'what', 'happy', 'thee', 'capital', 'dripping', 'city', 'modern', 'lives', 'nineteen', 'become', 'some', 'bodies', 'sweet', 'down', 'catholics', 'tranquility', 'peoples', 'men', 'invigorating', 'millions', 'low', 'an', 'pass', 'manacle', 'we', 'having', 'its', 'every', 'selfhood', 'rise', 'summer', 'fall', 'york', 'refuse', 'alabama', 'police', 'pursuit', 'say', 'only', 'honoring', 'vaults', 'motels', 'with', 'condition', 'believes', 'hotels', 'nullification', 'flames', 'jews', 'molehill', 'determination', 'pray', 'all', 'i', 'years', 'riches', 'hundred', 'also', 'slaveowners', 'believe', 'gods', 'difficulties', 'shameful', 'hilltops', 'hallowed', 'instead', 'girls', 'it', 'dark', 'former', 'discords', 'promise', 'white', 'people', 'waters', 'inalienable', 'even', 'see', 'deeply', 'hamlet', 'sisters', 'crippled', 'highways', 'areas', 'were', 'hope', 'himself', 'they', 'hands', 'obvious', 'rock', 'content', 'promissory', 'righteousness', 'transformed', 'go', 'on', 'land', 'bankrupt', 'country', 'mighty', 'granted', 'own', 'note', 'places', 'sing', 'vicious', 'equal', 'whithering', 'those', 'his', 'for', 'character', 'the', 'by', 'mountainside', 'later', 'legitimate', 'stripped', 'creative', 'our', 'free', 'cooling', 'hold', 'today', 'solid', 'shake', 'stand', 'glory', 'give', 'continue', 'faith', 'demonstration', 'back', 'brotherhood', 'bank', 'trials', 'magnificent', 'day', 'had', 'as', 'rooted', 'climb', 'would', 'pilgrims', 'whose', 'pennsylvania', 'battered', 'which', 'cannot', 'snowcapped', 'america', 'you', 'beacon', 'rights', 'momentous', 'exalted', 'equality', 'meaning', 'robbed', 'overlook', 'stone', 'drug', 'steam', 'prosperity', 'right', 'demand', 'yes', 'sons', 'injustice', 'words', 'republic', 'crooked', 'discrimination', 'staggered', 'boys', 'larger', 'rest', 'security', 'tranquilizing', 'needed', 'justice', 'fathers', 'four', 'dramatize', 'join', 'bright', 'remind', 'carolina', 'and', 'slums', 'five', 'ghettos', 'poverty', 'revolt', 'table', 'shall', 'alleghenies', 'off', 'insofar', 'so', 'racists', 'score', 'neither', 'blow', 'hills', 'sacred', 'underestimate', 'daybreak', 'urgency', 'until', 'heightening', 'in', 'mountains', 'nor', 'well', 'emerges', 'veterans', 'created', 'work', 'lodging', 'spiritual', 'died', 'vast', 'situation', 'americans', 'let', 'but', 'are', 'signed', 'mountain', 'insufficient', 'black', 'oasis', 'is', 'fierce', 'take', 'ghetto', 'signs', 'decree', 'rockies', 'guaranteed', 'corners', 'beginning', 'upon', 'knowing', 'concerned', 'came', 'signing', 'freedom', 'wrote', 'or', 'who', 'fatal', 'autumn', 'ring', 'ocean', 'colored', 'path', 'real', 'engage', 'color', 'where', 'sadly', 'that', 'tribulations', 'a', 'oppression', 'quicksand', 'mobility', 'obligation', 'sweltering', 'somehow', 'tis', 'independence', 'persecutions', 'person', 'hew', 'there', 'happiness', 'end', 'brothers', 'left', 'racial', 'citizens', 'exile', 'time', 'children', 'awakening', 'sixtythree', 'new', 'skin', 'colorado', 'great', 'almighty', 'lift', 'friends', 'truths', 'heir', 'life', 'able'}\n"
     ]
    }
   ],
   "source": [
    "print(vocab)"
   ]
  },
  {
   "cell_type": "code",
   "execution_count": 8,
   "metadata": {},
   "outputs": [
    {
     "name": "stdout",
     "output_type": "stream",
     "text": [
      "{'cash': 0, 'god': 1, 'governor': 2, 'was': 3, 'engulfed': 4, 'gentiles': 5, 'one': 6, 'stating': 7, 'declaration': 8, 'redemptive': 9, 'valley': 10, 'heavy': 11, 'dignity': 12, 'brutality': 13, 'fatigue': 14, 'pride': 15, 'slaves': 16, 'their': 17, 'rude': 18, 'unmindful': 19, 'old': 20, 'suffering': 21, 'can': 22, 'material': 23, 'has': 24, 'spot': 25, 'he': 26, 'louisiana': 27, 'democracy': 28, 'lonely': 29, 'up': 30, 'must': 31, 'this': 32, 'defaulted': 33, 'no': 34, 'languishing': 35, 'lips': 36, 'true': 37, 'lord': 38, 'never': 39, 'will': 40, 'last': 41, 'california': 42, 'transform': 43, 'heat': 44, 'captivity': 45, 'vote': 46, 'been': 47, 'hampshire': 48, 'to': 49, 'citizen': 50, 'now': 51, 'sunlit': 52, 'still': 53, 'gain': 54, 'am': 55, 'us': 56, 'creed': 57, 'bad': 58, 'moment': 59, 'night': 60, 'storms': 61, 'opportunity': 62, 'not': 63, 'segregation': 64, 'south': 65, 'my': 66, 'revealed': 67, 'these': 68, 'be': 69, 'here': 70, 'liberty': 71, 'struggle': 72, 'smaller': 73, 'dream': 74, 'citizenship': 75, 'cities': 76, 'rough': 77, 'shadow': 78, 'given': 79, 'mississippi': 80, 'proclamation': 81, 'flesh': 82, 'symphony': 83, 'funds': 84, 'speed': 85, 'quest': 86, 'midst': 87, 'foundations': 88, 'joyous': 89, 'come': 90, 'seared': 91, 'together': 92, 'plains': 93, 'tenement': 94, 'make': 95, 'check': 96, 'island': 97, 'into': 98, 'reality': 99, 'interposition': 100, 'judged': 101, 'slopes': 102, 'ago': 103, 'constitution': 104, 'discontent': 105, 'basic': 106, 'returns': 107, 'your': 108, 'georgia': 109, 'red': 110, 'tomorrow': 111, 'unearned': 112, 'nations': 113, 'have': 114, 'finds': 115, 'persons': 116, 'sense': 117, 'business': 118, 'jangling': 119, 'emancipation': 120, 'made': 121, 'at': 122, 'live': 123, 'state': 124, 'long': 125, 'history': 126, 'gradualism': 127, 'like': 128, 'straight': 129, 'curvaceous': 130, 'her': 131, 'rolls': 132, 'hill': 133, 'wallow': 134, 'desolate': 135, 'selfevident': 136, 'whirlwinds': 137, 'symbolic': 138, 'nothing': 139, 'when': 140, 'thank': 141, 'usual': 142, 'little': 143, 'if': 144, 'travel': 145, 'architects': 146, 'stream': 147, 'satisfied': 148, 'jail': 149, 'marked': 150, 'society': 151, 'chains': 152, 'from': 153, 'out': 154, 'despair': 155, 'luxury': 156, 'changed': 157, 'beautiful': 158, 'nation': 159, 'american': 160, 'winds': 161, 'greatest': 162, 'sit': 163, 'of': 164, 'protestants': 165, 'what': 166, 'happy': 167, 'thee': 168, 'capital': 169, 'dripping': 170, 'city': 171, 'modern': 172, 'lives': 173, 'nineteen': 174, 'become': 175, 'some': 176, 'bodies': 177, 'sweet': 178, 'down': 179, 'catholics': 180, 'tranquility': 181, 'peoples': 182, 'men': 183, 'invigorating': 184, 'millions': 185, 'low': 186, 'an': 187, 'pass': 188, 'manacle': 189, 'we': 190, 'having': 191, 'its': 192, 'every': 193, 'selfhood': 194, 'rise': 195, 'summer': 196, 'fall': 197, 'york': 198, 'refuse': 199, 'alabama': 200, 'police': 201, 'pursuit': 202, 'say': 203, 'only': 204, 'honoring': 205, 'vaults': 206, 'motels': 207, 'with': 208, 'condition': 209, 'believes': 210, 'hotels': 211, 'nullification': 212, 'flames': 213, 'jews': 214, 'molehill': 215, 'determination': 216, 'pray': 217, 'all': 218, 'i': 219, 'years': 220, 'riches': 221, 'hundred': 222, 'also': 223, 'slaveowners': 224, 'believe': 225, 'gods': 226, 'difficulties': 227, 'shameful': 228, 'hilltops': 229, 'hallowed': 230, 'instead': 231, 'girls': 232, 'it': 233, 'dark': 234, 'former': 235, 'discords': 236, 'promise': 237, 'white': 238, 'people': 239, 'waters': 240, 'inalienable': 241, 'even': 242, 'see': 243, 'deeply': 244, 'hamlet': 245, 'sisters': 246, 'crippled': 247, 'highways': 248, 'areas': 249, 'were': 250, 'hope': 251, 'himself': 252, 'they': 253, 'hands': 254, 'obvious': 255, 'rock': 256, 'content': 257, 'promissory': 258, 'righteousness': 259, 'transformed': 260, 'go': 261, 'on': 262, 'land': 263, 'bankrupt': 264, 'country': 265, 'mighty': 266, 'granted': 267, 'own': 268, 'note': 269, 'places': 270, 'sing': 271, 'vicious': 272, 'equal': 273, 'whithering': 274, 'those': 275, 'his': 276, 'for': 277, 'character': 278, 'the': 279, 'by': 280, 'mountainside': 281, 'later': 282, 'legitimate': 283, 'stripped': 284, 'creative': 285, 'our': 286, 'free': 287, 'cooling': 288, 'hold': 289, 'today': 290, 'solid': 291, 'shake': 292, 'stand': 293, 'glory': 294, 'give': 295, 'continue': 296, 'faith': 297, 'demonstration': 298, 'back': 299, 'brotherhood': 300, 'bank': 301, 'trials': 302, 'magnificent': 303, 'day': 304, 'had': 305, 'as': 306, 'rooted': 307, 'climb': 308, 'would': 309, 'pilgrims': 310, 'whose': 311, 'pennsylvania': 312, 'battered': 313, 'which': 314, 'cannot': 315, 'snowcapped': 316, 'america': 317, 'you': 318, 'beacon': 319, 'rights': 320, 'momentous': 321, 'exalted': 322, 'equality': 323, 'meaning': 324, 'robbed': 325, 'overlook': 326, 'stone': 327, 'drug': 328, 'steam': 329, 'prosperity': 330, 'right': 331, 'demand': 332, 'yes': 333, 'sons': 334, 'injustice': 335, 'words': 336, 'republic': 337, 'crooked': 338, 'discrimination': 339, 'staggered': 340, 'boys': 341, 'larger': 342, 'rest': 343, 'security': 344, 'tranquilizing': 345, 'needed': 346, 'justice': 347, 'fathers': 348, 'four': 349, 'dramatize': 350, 'join': 351, 'bright': 352, 'remind': 353, 'carolina': 354, 'and': 355, 'slums': 356, 'five': 357, 'ghettos': 358, 'poverty': 359, 'revolt': 360, 'table': 361, 'shall': 362, 'alleghenies': 363, 'off': 364, 'insofar': 365, 'so': 366, 'racists': 367, 'score': 368, 'neither': 369, 'blow': 370, 'hills': 371, 'sacred': 372, 'underestimate': 373, 'daybreak': 374, 'urgency': 375, 'until': 376, 'heightening': 377, 'in': 378, 'mountains': 379, 'nor': 380, 'well': 381, 'emerges': 382, 'veterans': 383, 'created': 384, 'work': 385, 'lodging': 386, 'spiritual': 387, 'died': 388, 'vast': 389, 'situation': 390, 'americans': 391, 'let': 392, 'but': 393, 'are': 394, 'signed': 395, 'mountain': 396, 'insufficient': 397, 'black': 398, 'oasis': 399, 'is': 400, 'fierce': 401, 'take': 402, 'ghetto': 403, 'signs': 404, 'decree': 405, 'rockies': 406, 'guaranteed': 407, 'corners': 408, 'beginning': 409, 'upon': 410, 'knowing': 411, 'concerned': 412, 'came': 413, 'signing': 414, 'freedom': 415, 'wrote': 416, 'or': 417, 'who': 418, 'fatal': 419, 'autumn': 420, 'ring': 421, 'ocean': 422, 'colored': 423, 'path': 424, 'real': 425, 'engage': 426, 'color': 427, 'where': 428, 'sadly': 429, 'that': 430, 'tribulations': 431, 'a': 432, 'oppression': 433, 'quicksand': 434, 'mobility': 435, 'obligation': 436, 'sweltering': 437, 'somehow': 438, 'tis': 439, 'independence': 440, 'persecutions': 441, 'person': 442, 'hew': 443, 'there': 444, 'happiness': 445, 'end': 446, 'brothers': 447, 'left': 448, 'racial': 449, 'citizens': 450, 'exile': 451, 'time': 452, 'children': 453, 'awakening': 454, 'sixtythree': 455, 'new': 456, 'skin': 457, 'colorado': 458, 'great': 459, 'almighty': 460, 'lift': 461, 'friends': 462, 'truths': 463, 'heir': 464, 'life': 465, 'able': 466}\n"
     ]
    }
   ],
   "source": [
    "print(word2index)"
   ]
  },
  {
   "cell_type": "code",
   "execution_count": 9,
   "metadata": {},
   "outputs": [
    {
     "name": "stdout",
     "output_type": "stream",
     "text": [
      "{0: 'cash', 1: 'god', 2: 'governor', 3: 'was', 4: 'engulfed', 5: 'gentiles', 6: 'one', 7: 'stating', 8: 'declaration', 9: 'redemptive', 10: 'valley', 11: 'heavy', 12: 'dignity', 13: 'brutality', 14: 'fatigue', 15: 'pride', 16: 'slaves', 17: 'their', 18: 'rude', 19: 'unmindful', 20: 'old', 21: 'suffering', 22: 'can', 23: 'material', 24: 'has', 25: 'spot', 26: 'he', 27: 'louisiana', 28: 'democracy', 29: 'lonely', 30: 'up', 31: 'must', 32: 'this', 33: 'defaulted', 34: 'no', 35: 'languishing', 36: 'lips', 37: 'true', 38: 'lord', 39: 'never', 40: 'will', 41: 'last', 42: 'california', 43: 'transform', 44: 'heat', 45: 'captivity', 46: 'vote', 47: 'been', 48: 'hampshire', 49: 'to', 50: 'citizen', 51: 'now', 52: 'sunlit', 53: 'still', 54: 'gain', 55: 'am', 56: 'us', 57: 'creed', 58: 'bad', 59: 'moment', 60: 'night', 61: 'storms', 62: 'opportunity', 63: 'not', 64: 'segregation', 65: 'south', 66: 'my', 67: 'revealed', 68: 'these', 69: 'be', 70: 'here', 71: 'liberty', 72: 'struggle', 73: 'smaller', 74: 'dream', 75: 'citizenship', 76: 'cities', 77: 'rough', 78: 'shadow', 79: 'given', 80: 'mississippi', 81: 'proclamation', 82: 'flesh', 83: 'symphony', 84: 'funds', 85: 'speed', 86: 'quest', 87: 'midst', 88: 'foundations', 89: 'joyous', 90: 'come', 91: 'seared', 92: 'together', 93: 'plains', 94: 'tenement', 95: 'make', 96: 'check', 97: 'island', 98: 'into', 99: 'reality', 100: 'interposition', 101: 'judged', 102: 'slopes', 103: 'ago', 104: 'constitution', 105: 'discontent', 106: 'basic', 107: 'returns', 108: 'your', 109: 'georgia', 110: 'red', 111: 'tomorrow', 112: 'unearned', 113: 'nations', 114: 'have', 115: 'finds', 116: 'persons', 117: 'sense', 118: 'business', 119: 'jangling', 120: 'emancipation', 121: 'made', 122: 'at', 123: 'live', 124: 'state', 125: 'long', 126: 'history', 127: 'gradualism', 128: 'like', 129: 'straight', 130: 'curvaceous', 131: 'her', 132: 'rolls', 133: 'hill', 134: 'wallow', 135: 'desolate', 136: 'selfevident', 137: 'whirlwinds', 138: 'symbolic', 139: 'nothing', 140: 'when', 141: 'thank', 142: 'usual', 143: 'little', 144: 'if', 145: 'travel', 146: 'architects', 147: 'stream', 148: 'satisfied', 149: 'jail', 150: 'marked', 151: 'society', 152: 'chains', 153: 'from', 154: 'out', 155: 'despair', 156: 'luxury', 157: 'changed', 158: 'beautiful', 159: 'nation', 160: 'american', 161: 'winds', 162: 'greatest', 163: 'sit', 164: 'of', 165: 'protestants', 166: 'what', 167: 'happy', 168: 'thee', 169: 'capital', 170: 'dripping', 171: 'city', 172: 'modern', 173: 'lives', 174: 'nineteen', 175: 'become', 176: 'some', 177: 'bodies', 178: 'sweet', 179: 'down', 180: 'catholics', 181: 'tranquility', 182: 'peoples', 183: 'men', 184: 'invigorating', 185: 'millions', 186: 'low', 187: 'an', 188: 'pass', 189: 'manacle', 190: 'we', 191: 'having', 192: 'its', 193: 'every', 194: 'selfhood', 195: 'rise', 196: 'summer', 197: 'fall', 198: 'york', 199: 'refuse', 200: 'alabama', 201: 'police', 202: 'pursuit', 203: 'say', 204: 'only', 205: 'honoring', 206: 'vaults', 207: 'motels', 208: 'with', 209: 'condition', 210: 'believes', 211: 'hotels', 212: 'nullification', 213: 'flames', 214: 'jews', 215: 'molehill', 216: 'determination', 217: 'pray', 218: 'all', 219: 'i', 220: 'years', 221: 'riches', 222: 'hundred', 223: 'also', 224: 'slaveowners', 225: 'believe', 226: 'gods', 227: 'difficulties', 228: 'shameful', 229: 'hilltops', 230: 'hallowed', 231: 'instead', 232: 'girls', 233: 'it', 234: 'dark', 235: 'former', 236: 'discords', 237: 'promise', 238: 'white', 239: 'people', 240: 'waters', 241: 'inalienable', 242: 'even', 243: 'see', 244: 'deeply', 245: 'hamlet', 246: 'sisters', 247: 'crippled', 248: 'highways', 249: 'areas', 250: 'were', 251: 'hope', 252: 'himself', 253: 'they', 254: 'hands', 255: 'obvious', 256: 'rock', 257: 'content', 258: 'promissory', 259: 'righteousness', 260: 'transformed', 261: 'go', 262: 'on', 263: 'land', 264: 'bankrupt', 265: 'country', 266: 'mighty', 267: 'granted', 268: 'own', 269: 'note', 270: 'places', 271: 'sing', 272: 'vicious', 273: 'equal', 274: 'whithering', 275: 'those', 276: 'his', 277: 'for', 278: 'character', 279: 'the', 280: 'by', 281: 'mountainside', 282: 'later', 283: 'legitimate', 284: 'stripped', 285: 'creative', 286: 'our', 287: 'free', 288: 'cooling', 289: 'hold', 290: 'today', 291: 'solid', 292: 'shake', 293: 'stand', 294: 'glory', 295: 'give', 296: 'continue', 297: 'faith', 298: 'demonstration', 299: 'back', 300: 'brotherhood', 301: 'bank', 302: 'trials', 303: 'magnificent', 304: 'day', 305: 'had', 306: 'as', 307: 'rooted', 308: 'climb', 309: 'would', 310: 'pilgrims', 311: 'whose', 312: 'pennsylvania', 313: 'battered', 314: 'which', 315: 'cannot', 316: 'snowcapped', 317: 'america', 318: 'you', 319: 'beacon', 320: 'rights', 321: 'momentous', 322: 'exalted', 323: 'equality', 324: 'meaning', 325: 'robbed', 326: 'overlook', 327: 'stone', 328: 'drug', 329: 'steam', 330: 'prosperity', 331: 'right', 332: 'demand', 333: 'yes', 334: 'sons', 335: 'injustice', 336: 'words', 337: 'republic', 338: 'crooked', 339: 'discrimination', 340: 'staggered', 341: 'boys', 342: 'larger', 343: 'rest', 344: 'security', 345: 'tranquilizing', 346: 'needed', 347: 'justice', 348: 'fathers', 349: 'four', 350: 'dramatize', 351: 'join', 352: 'bright', 353: 'remind', 354: 'carolina', 355: 'and', 356: 'slums', 357: 'five', 358: 'ghettos', 359: 'poverty', 360: 'revolt', 361: 'table', 362: 'shall', 363: 'alleghenies', 364: 'off', 365: 'insofar', 366: 'so', 367: 'racists', 368: 'score', 369: 'neither', 370: 'blow', 371: 'hills', 372: 'sacred', 373: 'underestimate', 374: 'daybreak', 375: 'urgency', 376: 'until', 377: 'heightening', 378: 'in', 379: 'mountains', 380: 'nor', 381: 'well', 382: 'emerges', 383: 'veterans', 384: 'created', 385: 'work', 386: 'lodging', 387: 'spiritual', 388: 'died', 389: 'vast', 390: 'situation', 391: 'americans', 392: 'let', 393: 'but', 394: 'are', 395: 'signed', 396: 'mountain', 397: 'insufficient', 398: 'black', 399: 'oasis', 400: 'is', 401: 'fierce', 402: 'take', 403: 'ghetto', 404: 'signs', 405: 'decree', 406: 'rockies', 407: 'guaranteed', 408: 'corners', 409: 'beginning', 410: 'upon', 411: 'knowing', 412: 'concerned', 413: 'came', 414: 'signing', 415: 'freedom', 416: 'wrote', 417: 'or', 418: 'who', 419: 'fatal', 420: 'autumn', 421: 'ring', 422: 'ocean', 423: 'colored', 424: 'path', 425: 'real', 426: 'engage', 427: 'color', 428: 'where', 429: 'sadly', 430: 'that', 431: 'tribulations', 432: 'a', 433: 'oppression', 434: 'quicksand', 435: 'mobility', 436: 'obligation', 437: 'sweltering', 438: 'somehow', 439: 'tis', 440: 'independence', 441: 'persecutions', 442: 'person', 443: 'hew', 444: 'there', 445: 'happiness', 446: 'end', 447: 'brothers', 448: 'left', 449: 'racial', 450: 'citizens', 451: 'exile', 452: 'time', 453: 'children', 454: 'awakening', 455: 'sixtythree', 456: 'new', 457: 'skin', 458: 'colorado', 459: 'great', 460: 'almighty', 461: 'lift', 462: 'friends', 463: 'truths', 464: 'heir', 465: 'life', 466: 'able'}\n"
     ]
    }
   ],
   "source": [
    "print(index2word)"
   ]
  },
  {
   "cell_type": "code",
   "execution_count": 10,
   "metadata": {},
   "outputs": [
    {
     "name": "stdout",
     "output_type": "stream",
     "text": [
      "[('happy', ['i', 'am', 'to', 'join']), ('to', ['am', 'happy', 'join', 'with']), ('join', ['happy', 'to', 'with', 'you']), ('with', ['to', 'join', 'you', 'today']), ('you', ['join', 'with', 'today', 'in']), ('today', ['with', 'you', 'in', 'what']), ('in', ['you', 'today', 'what', 'will']), ('what', ['today', 'in', 'will', 'go']), ('will', ['in', 'what', 'go', 'down']), ('go', ['what', 'will', 'down', 'in']), ('down', ['will', 'go', 'in', 'history']), ('in', ['go', 'down', 'history', 'as']), ('history', ['down', 'in', 'as', 'the']), ('as', ['in', 'history', 'the', 'greatest']), ('the', ['history', 'as', 'greatest', 'demonstration']), ('greatest', ['as', 'the', 'demonstration', 'for']), ('demonstration', ['the', 'greatest', 'for', 'freedom']), ('for', ['greatest', 'demonstration', 'freedom', 'in']), ('freedom', ['demonstration', 'for', 'in', 'the']), ('in', ['for', 'freedom', 'the', 'history']), ('the', ['freedom', 'in', 'history', 'of']), ('history', ['in', 'the', 'of', 'our']), ('of', ['the', 'history', 'our', 'nation']), ('our', ['history', 'of', 'nation', 'five']), ('nation', ['of', 'our', 'five', 'score']), ('five', ['our', 'nation', 'score', 'years']), ('score', ['nation', 'five', 'years', 'ago']), ('years', ['five', 'score', 'ago', 'a']), ('ago', ['score', 'years', 'a', 'great']), ('a', ['years', 'ago', 'great', 'american']), ('great', ['ago', 'a', 'american', 'in']), ('american', ['a', 'great', 'in', 'whose']), ('in', ['great', 'american', 'whose', 'symbolic']), ('whose', ['american', 'in', 'symbolic', 'shadow']), ('symbolic', ['in', 'whose', 'shadow', 'we']), ('shadow', ['whose', 'symbolic', 'we', 'stand']), ('we', ['symbolic', 'shadow', 'stand', 'today']), ('stand', ['shadow', 'we', 'today', 'signed']), ('today', ['we', 'stand', 'signed', 'the']), ('signed', ['stand', 'today', 'the', 'emancipation']), ('the', ['today', 'signed', 'emancipation', 'proclamation']), ('emancipation', ['signed', 'the', 'proclamation', 'this']), ('proclamation', ['the', 'emancipation', 'this', 'momentous']), ('this', ['emancipation', 'proclamation', 'momentous', 'decree']), ('momentous', ['proclamation', 'this', 'decree', 'came']), ('decree', ['this', 'momentous', 'came', 'as']), ('came', ['momentous', 'decree', 'as', 'a']), ('as', ['decree', 'came', 'a', 'great']), ('a', ['came', 'as', 'great', 'beacon']), ('great', ['as', 'a', 'beacon', 'of']), ('beacon', ['a', 'great', 'of', 'hope']), ('of', ['great', 'beacon', 'hope', 'to']), ('hope', ['beacon', 'of', 'to', 'millions']), ('to', ['of', 'hope', 'millions', 'of']), ('millions', ['hope', 'to', 'of', 'slaves']), ('of', ['to', 'millions', 'slaves', 'who']), ('slaves', ['millions', 'of', 'who', 'had']), ('who', ['of', 'slaves', 'had', 'been']), ('had', ['slaves', 'who', 'been', 'seared']), ('been', ['who', 'had', 'seared', 'in']), ('seared', ['had', 'been', 'in', 'the']), ('in', ['been', 'seared', 'the', 'flames']), ('the', ['seared', 'in', 'flames', 'of']), ('flames', ['in', 'the', 'of', 'whithering']), ('of', ['the', 'flames', 'whithering', 'injustice']), ('whithering', ['flames', 'of', 'injustice', 'it']), ('injustice', ['of', 'whithering', 'it', 'came']), ('it', ['whithering', 'injustice', 'came', 'as']), ('came', ['injustice', 'it', 'as', 'a']), ('as', ['it', 'came', 'a', 'joyous']), ('a', ['came', 'as', 'joyous', 'daybreak']), ('joyous', ['as', 'a', 'daybreak', 'to']), ('daybreak', ['a', 'joyous', 'to', 'end']), ('to', ['joyous', 'daybreak', 'end', 'the']), ('end', ['daybreak', 'to', 'the', 'long']), ('the', ['to', 'end', 'long', 'night']), ('long', ['end', 'the', 'night', 'of']), ('night', ['the', 'long', 'of', 'their']), ('of', ['long', 'night', 'their', 'captivity']), ('their', ['night', 'of', 'captivity', 'but']), ('captivity', ['of', 'their', 'but', 'one']), ('but', ['their', 'captivity', 'one', 'hundred']), ('one', ['captivity', 'but', 'hundred', 'years']), ('hundred', ['but', 'one', 'years', 'later']), ('years', ['one', 'hundred', 'later', 'the']), ('later', ['hundred', 'years', 'the', 'colored']), ('the', ['years', 'later', 'colored', 'america']), ('colored', ['later', 'the', 'america', 'is']), ('america', ['the', 'colored', 'is', 'still']), ('is', ['colored', 'america', 'still', 'not']), ('still', ['america', 'is', 'not', 'free']), ('not', ['is', 'still', 'free', 'one']), ('free', ['still', 'not', 'one', 'hundred']), ('one', ['not', 'free', 'hundred', 'years']), ('hundred', ['free', 'one', 'years', 'later']), ('years', ['one', 'hundred', 'later', 'the']), ('later', ['hundred', 'years', 'the', 'life']), ('the', ['years', 'later', 'life', 'of']), ('life', ['later', 'the', 'of', 'the']), ('of', ['the', 'life', 'the', 'colored']), ('the', ['life', 'of', 'colored', 'american']), ('colored', ['of', 'the', 'american', 'is']), ('american', ['the', 'colored', 'is', 'still']), ('is', ['colored', 'american', 'still', 'sadly']), ('still', ['american', 'is', 'sadly', 'crippled']), ('sadly', ['is', 'still', 'crippled', 'by']), ('crippled', ['still', 'sadly', 'by', 'the']), ('by', ['sadly', 'crippled', 'the', 'manacle']), ('the', ['crippled', 'by', 'manacle', 'of']), ('manacle', ['by', 'the', 'of', 'segregation']), ('of', ['the', 'manacle', 'segregation', 'and']), ('segregation', ['manacle', 'of', 'and', 'the']), ('and', ['of', 'segregation', 'the', 'chains']), ('the', ['segregation', 'and', 'chains', 'of']), ('chains', ['and', 'the', 'of', 'discrimination']), ('of', ['the', 'chains', 'discrimination', 'one']), ('discrimination', ['chains', 'of', 'one', 'hundred']), ('one', ['of', 'discrimination', 'hundred', 'years']), ('hundred', ['discrimination', 'one', 'years', 'later']), ('years', ['one', 'hundred', 'later', 'the']), ('later', ['hundred', 'years', 'the', 'colored']), ('the', ['years', 'later', 'colored', 'american']), ('colored', ['later', 'the', 'american', 'lives']), ('american', ['the', 'colored', 'lives', 'on']), ('lives', ['colored', 'american', 'on', 'a']), ('on', ['american', 'lives', 'a', 'lonely']), ('a', ['lives', 'on', 'lonely', 'island']), ('lonely', ['on', 'a', 'island', 'of']), ('island', ['a', 'lonely', 'of', 'poverty']), ('of', ['lonely', 'island', 'poverty', 'in']), ('poverty', ['island', 'of', 'in', 'the']), ('in', ['of', 'poverty', 'the', 'midst']), ('the', ['poverty', 'in', 'midst', 'of']), ('midst', ['in', 'the', 'of', 'a']), ('of', ['the', 'midst', 'a', 'vast']), ('a', ['midst', 'of', 'vast', 'ocean']), ('vast', ['of', 'a', 'ocean', 'of']), ('ocean', ['a', 'vast', 'of', 'material']), ('of', ['vast', 'ocean', 'material', 'prosperity']), ('material', ['ocean', 'of', 'prosperity', 'one']), ('prosperity', ['of', 'material', 'one', 'hundred']), ('one', ['material', 'prosperity', 'hundred', 'years']), ('hundred', ['prosperity', 'one', 'years', 'later']), ('years', ['one', 'hundred', 'later', 'the']), ('later', ['hundred', 'years', 'the', 'colored']), ('the', ['years', 'later', 'colored', 'american']), ('colored', ['later', 'the', 'american', 'is']), ('american', ['the', 'colored', 'is', 'still']), ('is', ['colored', 'american', 'still', 'languishing']), ('still', ['american', 'is', 'languishing', 'in']), ('languishing', ['is', 'still', 'in', 'the']), ('in', ['still', 'languishing', 'the', 'corners']), ('the', ['languishing', 'in', 'corners', 'of']), ('corners', ['in', 'the', 'of', 'american']), ('of', ['the', 'corners', 'american', 'society']), ('american', ['corners', 'of', 'society', 'and']), ('society', ['of', 'american', 'and', 'finds']), ('and', ['american', 'society', 'finds', 'himself']), ('finds', ['society', 'and', 'himself', 'an']), ('himself', ['and', 'finds', 'an', 'exile']), ('an', ['finds', 'himself', 'exile', 'in']), ('exile', ['himself', 'an', 'in', 'his']), ('in', ['an', 'exile', 'his', 'own']), ('his', ['exile', 'in', 'own', 'land']), ('own', ['in', 'his', 'land', 'so']), ('land', ['his', 'own', 'so', 'we']), ('so', ['own', 'land', 'we', 'have']), ('we', ['land', 'so', 'have', 'come']), ('have', ['so', 'we', 'come', 'here']), ('come', ['we', 'have', 'here', 'today']), ('here', ['have', 'come', 'today', 'to']), ('today', ['come', 'here', 'to', 'dramatize']), ('to', ['here', 'today', 'dramatize', 'a']), ('dramatize', ['today', 'to', 'a', 'shameful']), ('a', ['to', 'dramatize', 'shameful', 'condition']), ('shameful', ['dramatize', 'a', 'condition', 'in']), ('condition', ['a', 'shameful', 'in', 'a']), ('in', ['shameful', 'condition', 'a', 'sense']), ('a', ['condition', 'in', 'sense', 'we']), ('sense', ['in', 'a', 'we', 'have']), ('we', ['a', 'sense', 'have', 'come']), ('have', ['sense', 'we', 'come', 'to']), ('come', ['we', 'have', 'to', 'our']), ('to', ['have', 'come', 'our', 'nations']), ('our', ['come', 'to', 'nations', 'capital']), ('nations', ['to', 'our', 'capital', 'to']), ('capital', ['our', 'nations', 'to', 'cash']), ('to', ['nations', 'capital', 'cash', 'a']), ('cash', ['capital', 'to', 'a', 'check']), ('a', ['to', 'cash', 'check', 'when']), ('check', ['cash', 'a', 'when', 'the']), ('when', ['a', 'check', 'the', 'architects']), ('the', ['check', 'when', 'architects', 'of']), ('architects', ['when', 'the', 'of', 'our']), ('of', ['the', 'architects', 'our', 'great']), ('our', ['architects', 'of', 'great', 'republic']), ('great', ['of', 'our', 'republic', 'wrote']), ('republic', ['our', 'great', 'wrote', 'the']), ('wrote', ['great', 'republic', 'the', 'magnificent']), ('the', ['republic', 'wrote', 'magnificent', 'words']), ('magnificent', ['wrote', 'the', 'words', 'of']), ('words', ['the', 'magnificent', 'of', 'the']), ('of', ['magnificent', 'words', 'the', 'constitution']), ('the', ['words', 'of', 'constitution', 'and']), ('constitution', ['of', 'the', 'and', 'the']), ('and', ['the', 'constitution', 'the', 'declaration']), ('the', ['constitution', 'and', 'declaration', 'of']), ('declaration', ['and', 'the', 'of', 'independence']), ('of', ['the', 'declaration', 'independence', 'they']), ('independence', ['declaration', 'of', 'they', 'were']), ('they', ['of', 'independence', 'were', 'signing']), ('were', ['independence', 'they', 'signing', 'a']), ('signing', ['they', 'were', 'a', 'promissory']), ('a', ['were', 'signing', 'promissory', 'note']), ('promissory', ['signing', 'a', 'note', 'to']), ('note', ['a', 'promissory', 'to', 'which']), ('to', ['promissory', 'note', 'which', 'every']), ('which', ['note', 'to', 'every', 'american']), ('every', ['to', 'which', 'american', 'was']), ('american', ['which', 'every', 'was', 'to']), ('was', ['every', 'american', 'to', 'fall']), ('to', ['american', 'was', 'fall', 'heir']), ('fall', ['was', 'to', 'heir', 'this']), ('heir', ['to', 'fall', 'this', 'note']), ('this', ['fall', 'heir', 'note', 'was']), ('note', ['heir', 'this', 'was', 'a']), ('was', ['this', 'note', 'a', 'promise']), ('a', ['note', 'was', 'promise', 'that']), ('promise', ['was', 'a', 'that', 'all']), ('that', ['a', 'promise', 'all', 'men']), ('all', ['promise', 'that', 'men', 'yes']), ('men', ['that', 'all', 'yes', 'black']), ('yes', ['all', 'men', 'black', 'men']), ('black', ['men', 'yes', 'men', 'as']), ('men', ['yes', 'black', 'as', 'well']), ('as', ['black', 'men', 'well', 'as']), ('well', ['men', 'as', 'as', 'white']), ('as', ['as', 'well', 'white', 'men']), ('white', ['well', 'as', 'men', 'would']), ('men', ['as', 'white', 'would', 'be']), ('would', ['white', 'men', 'be', 'guaranteed']), ('be', ['men', 'would', 'guaranteed', 'the']), ('guaranteed', ['would', 'be', 'the', 'inalienable']), ('the', ['be', 'guaranteed', 'inalienable', 'rights']), ('inalienable', ['guaranteed', 'the', 'rights', 'of']), ('rights', ['the', 'inalienable', 'of', 'life']), ('of', ['inalienable', 'rights', 'life', 'liberty']), ('life', ['rights', 'of', 'liberty', 'and']), ('liberty', ['of', 'life', 'and', 'the']), ('and', ['life', 'liberty', 'the', 'pursuit']), ('the', ['liberty', 'and', 'pursuit', 'of']), ('pursuit', ['and', 'the', 'of', 'happiness']), ('of', ['the', 'pursuit', 'happiness', 'it']), ('happiness', ['pursuit', 'of', 'it', 'is']), ('it', ['of', 'happiness', 'is', 'obvious']), ('is', ['happiness', 'it', 'obvious', 'today']), ('obvious', ['it', 'is', 'today', 'that']), ('today', ['is', 'obvious', 'that', 'america']), ('that', ['obvious', 'today', 'america', 'has']), ('america', ['today', 'that', 'has', 'defaulted']), ('has', ['that', 'america', 'defaulted', 'on']), ('defaulted', ['america', 'has', 'on', 'this']), ('on', ['has', 'defaulted', 'this', 'promissory']), ('this', ['defaulted', 'on', 'promissory', 'note']), ('promissory', ['on', 'this', 'note', 'insofar']), ('note', ['this', 'promissory', 'insofar', 'as']), ('insofar', ['promissory', 'note', 'as', 'her']), ('as', ['note', 'insofar', 'her', 'citizens']), ('her', ['insofar', 'as', 'citizens', 'of']), ('citizens', ['as', 'her', 'of', 'color']), ('of', ['her', 'citizens', 'color', 'are']), ('color', ['citizens', 'of', 'are', 'concerned']), ('are', ['of', 'color', 'concerned', 'instead']), ('concerned', ['color', 'are', 'instead', 'of']), ('instead', ['are', 'concerned', 'of', 'honoring']), ('of', ['concerned', 'instead', 'honoring', 'this']), ('honoring', ['instead', 'of', 'this', 'sacred']), ('this', ['of', 'honoring', 'sacred', 'obligation']), ('sacred', ['honoring', 'this', 'obligation', 'america']), ('obligation', ['this', 'sacred', 'america', 'has']), ('america', ['sacred', 'obligation', 'has', 'given']), ('has', ['obligation', 'america', 'given', 'its']), ('given', ['america', 'has', 'its', 'colored']), ('its', ['has', 'given', 'colored', 'people']), ('colored', ['given', 'its', 'people', 'a']), ('people', ['its', 'colored', 'a', 'bad']), ('a', ['colored', 'people', 'bad', 'check']), ('bad', ['people', 'a', 'check', 'a']), ('check', ['a', 'bad', 'a', 'check']), ('a', ['bad', 'check', 'check', 'that']), ('check', ['check', 'a', 'that', 'has']), ('that', ['a', 'check', 'has', 'come']), ('has', ['check', 'that', 'come', 'back']), ('come', ['that', 'has', 'back', 'marked']), ('back', ['has', 'come', 'marked', 'insufficient']), ('marked', ['come', 'back', 'insufficient', 'funds']), ('insufficient', ['back', 'marked', 'funds', 'but']), ('funds', ['marked', 'insufficient', 'but', 'we']), ('but', ['insufficient', 'funds', 'we', 'refuse']), ('we', ['funds', 'but', 'refuse', 'to']), ('refuse', ['but', 'we', 'to', 'believe']), ('to', ['we', 'refuse', 'believe', 'that']), ('believe', ['refuse', 'to', 'that', 'the']), ('that', ['to', 'believe', 'the', 'bank']), ('the', ['believe', 'that', 'bank', 'of']), ('bank', ['that', 'the', 'of', 'justice']), ('of', ['the', 'bank', 'justice', 'is']), ('justice', ['bank', 'of', 'is', 'bankrupt']), ('is', ['of', 'justice', 'bankrupt', 'we']), ('bankrupt', ['justice', 'is', 'we', 'refuse']), ('we', ['is', 'bankrupt', 'refuse', 'to']), ('refuse', ['bankrupt', 'we', 'to', 'believe']), ('to', ['we', 'refuse', 'believe', 'that']), ('believe', ['refuse', 'to', 'that', 'there']), ('that', ['to', 'believe', 'there', 'are']), ('there', ['believe', 'that', 'are', 'insufficient']), ('are', ['that', 'there', 'insufficient', 'funds']), ('insufficient', ['there', 'are', 'funds', 'in']), ('funds', ['are', 'insufficient', 'in', 'the']), ('in', ['insufficient', 'funds', 'the', 'great']), ('the', ['funds', 'in', 'great', 'vaults']), ('great', ['in', 'the', 'vaults', 'of']), ('vaults', ['the', 'great', 'of', 'opportunity']), ('of', ['great', 'vaults', 'opportunity', 'of']), ('opportunity', ['vaults', 'of', 'of', 'this']), ('of', ['of', 'opportunity', 'this', 'nation']), ('this', ['opportunity', 'of', 'nation', 'so']), ('nation', ['of', 'this', 'so', 'we']), ('so', ['this', 'nation', 'we', 'have']), ('we', ['nation', 'so', 'have', 'come']), ('have', ['so', 'we', 'come', 'to']), ('come', ['we', 'have', 'to', 'cash']), ('to', ['have', 'come', 'cash', 'this']), ('cash', ['come', 'to', 'this', 'check']), ('this', ['to', 'cash', 'check', 'a']), ('check', ['cash', 'this', 'a', 'check']), ('a', ['this', 'check', 'check', 'that']), ('check', ['check', 'a', 'that', 'will']), ('that', ['a', 'check', 'will', 'give']), ('will', ['check', 'that', 'give', 'us']), ('give', ['that', 'will', 'us', 'upon']), ('us', ['will', 'give', 'upon', 'demand']), ('upon', ['give', 'us', 'demand', 'the']), ('demand', ['us', 'upon', 'the', 'riches']), ('the', ['upon', 'demand', 'riches', 'of']), ('riches', ['demand', 'the', 'of', 'freedom']), ('of', ['the', 'riches', 'freedom', 'and']), ('freedom', ['riches', 'of', 'and', 'security']), ('and', ['of', 'freedom', 'security', 'of']), ('security', ['freedom', 'and', 'of', 'justice']), ('of', ['and', 'security', 'justice', 'we']), ('justice', ['security', 'of', 'we', 'have']), ('we', ['of', 'justice', 'have', 'also']), ('have', ['justice', 'we', 'also', 'come']), ('also', ['we', 'have', 'come', 'to']), ('come', ['have', 'also', 'to', 'his']), ('to', ['also', 'come', 'his', 'hallowed']), ('his', ['come', 'to', 'hallowed', 'spot']), ('hallowed', ['to', 'his', 'spot', 'to']), ('spot', ['his', 'hallowed', 'to', 'remind']), ('to', ['hallowed', 'spot', 'remind', 'america']), ('remind', ['spot', 'to', 'america', 'of']), ('america', ['to', 'remind', 'of', 'the']), ('of', ['remind', 'america', 'the', 'fierce']), ('the', ['america', 'of', 'fierce', 'urgency']), ('fierce', ['of', 'the', 'urgency', 'of']), ('urgency', ['the', 'fierce', 'of', 'now']), ('of', ['fierce', 'urgency', 'now', 'this']), ('now', ['urgency', 'of', 'this', 'is']), ('this', ['of', 'now', 'is', 'not']), ('is', ['now', 'this', 'not', 'time']), ('not', ['this', 'is', 'time', 'to']), ('time', ['is', 'not', 'to', 'engage']), ('to', ['not', 'time', 'engage', 'in']), ('engage', ['time', 'to', 'in', 'the']), ('in', ['to', 'engage', 'the', 'luxury']), ('the', ['engage', 'in', 'luxury', 'of']), ('luxury', ['in', 'the', 'of', 'cooling']), ('of', ['the', 'luxury', 'cooling', 'off']), ('cooling', ['luxury', 'of', 'off', 'or']), ('off', ['of', 'cooling', 'or', 'to']), ('or', ['cooling', 'off', 'to', 'take']), ('to', ['off', 'or', 'take', 'the']), ('take', ['or', 'to', 'the', 'tranquilizing']), ('the', ['to', 'take', 'tranquilizing', 'drug']), ('tranquilizing', ['take', 'the', 'drug', 'of']), ('drug', ['the', 'tranquilizing', 'of', 'gradualism']), ('of', ['tranquilizing', 'drug', 'gradualism', 'now']), ('gradualism', ['drug', 'of', 'now', 'is']), ('now', ['of', 'gradualism', 'is', 'the']), ('is', ['gradualism', 'now', 'the', 'time']), ('the', ['now', 'is', 'time', 'to']), ('time', ['is', 'the', 'to', 'make']), ('to', ['the', 'time', 'make', 'real']), ('make', ['time', 'to', 'real', 'the']), ('real', ['to', 'make', 'the', 'promise']), ('the', ['make', 'real', 'promise', 'of']), ('promise', ['real', 'the', 'of', 'democracy']), ('of', ['the', 'promise', 'democracy', 'now']), ('democracy', ['promise', 'of', 'now', 'it']), ('now', ['of', 'democracy', 'it', 'the']), ('it', ['democracy', 'now', 'the', 'time']), ('the', ['now', 'it', 'time', 'to']), ('time', ['it', 'the', 'to', 'rise']), ('to', ['the', 'time', 'rise', 'from']), ('rise', ['time', 'to', 'from', 'the']), ('from', ['to', 'rise', 'the', 'dark']), ('the', ['rise', 'from', 'dark', 'and']), ('dark', ['from', 'the', 'and', 'desolate']), ('and', ['the', 'dark', 'desolate', 'valley']), ('desolate', ['dark', 'and', 'valley', 'of']), ('valley', ['and', 'desolate', 'of', 'segregation']), ('of', ['desolate', 'valley', 'segregation', 'to']), ('segregation', ['valley', 'of', 'to', 'the']), ('to', ['of', 'segregation', 'the', 'sunlit']), ('the', ['segregation', 'to', 'sunlit', 'path']), ('sunlit', ['to', 'the', 'path', 'of']), ('path', ['the', 'sunlit', 'of', 'racial']), ('of', ['sunlit', 'path', 'racial', 'justice']), ('racial', ['path', 'of', 'justice', 'now']), ('justice', ['of', 'racial', 'now', 'it']), ('now', ['racial', 'justice', 'it', 'the']), ('it', ['justice', 'now', 'the', 'time']), ('the', ['now', 'it', 'time', 'to']), ('time', ['it', 'the', 'to', 'lift']), ('to', ['the', 'time', 'lift', 'our']), ('lift', ['time', 'to', 'our', 'nation']), ('our', ['to', 'lift', 'nation', 'from']), ('nation', ['lift', 'our', 'from', 'the']), ('from', ['our', 'nation', 'the', 'quicksand']), ('the', ['nation', 'from', 'quicksand', 'of']), ('quicksand', ['from', 'the', 'of', 'racial']), ('of', ['the', 'quicksand', 'racial', 'injustice']), ('racial', ['quicksand', 'of', 'injustice', 'to']), ('injustice', ['of', 'racial', 'to', 'the']), ('to', ['racial', 'injustice', 'the', 'solid']), ('the', ['injustice', 'to', 'solid', 'rock']), ('solid', ['to', 'the', 'rock', 'of']), ('rock', ['the', 'solid', 'of', 'brotherhood']), ('of', ['solid', 'rock', 'brotherhood', 'now']), ('brotherhood', ['rock', 'of', 'now', 'is']), ('now', ['of', 'brotherhood', 'is', 'the']), ('is', ['brotherhood', 'now', 'the', 'time']), ('the', ['now', 'is', 'time', 'to']), ('time', ['is', 'the', 'to', 'make']), ('to', ['the', 'time', 'make', 'justice']), ('make', ['time', 'to', 'justice', 'a']), ('justice', ['to', 'make', 'a', 'reality']), ('a', ['make', 'justice', 'reality', 'to']), ('reality', ['justice', 'a', 'to', 'all']), ('to', ['a', 'reality', 'all', 'of']), ('all', ['reality', 'to', 'of', 'gods']), ('of', ['to', 'all', 'gods', 'children']), ('gods', ['all', 'of', 'children', 'i']), ('children', ['of', 'gods', 'i', 'would']), ('i', ['gods', 'children', 'would', 'be']), ('would', ['children', 'i', 'be', 'fatal']), ('be', ['i', 'would', 'fatal', 'for']), ('fatal', ['would', 'be', 'for', 'the']), ('for', ['be', 'fatal', 'the', 'nation']), ('the', ['fatal', 'for', 'nation', 'to']), ('nation', ['for', 'the', 'to', 'overlook']), ('to', ['the', 'nation', 'overlook', 'the']), ('overlook', ['nation', 'to', 'the', 'urgency']), ('the', ['to', 'overlook', 'urgency', 'of']), ('urgency', ['overlook', 'the', 'of', 'the']), ('of', ['the', 'urgency', 'the', 'moment']), ('the', ['urgency', 'of', 'moment', 'and']), ('moment', ['of', 'the', 'and', 'to']), ('and', ['the', 'moment', 'to', 'underestimate']), ('to', ['moment', 'and', 'underestimate', 'the']), ('underestimate', ['and', 'to', 'the', 'determination']), ('the', ['to', 'underestimate', 'determination', 'of']), ('determination', ['underestimate', 'the', 'of', 'its']), ('of', ['the', 'determination', 'its', 'colored']), ('its', ['determination', 'of', 'colored', 'citizens']), ('colored', ['of', 'its', 'citizens', 'this']), ('citizens', ['its', 'colored', 'this', 'sweltering']), ('this', ['colored', 'citizens', 'sweltering', 'summer']), ('sweltering', ['citizens', 'this', 'summer', 'of']), ('summer', ['this', 'sweltering', 'of', 'the']), ('of', ['sweltering', 'summer', 'the', 'colored']), ('the', ['summer', 'of', 'colored', 'peoples']), ('colored', ['of', 'the', 'peoples', 'legitimate']), ('peoples', ['the', 'colored', 'legitimate', 'discontent']), ('legitimate', ['colored', 'peoples', 'discontent', 'will']), ('discontent', ['peoples', 'legitimate', 'will', 'not']), ('will', ['legitimate', 'discontent', 'not', 'pass']), ('not', ['discontent', 'will', 'pass', 'until']), ('pass', ['will', 'not', 'until', 'there']), ('until', ['not', 'pass', 'there', 'is']), ('there', ['pass', 'until', 'is', 'an']), ('is', ['until', 'there', 'an', 'invigorating']), ('an', ['there', 'is', 'invigorating', 'autumn']), ('invigorating', ['is', 'an', 'autumn', 'of']), ('autumn', ['an', 'invigorating', 'of', 'freedom']), ('of', ['invigorating', 'autumn', 'freedom', 'and']), ('freedom', ['autumn', 'of', 'and', 'equality']), ('and', ['of', 'freedom', 'equality', 'nineteen']), ('equality', ['freedom', 'and', 'nineteen', 'sixtythree']), ('nineteen', ['and', 'equality', 'sixtythree', 'is']), ('sixtythree', ['equality', 'nineteen', 'is', 'not']), ('is', ['nineteen', 'sixtythree', 'not', 'an']), ('not', ['sixtythree', 'is', 'an', 'end']), ('an', ['is', 'not', 'end', 'but']), ('end', ['not', 'an', 'but', 'a']), ('but', ['an', 'end', 'a', 'beginning']), ('a', ['end', 'but', 'beginning', 'those']), ('beginning', ['but', 'a', 'those', 'who']), ('those', ['a', 'beginning', 'who', 'hope']), ('who', ['beginning', 'those', 'hope', 'that']), ('hope', ['those', 'who', 'that', 'the']), ('that', ['who', 'hope', 'the', 'colored']), ('the', ['hope', 'that', 'colored', 'americans']), ('colored', ['that', 'the', 'americans', 'needed']), ('americans', ['the', 'colored', 'needed', 'to']), ('needed', ['colored', 'americans', 'to', 'blow']), ('to', ['americans', 'needed', 'blow', 'off']), ('blow', ['needed', 'to', 'off', 'steam']), ('off', ['to', 'blow', 'steam', 'and']), ('steam', ['blow', 'off', 'and', 'will']), ('and', ['off', 'steam', 'will', 'now']), ('will', ['steam', 'and', 'now', 'be']), ('now', ['and', 'will', 'be', 'content']), ('be', ['will', 'now', 'content', 'will']), ('content', ['now', 'be', 'will', 'have']), ('will', ['be', 'content', 'have', 'a']), ('have', ['content', 'will', 'a', 'rude']), ('a', ['will', 'have', 'rude', 'awakening']), ('rude', ['have', 'a', 'awakening', 'if']), ('awakening', ['a', 'rude', 'if', 'the']), ('if', ['rude', 'awakening', 'the', 'nation']), ('the', ['awakening', 'if', 'nation', 'returns']), ('nation', ['if', 'the', 'returns', 'to']), ('returns', ['the', 'nation', 'to', 'business']), ('to', ['nation', 'returns', 'business', 'as']), ('business', ['returns', 'to', 'as', 'usual']), ('as', ['to', 'business', 'usual', 'there']), ('usual', ['business', 'as', 'there', 'will']), ('there', ['as', 'usual', 'will', 'be']), ('will', ['usual', 'there', 'be', 'neither']), ('be', ['there', 'will', 'neither', 'rest']), ('neither', ['will', 'be', 'rest', 'nor']), ('rest', ['be', 'neither', 'nor', 'tranquility']), ('nor', ['neither', 'rest', 'tranquility', 'in']), ('tranquility', ['rest', 'nor', 'in', 'america']), ('in', ['nor', 'tranquility', 'america', 'until']), ('america', ['tranquility', 'in', 'until', 'the']), ('until', ['in', 'america', 'the', 'colored']), ('the', ['america', 'until', 'colored', 'citizen']), ('colored', ['until', 'the', 'citizen', 'is']), ('citizen', ['the', 'colored', 'is', 'granted']), ('is', ['colored', 'citizen', 'granted', 'his']), ('granted', ['citizen', 'is', 'his', 'citizenship']), ('his', ['is', 'granted', 'citizenship', 'rights']), ('citizenship', ['granted', 'his', 'rights', 'the']), ('rights', ['his', 'citizenship', 'the', 'whirlwinds']), ('the', ['citizenship', 'rights', 'whirlwinds', 'of']), ('whirlwinds', ['rights', 'the', 'of', 'revolt']), ('of', ['the', 'whirlwinds', 'revolt', 'will']), ('revolt', ['whirlwinds', 'of', 'will', 'continue']), ('will', ['of', 'revolt', 'continue', 'to']), ('continue', ['revolt', 'will', 'to', 'shake']), ('to', ['will', 'continue', 'shake', 'the']), ('shake', ['continue', 'to', 'the', 'foundations']), ('the', ['to', 'shake', 'foundations', 'of']), ('foundations', ['shake', 'the', 'of', 'our']), ('of', ['the', 'foundations', 'our', 'nation']), ('our', ['foundations', 'of', 'nation', 'until']), ('nation', ['of', 'our', 'until', 'the']), ('until', ['our', 'nation', 'the', 'bright']), ('the', ['nation', 'until', 'bright', 'day']), ('bright', ['until', 'the', 'day', 'of']), ('day', ['the', 'bright', 'of', 'justice']), ('of', ['bright', 'day', 'justice', 'emerges']), ('justice', ['day', 'of', 'emerges', 'we']), ('emerges', ['of', 'justice', 'we', 'can']), ('we', ['justice', 'emerges', 'can', 'never']), ('can', ['emerges', 'we', 'never', 'be']), ('never', ['we', 'can', 'be', 'satisfied']), ('be', ['can', 'never', 'satisfied', 'as']), ('satisfied', ['never', 'be', 'as', 'long']), ('as', ['be', 'satisfied', 'long', 'as']), ('long', ['satisfied', 'as', 'as', 'our']), ('as', ['as', 'long', 'our', 'bodies']), ('our', ['long', 'as', 'bodies', 'heavy']), ('bodies', ['as', 'our', 'heavy', 'with']), ('heavy', ['our', 'bodies', 'with', 'the']), ('with', ['bodies', 'heavy', 'the', 'fatigue']), ('the', ['heavy', 'with', 'fatigue', 'of']), ('fatigue', ['with', 'the', 'of', 'travel']), ('of', ['the', 'fatigue', 'travel', 'cannot']), ('travel', ['fatigue', 'of', 'cannot', 'gain']), ('cannot', ['of', 'travel', 'gain', 'lodging']), ('gain', ['travel', 'cannot', 'lodging', 'in']), ('lodging', ['cannot', 'gain', 'in', 'the']), ('in', ['gain', 'lodging', 'the', 'motels']), ('the', ['lodging', 'in', 'motels', 'of']), ('motels', ['in', 'the', 'of', 'the']), ('of', ['the', 'motels', 'the', 'highways']), ('the', ['motels', 'of', 'highways', 'and']), ('highways', ['of', 'the', 'and', 'the']), ('and', ['the', 'highways', 'the', 'hotels']), ('the', ['highways', 'and', 'hotels', 'of']), ('hotels', ['and', 'the', 'of', 'the']), ('of', ['the', 'hotels', 'the', 'cities']), ('the', ['hotels', 'of', 'cities', 'we']), ('cities', ['of', 'the', 'we', 'cannot']), ('we', ['the', 'cities', 'cannot', 'be']), ('cannot', ['cities', 'we', 'be', 'satisfied']), ('be', ['we', 'cannot', 'satisfied', 'as']), ('satisfied', ['cannot', 'be', 'as', 'long']), ('as', ['be', 'satisfied', 'long', 'as']), ('long', ['satisfied', 'as', 'as', 'the']), ('as', ['as', 'long', 'the', 'colored']), ('the', ['long', 'as', 'colored', 'persons']), ('colored', ['as', 'the', 'persons', 'basic']), ('persons', ['the', 'colored', 'basic', 'mobility']), ('basic', ['colored', 'persons', 'mobility', 'is']), ('mobility', ['persons', 'basic', 'is', 'from']), ('is', ['basic', 'mobility', 'from', 'a']), ('from', ['mobility', 'is', 'a', 'smaller']), ('a', ['is', 'from', 'smaller', 'ghetto']), ('smaller', ['from', 'a', 'ghetto', 'to']), ('ghetto', ['a', 'smaller', 'to', 'a']), ('to', ['smaller', 'ghetto', 'a', 'larger']), ('a', ['ghetto', 'to', 'larger', 'one']), ('larger', ['to', 'a', 'one', 'we']), ('one', ['a', 'larger', 'we', 'can']), ('we', ['larger', 'one', 'can', 'never']), ('can', ['one', 'we', 'never', 'be']), ('never', ['we', 'can', 'be', 'satisfied']), ('be', ['can', 'never', 'satisfied', 'as']), ('satisfied', ['never', 'be', 'as', 'long']), ('as', ['be', 'satisfied', 'long', 'as']), ('long', ['satisfied', 'as', 'as', 'our']), ('as', ['as', 'long', 'our', 'children']), ('our', ['long', 'as', 'children', 'are']), ('children', ['as', 'our', 'are', 'stripped']), ('are', ['our', 'children', 'stripped', 'of']), ('stripped', ['children', 'are', 'of', 'their']), ('of', ['are', 'stripped', 'their', 'selfhood']), ('their', ['stripped', 'of', 'selfhood', 'and']), ('selfhood', ['of', 'their', 'and', 'robbed']), ('and', ['their', 'selfhood', 'robbed', 'of']), ('robbed', ['selfhood', 'and', 'of', 'their']), ('of', ['and', 'robbed', 'their', 'dignity']), ('their', ['robbed', 'of', 'dignity', 'by']), ('dignity', ['of', 'their', 'by', 'signs']), ('by', ['their', 'dignity', 'signs', 'stating']), ('signs', ['dignity', 'by', 'stating', 'for']), ('stating', ['by', 'signs', 'for', 'white']), ('for', ['signs', 'stating', 'white', 'only']), ('white', ['stating', 'for', 'only', 'we']), ('only', ['for', 'white', 'we', 'cannot']), ('we', ['white', 'only', 'cannot', 'be']), ('cannot', ['only', 'we', 'be', 'satisfied']), ('be', ['we', 'cannot', 'satisfied', 'as']), ('satisfied', ['cannot', 'be', 'as', 'long']), ('as', ['be', 'satisfied', 'long', 'as']), ('long', ['satisfied', 'as', 'as', 'a']), ('as', ['as', 'long', 'a', 'colored']), ('a', ['long', 'as', 'colored', 'person']), ('colored', ['as', 'a', 'person', 'in']), ('person', ['a', 'colored', 'in', 'mississippi']), ('in', ['colored', 'person', 'mississippi', 'cannot']), ('mississippi', ['person', 'in', 'cannot', 'vote']), ('cannot', ['in', 'mississippi', 'vote', 'and']), ('vote', ['mississippi', 'cannot', 'and', 'a']), ('and', ['cannot', 'vote', 'a', 'colored']), ('a', ['vote', 'and', 'colored', 'person']), ('colored', ['and', 'a', 'person', 'in']), ('person', ['a', 'colored', 'in', 'new']), ('in', ['colored', 'person', 'new', 'york']), ('new', ['person', 'in', 'york', 'believes']), ('york', ['in', 'new', 'believes', 'he']), ('believes', ['new', 'york', 'he', 'has']), ('he', ['york', 'believes', 'has', 'nothing']), ('has', ['believes', 'he', 'nothing', 'for']), ('nothing', ['he', 'has', 'for', 'which']), ('for', ['has', 'nothing', 'which', 'to']), ('which', ['nothing', 'for', 'to', 'vote']), ('to', ['for', 'which', 'vote', 'no']), ('vote', ['which', 'to', 'no', 'no']), ('no', ['to', 'vote', 'no', 'we']), ('no', ['vote', 'no', 'we', 'are']), ('we', ['no', 'no', 'are', 'not']), ('are', ['no', 'we', 'not', 'satisfied']), ('not', ['we', 'are', 'satisfied', 'and']), ('satisfied', ['are', 'not', 'and', 'we']), ('and', ['not', 'satisfied', 'we', 'will']), ('we', ['satisfied', 'and', 'will', 'not']), ('will', ['and', 'we', 'not', 'be']), ('not', ['we', 'will', 'be', 'satisfied']), ('be', ['will', 'not', 'satisfied', 'until']), ('satisfied', ['not', 'be', 'until', 'justice']), ('until', ['be', 'satisfied', 'justice', 'rolls']), ('justice', ['satisfied', 'until', 'rolls', 'down']), ('rolls', ['until', 'justice', 'down', 'like']), ('down', ['justice', 'rolls', 'like', 'waters']), ('like', ['rolls', 'down', 'waters', 'and']), ('waters', ['down', 'like', 'and', 'righteousness']), ('and', ['like', 'waters', 'righteousness', 'like']), ('righteousness', ['waters', 'and', 'like', 'a']), ('like', ['and', 'righteousness', 'a', 'mighty']), ('a', ['righteousness', 'like', 'mighty', 'stream']), ('mighty', ['like', 'a', 'stream', 'i']), ('stream', ['a', 'mighty', 'i', 'am']), ('i', ['mighty', 'stream', 'am', 'not']), ('am', ['stream', 'i', 'not', 'unmindful']), ('not', ['i', 'am', 'unmindful', 'that']), ('unmindful', ['am', 'not', 'that', 'some']), ('that', ['not', 'unmindful', 'some', 'of']), ('some', ['unmindful', 'that', 'of', 'you']), ('of', ['that', 'some', 'you', 'have']), ('you', ['some', 'of', 'have', 'come']), ('have', ['of', 'you', 'come', 'here']), ('come', ['you', 'have', 'here', 'out']), ('here', ['have', 'come', 'out', 'of']), ('out', ['come', 'here', 'of', 'your']), ('of', ['here', 'out', 'your', 'trials']), ('your', ['out', 'of', 'trials', 'and']), ('trials', ['of', 'your', 'and', 'tribulations']), ('and', ['your', 'trials', 'tribulations', 'some']), ('tribulations', ['trials', 'and', 'some', 'of']), ('some', ['and', 'tribulations', 'of', 'you']), ('of', ['tribulations', 'some', 'you', 'have']), ('you', ['some', 'of', 'have', 'come']), ('have', ['of', 'you', 'come', 'from']), ('come', ['you', 'have', 'from', 'areas']), ('from', ['have', 'come', 'areas', 'where']), ('areas', ['come', 'from', 'where', 'your']), ('where', ['from', 'areas', 'your', 'quest']), ('your', ['areas', 'where', 'quest', 'for']), ('quest', ['where', 'your', 'for', 'freedom']), ('for', ['your', 'quest', 'freedom', 'left']), ('freedom', ['quest', 'for', 'left', 'you']), ('left', ['for', 'freedom', 'you', 'battered']), ('you', ['freedom', 'left', 'battered', 'by']), ('battered', ['left', 'you', 'by', 'storms']), ('by', ['you', 'battered', 'storms', 'of']), ('storms', ['battered', 'by', 'of', 'persecutions']), ('of', ['by', 'storms', 'persecutions', 'and']), ('persecutions', ['storms', 'of', 'and', 'staggered']), ('and', ['of', 'persecutions', 'staggered', 'by']), ('staggered', ['persecutions', 'and', 'by', 'the']), ('by', ['and', 'staggered', 'the', 'winds']), ('the', ['staggered', 'by', 'winds', 'of']), ('winds', ['by', 'the', 'of', 'police']), ('of', ['the', 'winds', 'police', 'brutality']), ('police', ['winds', 'of', 'brutality', 'you']), ('brutality', ['of', 'police', 'you', 'have']), ('you', ['police', 'brutality', 'have', 'been']), ('have', ['brutality', 'you', 'been', 'the']), ('been', ['you', 'have', 'the', 'veterans']), ('the', ['have', 'been', 'veterans', 'of']), ('veterans', ['been', 'the', 'of', 'creative']), ('of', ['the', 'veterans', 'creative', 'suffering']), ('creative', ['veterans', 'of', 'suffering', 'continue']), ('suffering', ['of', 'creative', 'continue', 'to']), ('continue', ['creative', 'suffering', 'to', 'work']), ('to', ['suffering', 'continue', 'work', 'with']), ('work', ['continue', 'to', 'with', 'the']), ('with', ['to', 'work', 'the', 'faith']), ('the', ['work', 'with', 'faith', 'that']), ('faith', ['with', 'the', 'that', 'unearned']), ('that', ['the', 'faith', 'unearned', 'suffering']), ('unearned', ['faith', 'that', 'suffering', 'is']), ('suffering', ['that', 'unearned', 'is', 'redemptive']), ('is', ['unearned', 'suffering', 'redemptive', 'go']), ('redemptive', ['suffering', 'is', 'go', 'back']), ('go', ['is', 'redemptive', 'back', 'to']), ('back', ['redemptive', 'go', 'to', 'mississippi']), ('to', ['go', 'back', 'mississippi', 'go']), ('mississippi', ['back', 'to', 'go', 'back']), ('go', ['to', 'mississippi', 'back', 'to']), ('back', ['mississippi', 'go', 'to', 'alabama']), ('to', ['go', 'back', 'alabama', 'go']), ('alabama', ['back', 'to', 'go', 'back']), ('go', ['to', 'alabama', 'back', 'to']), ('back', ['alabama', 'go', 'to', 'south']), ('to', ['go', 'back', 'south', 'carolina']), ('south', ['back', 'to', 'carolina', 'go']), ('carolina', ['to', 'south', 'go', 'back']), ('go', ['south', 'carolina', 'back', 'to']), ('back', ['carolina', 'go', 'to', 'georgia']), ('to', ['go', 'back', 'georgia', 'go']), ('georgia', ['back', 'to', 'go', 'back']), ('go', ['to', 'georgia', 'back', 'to']), ('back', ['georgia', 'go', 'to', 'louisiana']), ('to', ['go', 'back', 'louisiana', 'go']), ('louisiana', ['back', 'to', 'go', 'back']), ('go', ['to', 'louisiana', 'back', 'to']), ('back', ['louisiana', 'go', 'to', 'the']), ('to', ['go', 'back', 'the', 'slums']), ('the', ['back', 'to', 'slums', 'and']), ('slums', ['to', 'the', 'and', 'ghettos']), ('and', ['the', 'slums', 'ghettos', 'of']), ('ghettos', ['slums', 'and', 'of', 'our']), ('of', ['and', 'ghettos', 'our', 'modern']), ('our', ['ghettos', 'of', 'modern', 'cities']), ('modern', ['of', 'our', 'cities', 'knowing']), ('cities', ['our', 'modern', 'knowing', 'that']), ('knowing', ['modern', 'cities', 'that', 'somehow']), ('that', ['cities', 'knowing', 'somehow', 'this']), ('somehow', ['knowing', 'that', 'this', 'situation']), ('this', ['that', 'somehow', 'situation', 'can']), ('situation', ['somehow', 'this', 'can', 'and']), ('can', ['this', 'situation', 'and', 'will']), ('and', ['situation', 'can', 'will', 'be']), ('will', ['can', 'and', 'be', 'changed']), ('be', ['and', 'will', 'changed', 'let']), ('changed', ['will', 'be', 'let', 'us']), ('let', ['be', 'changed', 'us', 'not']), ('us', ['changed', 'let', 'not', 'wallow']), ('not', ['let', 'us', 'wallow', 'in']), ('wallow', ['us', 'not', 'in', 'the']), ('in', ['not', 'wallow', 'the', 'valley']), ('the', ['wallow', 'in', 'valley', 'of']), ('valley', ['in', 'the', 'of', 'despair']), ('of', ['the', 'valley', 'despair', 'i']), ('despair', ['valley', 'of', 'i', 'say']), ('i', ['of', 'despair', 'say', 'to']), ('say', ['despair', 'i', 'to', 'you']), ('to', ['i', 'say', 'you', 'my']), ('you', ['say', 'to', 'my', 'friends']), ('my', ['to', 'you', 'friends', 'we']), ('friends', ['you', 'my', 'we', 'have']), ('we', ['my', 'friends', 'have', 'the']), ('have', ['friends', 'we', 'the', 'difficulties']), ('the', ['we', 'have', 'difficulties', 'of']), ('difficulties', ['have', 'the', 'of', 'today']), ('of', ['the', 'difficulties', 'today', 'and']), ('today', ['difficulties', 'of', 'and', 'tomorrow']), ('and', ['of', 'today', 'tomorrow', 'i']), ('tomorrow', ['today', 'and', 'i', 'still']), ('i', ['and', 'tomorrow', 'still', 'have']), ('still', ['tomorrow', 'i', 'have', 'a']), ('have', ['i', 'still', 'a', 'dream']), ('a', ['still', 'have', 'dream', 'it']), ('dream', ['have', 'a', 'it', 'is']), ('it', ['a', 'dream', 'is', 'a']), ('is', ['dream', 'it', 'a', 'dream']), ('a', ['it', 'is', 'dream', 'deeply']), ('dream', ['is', 'a', 'deeply', 'rooted']), ('deeply', ['a', 'dream', 'rooted', 'in']), ('rooted', ['dream', 'deeply', 'in', 'the']), ('in', ['deeply', 'rooted', 'the', 'american']), ('the', ['rooted', 'in', 'american', 'dream']), ('american', ['in', 'the', 'dream', 'i']), ('dream', ['the', 'american', 'i', 'have']), ('i', ['american', 'dream', 'have', 'a']), ('have', ['dream', 'i', 'a', 'dream']), ('a', ['i', 'have', 'dream', 'that']), ('dream', ['have', 'a', 'that', 'one']), ('that', ['a', 'dream', 'one', 'day']), ('one', ['dream', 'that', 'day', 'this']), ('day', ['that', 'one', 'this', 'nation']), ('this', ['one', 'day', 'nation', 'will']), ('nation', ['day', 'this', 'will', 'rise']), ('will', ['this', 'nation', 'rise', 'up']), ('rise', ['nation', 'will', 'up', 'and']), ('up', ['will', 'rise', 'and', 'live']), ('and', ['rise', 'up', 'live', 'out']), ('live', ['up', 'and', 'out', 'the']), ('out', ['and', 'live', 'the', 'true']), ('the', ['live', 'out', 'true', 'meaning']), ('true', ['out', 'the', 'meaning', 'of']), ('meaning', ['the', 'true', 'of', 'its']), ('of', ['true', 'meaning', 'its', 'creed']), ('its', ['meaning', 'of', 'creed', 'we']), ('creed', ['of', 'its', 'we', 'hold']), ('we', ['its', 'creed', 'hold', 'these']), ('hold', ['creed', 'we', 'these', 'truths']), ('these', ['we', 'hold', 'truths', 'to']), ('truths', ['hold', 'these', 'to', 'be']), ('to', ['these', 'truths', 'be', 'selfevident']), ('be', ['truths', 'to', 'selfevident', 'that']), ('selfevident', ['to', 'be', 'that', 'all']), ('that', ['be', 'selfevident', 'all', 'men']), ('all', ['selfevident', 'that', 'men', 'are']), ('men', ['that', 'all', 'are', 'created']), ('are', ['all', 'men', 'created', 'equal']), ('created', ['men', 'are', 'equal', 'i']), ('equal', ['are', 'created', 'i', 'have']), ('i', ['created', 'equal', 'have', 'a']), ('have', ['equal', 'i', 'a', 'dream']), ('a', ['i', 'have', 'dream', 'that']), ('dream', ['have', 'a', 'that', 'one']), ('that', ['a', 'dream', 'one', 'day']), ('one', ['dream', 'that', 'day', 'out']), ('day', ['that', 'one', 'out', 'in']), ('out', ['one', 'day', 'in', 'the']), ('in', ['day', 'out', 'the', 'red']), ('the', ['out', 'in', 'red', 'hills']), ('red', ['in', 'the', 'hills', 'of']), ('hills', ['the', 'red', 'of', 'georgia']), ('of', ['red', 'hills', 'georgia', 'the']), ('georgia', ['hills', 'of', 'the', 'sons']), ('the', ['of', 'georgia', 'sons', 'of']), ('sons', ['georgia', 'the', 'of', 'former']), ('of', ['the', 'sons', 'former', 'slaves']), ('former', ['sons', 'of', 'slaves', 'and']), ('slaves', ['of', 'former', 'and', 'the']), ('and', ['former', 'slaves', 'the', 'sons']), ('the', ['slaves', 'and', 'sons', 'of']), ('sons', ['and', 'the', 'of', 'former']), ('of', ['the', 'sons', 'former', 'slaveowners']), ('former', ['sons', 'of', 'slaveowners', 'will']), ('slaveowners', ['of', 'former', 'will', 'be']), ('will', ['former', 'slaveowners', 'be', 'able']), ('be', ['slaveowners', 'will', 'able', 'to']), ('able', ['will', 'be', 'to', 'sit']), ('to', ['be', 'able', 'sit', 'down']), ('sit', ['able', 'to', 'down', 'together']), ('down', ['to', 'sit', 'together', 'at']), ('together', ['sit', 'down', 'at', 'the']), ('at', ['down', 'together', 'the', 'table']), ('the', ['together', 'at', 'table', 'of']), ('table', ['at', 'the', 'of', 'brotherhood']), ('of', ['the', 'table', 'brotherhood', 'i']), ('brotherhood', ['table', 'of', 'i', 'have']), ('i', ['of', 'brotherhood', 'have', 'a']), ('have', ['brotherhood', 'i', 'a', 'dream']), ('a', ['i', 'have', 'dream', 'that']), ('dream', ['have', 'a', 'that', 'one']), ('that', ['a', 'dream', 'one', 'day']), ('one', ['dream', 'that', 'day', 'even']), ('day', ['that', 'one', 'even', 'the']), ('even', ['one', 'day', 'the', 'state']), ('the', ['day', 'even', 'state', 'of']), ('state', ['even', 'the', 'of', 'mississippi']), ('of', ['the', 'state', 'mississippi', 'a']), ('mississippi', ['state', 'of', 'a', 'state']), ('a', ['of', 'mississippi', 'state', 'sweltering']), ('state', ['mississippi', 'a', 'sweltering', 'with']), ('sweltering', ['a', 'state', 'with', 'the']), ('with', ['state', 'sweltering', 'the', 'heat']), ('the', ['sweltering', 'with', 'heat', 'of']), ('heat', ['with', 'the', 'of', 'oppression']), ('of', ['the', 'heat', 'oppression', 'will']), ('oppression', ['heat', 'of', 'will', 'be']), ('will', ['of', 'oppression', 'be', 'transformed']), ('be', ['oppression', 'will', 'transformed', 'into']), ('transformed', ['will', 'be', 'into', 'an']), ('into', ['be', 'transformed', 'an', 'oasis']), ('an', ['transformed', 'into', 'oasis', 'of']), ('oasis', ['into', 'an', 'of', 'freedom']), ('of', ['an', 'oasis', 'freedom', 'and']), ('freedom', ['oasis', 'of', 'and', 'justice']), ('and', ['of', 'freedom', 'justice', 'i']), ('justice', ['freedom', 'and', 'i', 'have']), ('i', ['and', 'justice', 'have', 'a']), ('have', ['justice', 'i', 'a', 'dream']), ('a', ['i', 'have', 'dream', 'that']), ('dream', ['have', 'a', 'that', 'my']), ('that', ['a', 'dream', 'my', 'four']), ('my', ['dream', 'that', 'four', 'little']), ('four', ['that', 'my', 'little', 'children']), ('little', ['my', 'four', 'children', 'will']), ('children', ['four', 'little', 'will', 'one']), ('will', ['little', 'children', 'one', 'day']), ('one', ['children', 'will', 'day', 'live']), ('day', ['will', 'one', 'live', 'in']), ('live', ['one', 'day', 'in', 'a']), ('in', ['day', 'live', 'a', 'nation']), ('a', ['live', 'in', 'nation', 'where']), ('nation', ['in', 'a', 'where', 'they']), ('where', ['a', 'nation', 'they', 'will']), ('they', ['nation', 'where', 'will', 'not']), ('will', ['where', 'they', 'not', 'be']), ('not', ['they', 'will', 'be', 'judged']), ('be', ['will', 'not', 'judged', 'by']), ('judged', ['not', 'be', 'by', 'the']), ('by', ['be', 'judged', 'the', 'color']), ('the', ['judged', 'by', 'color', 'of']), ('color', ['by', 'the', 'of', 'their']), ('of', ['the', 'color', 'their', 'skin']), ('their', ['color', 'of', 'skin', 'but']), ('skin', ['of', 'their', 'but', 'by']), ('but', ['their', 'skin', 'by', 'their']), ('by', ['skin', 'but', 'their', 'character']), ('their', ['but', 'by', 'character', 'i']), ('character', ['by', 'their', 'i', 'have']), ('i', ['their', 'character', 'have', 'a']), ('have', ['character', 'i', 'a', 'dream']), ('a', ['i', 'have', 'dream', 'today']), ('dream', ['have', 'a', 'today', 'i']), ('today', ['a', 'dream', 'i', 'have']), ('i', ['dream', 'today', 'have', 'a']), ('have', ['today', 'i', 'a', 'dream']), ('a', ['i', 'have', 'dream', 'that']), ('dream', ['have', 'a', 'that', 'one']), ('that', ['a', 'dream', 'one', 'day']), ('one', ['dream', 'that', 'day', 'down']), ('day', ['that', 'one', 'down', 'in']), ('down', ['one', 'day', 'in', 'alabama']), ('in', ['day', 'down', 'alabama', 'with']), ('alabama', ['down', 'in', 'with', 'its']), ('with', ['in', 'alabama', 'its', 'vicious']), ('its', ['alabama', 'with', 'vicious', 'racists']), ('vicious', ['with', 'its', 'racists', 'with']), ('racists', ['its', 'vicious', 'with', 'its']), ('with', ['vicious', 'racists', 'its', 'governor']), ('its', ['racists', 'with', 'governor', 'having']), ('governor', ['with', 'its', 'having', 'his']), ('having', ['its', 'governor', 'his', 'lips']), ('his', ['governor', 'having', 'lips', 'dripping']), ('lips', ['having', 'his', 'dripping', 'with']), ('dripping', ['his', 'lips', 'with', 'the']), ('with', ['lips', 'dripping', 'the', 'words']), ('the', ['dripping', 'with', 'words', 'of']), ('words', ['with', 'the', 'of', 'interposition']), ('of', ['the', 'words', 'interposition', 'and']), ('interposition', ['words', 'of', 'and', 'nullification']), ('and', ['of', 'interposition', 'nullification', 'that']), ('nullification', ['interposition', 'and', 'that', 'one']), ('that', ['and', 'nullification', 'one', 'day']), ('one', ['nullification', 'that', 'day', 'right']), ('day', ['that', 'one', 'right', 'down']), ('right', ['one', 'day', 'down', 'in']), ('down', ['day', 'right', 'in', 'alabama']), ('in', ['right', 'down', 'alabama', 'little']), ('alabama', ['down', 'in', 'little', 'black']), ('little', ['in', 'alabama', 'black', 'boys']), ('black', ['alabama', 'little', 'boys', 'and']), ('boys', ['little', 'black', 'and', 'black']), ('and', ['black', 'boys', 'black', 'girls']), ('black', ['boys', 'and', 'girls', 'will']), ('girls', ['and', 'black', 'will', 'be']), ('will', ['black', 'girls', 'be', 'able']), ('be', ['girls', 'will', 'able', 'to']), ('able', ['will', 'be', 'to', 'join']), ('to', ['be', 'able', 'join', 'hands']), ('join', ['able', 'to', 'hands', 'with']), ('hands', ['to', 'join', 'with', 'little']), ('with', ['join', 'hands', 'little', 'white']), ('little', ['hands', 'with', 'white', 'boys']), ('white', ['with', 'little', 'boys', 'and']), ('boys', ['little', 'white', 'and', 'white']), ('and', ['white', 'boys', 'white', 'girls']), ('white', ['boys', 'and', 'girls', 'as']), ('girls', ['and', 'white', 'as', 'sisters']), ('as', ['white', 'girls', 'sisters', 'and']), ('sisters', ['girls', 'as', 'and', 'brothers']), ('and', ['as', 'sisters', 'brothers', 'i']), ('brothers', ['sisters', 'and', 'i', 'have']), ('i', ['and', 'brothers', 'have', 'a']), ('have', ['brothers', 'i', 'a', 'dream']), ('a', ['i', 'have', 'dream', 'today']), ('dream', ['have', 'a', 'today', 'i']), ('today', ['a', 'dream', 'i', 'have']), ('i', ['dream', 'today', 'have', 'a']), ('have', ['today', 'i', 'a', 'dream']), ('a', ['i', 'have', 'dream', 'that']), ('dream', ['have', 'a', 'that', 'one']), ('that', ['a', 'dream', 'one', 'day']), ('one', ['dream', 'that', 'day', 'every']), ('day', ['that', 'one', 'every', 'valley']), ('every', ['one', 'day', 'valley', 'shall']), ('valley', ['day', 'every', 'shall', 'be']), ('shall', ['every', 'valley', 'be', 'engulfed']), ('be', ['valley', 'shall', 'engulfed', 'every']), ('engulfed', ['shall', 'be', 'every', 'hill']), ('every', ['be', 'engulfed', 'hill', 'shall']), ('hill', ['engulfed', 'every', 'shall', 'be']), ('shall', ['every', 'hill', 'be', 'exalted']), ('be', ['hill', 'shall', 'exalted', 'and']), ('exalted', ['shall', 'be', 'and', 'every']), ('and', ['be', 'exalted', 'every', 'mountain']), ('every', ['exalted', 'and', 'mountain', 'shall']), ('mountain', ['and', 'every', 'shall', 'be']), ('shall', ['every', 'mountain', 'be', 'made']), ('be', ['mountain', 'shall', 'made', 'low']), ('made', ['shall', 'be', 'low', 'the']), ('low', ['be', 'made', 'the', 'rough']), ('the', ['made', 'low', 'rough', 'places']), ('rough', ['low', 'the', 'places', 'will']), ('places', ['the', 'rough', 'will', 'be']), ('will', ['rough', 'places', 'be', 'made']), ('be', ['places', 'will', 'made', 'plains']), ('made', ['will', 'be', 'plains', 'and']), ('plains', ['be', 'made', 'and', 'the']), ('and', ['made', 'plains', 'the', 'crooked']), ('the', ['plains', 'and', 'crooked', 'places']), ('crooked', ['and', 'the', 'places', 'will']), ('places', ['the', 'crooked', 'will', 'be']), ('will', ['crooked', 'places', 'be', 'made']), ('be', ['places', 'will', 'made', 'straight']), ('made', ['will', 'be', 'straight', 'and']), ('straight', ['be', 'made', 'and', 'the']), ('and', ['made', 'straight', 'the', 'glory']), ('the', ['straight', 'and', 'glory', 'of']), ('glory', ['and', 'the', 'of', 'the']), ('of', ['the', 'glory', 'the', 'lord']), ('the', ['glory', 'of', 'lord', 'shall']), ('lord', ['of', 'the', 'shall', 'be']), ('shall', ['the', 'lord', 'be', 'revealed']), ('be', ['lord', 'shall', 'revealed', 'and']), ('revealed', ['shall', 'be', 'and', 'all']), ('and', ['be', 'revealed', 'all', 'flesh']), ('all', ['revealed', 'and', 'flesh', 'shall']), ('flesh', ['and', 'all', 'shall', 'see']), ('shall', ['all', 'flesh', 'see', 'it']), ('see', ['flesh', 'shall', 'it', 'together']), ('it', ['shall', 'see', 'together', 'this']), ('together', ['see', 'it', 'this', 'is']), ('this', ['it', 'together', 'is', 'our']), ('is', ['together', 'this', 'our', 'hope']), ('our', ['this', 'is', 'hope', 'this']), ('hope', ['is', 'our', 'this', 'is']), ('this', ['our', 'hope', 'is', 'the']), ('is', ['hope', 'this', 'the', 'faith']), ('the', ['this', 'is', 'faith', 'that']), ('faith', ['is', 'the', 'that', 'i']), ('that', ['the', 'faith', 'i', 'will']), ('i', ['faith', 'that', 'will', 'go']), ('will', ['that', 'i', 'go', 'back']), ('go', ['i', 'will', 'back', 'to']), ('back', ['will', 'go', 'to', 'the']), ('to', ['go', 'back', 'the', 'south']), ('the', ['back', 'to', 'south', 'with']), ('south', ['to', 'the', 'with', 'with']), ('with', ['the', 'south', 'with', 'this']), ('with', ['south', 'with', 'this', 'faith']), ('this', ['with', 'with', 'faith', 'we']), ('faith', ['with', 'this', 'we', 'will']), ('we', ['this', 'faith', 'will', 'be']), ('will', ['faith', 'we', 'be', 'able']), ('be', ['we', 'will', 'able', 'to']), ('able', ['will', 'be', 'to', 'hew']), ('to', ['be', 'able', 'hew', 'out']), ('hew', ['able', 'to', 'out', 'of']), ('out', ['to', 'hew', 'of', 'the']), ('of', ['hew', 'out', 'the', 'mountain']), ('the', ['out', 'of', 'mountain', 'of']), ('mountain', ['of', 'the', 'of', 'despair']), ('of', ['the', 'mountain', 'despair', 'a']), ('despair', ['mountain', 'of', 'a', 'stone']), ('a', ['of', 'despair', 'stone', 'of']), ('stone', ['despair', 'a', 'of', 'hope']), ('of', ['a', 'stone', 'hope', 'with']), ('hope', ['stone', 'of', 'with', 'this']), ('with', ['of', 'hope', 'this', 'faith']), ('this', ['hope', 'with', 'faith', 'we']), ('faith', ['with', 'this', 'we', 'will']), ('we', ['this', 'faith', 'will', 'be']), ('will', ['faith', 'we', 'be', 'able']), ('be', ['we', 'will', 'able', 'to']), ('able', ['will', 'be', 'to', 'transform']), ('to', ['be', 'able', 'transform', 'the']), ('transform', ['able', 'to', 'the', 'jangling']), ('the', ['to', 'transform', 'jangling', 'discords']), ('jangling', ['transform', 'the', 'discords', 'of']), ('discords', ['the', 'jangling', 'of', 'our']), ('of', ['jangling', 'discords', 'our', 'nation']), ('our', ['discords', 'of', 'nation', 'into']), ('nation', ['of', 'our', 'into', 'a']), ('into', ['our', 'nation', 'a', 'beautiful']), ('a', ['nation', 'into', 'beautiful', 'symphony']), ('beautiful', ['into', 'a', 'symphony', 'of']), ('symphony', ['a', 'beautiful', 'of', 'brotherhood']), ('of', ['beautiful', 'symphony', 'brotherhood', 'with']), ('brotherhood', ['symphony', 'of', 'with', 'this']), ('with', ['of', 'brotherhood', 'this', 'faith']), ('this', ['brotherhood', 'with', 'faith', 'we']), ('faith', ['with', 'this', 'we', 'will']), ('we', ['this', 'faith', 'will', 'be']), ('will', ['faith', 'we', 'be', 'able']), ('be', ['we', 'will', 'able', 'to']), ('able', ['will', 'be', 'to', 'work']), ('to', ['be', 'able', 'work', 'together']), ('work', ['able', 'to', 'together', 'to']), ('together', ['to', 'work', 'to', 'pray']), ('to', ['work', 'together', 'pray', 'together']), ('pray', ['together', 'to', 'together', 'to']), ('together', ['to', 'pray', 'to', 'struggle']), ('to', ['pray', 'together', 'struggle', 'together']), ('struggle', ['together', 'to', 'together', 'to']), ('together', ['to', 'struggle', 'to', 'go']), ('to', ['struggle', 'together', 'go', 'to']), ('go', ['together', 'to', 'to', 'jail']), ('to', ['to', 'go', 'jail', 'together']), ('jail', ['go', 'to', 'together', 'to']), ('together', ['to', 'jail', 'to', 'climb']), ('to', ['jail', 'together', 'climb', 'up']), ('climb', ['together', 'to', 'up', 'for']), ('up', ['to', 'climb', 'for', 'freedom']), ('for', ['climb', 'up', 'freedom', 'together']), ('freedom', ['up', 'for', 'together', 'knowing']), ('together', ['for', 'freedom', 'knowing', 'that']), ('knowing', ['freedom', 'together', 'that', 'we']), ('that', ['together', 'knowing', 'we', 'will']), ('we', ['knowing', 'that', 'will', 'be']), ('will', ['that', 'we', 'be', 'free']), ('be', ['we', 'will', 'free', 'one']), ('free', ['will', 'be', 'one', 'day']), ('one', ['be', 'free', 'day', 'this']), ('day', ['free', 'one', 'this', 'will']), ('this', ['one', 'day', 'will', 'be']), ('will', ['day', 'this', 'be', 'the']), ('be', ['this', 'will', 'the', 'day']), ('the', ['will', 'be', 'day', 'when']), ('day', ['be', 'the', 'when', 'all']), ('when', ['the', 'day', 'all', 'of']), ('all', ['day', 'when', 'of', 'gods']), ('of', ['when', 'all', 'gods', 'children']), ('gods', ['all', 'of', 'children', 'will']), ('children', ['of', 'gods', 'will', 'be']), ('will', ['gods', 'children', 'be', 'able']), ('be', ['children', 'will', 'able', 'to']), ('able', ['will', 'be', 'to', 'sing']), ('to', ['be', 'able', 'sing', 'with']), ('sing', ['able', 'to', 'with', 'new']), ('with', ['to', 'sing', 'new', 'meaning']), ('new', ['sing', 'with', 'meaning', 'my']), ('meaning', ['with', 'new', 'my', 'country']), ('my', ['new', 'meaning', 'country', 'tis']), ('country', ['meaning', 'my', 'tis', 'of']), ('tis', ['my', 'country', 'of', 'thee']), ('of', ['country', 'tis', 'thee', 'sweet']), ('thee', ['tis', 'of', 'sweet', 'land']), ('sweet', ['of', 'thee', 'land', 'of']), ('land', ['thee', 'sweet', 'of', 'liberty']), ('of', ['sweet', 'land', 'liberty', 'of']), ('liberty', ['land', 'of', 'of', 'thee']), ('of', ['of', 'liberty', 'thee', 'i']), ('thee', ['liberty', 'of', 'i', 'sing']), ('i', ['of', 'thee', 'sing', 'land']), ('sing', ['thee', 'i', 'land', 'where']), ('land', ['i', 'sing', 'where', 'my']), ('where', ['sing', 'land', 'my', 'fathers']), ('my', ['land', 'where', 'fathers', 'died']), ('fathers', ['where', 'my', 'died', 'land']), ('died', ['my', 'fathers', 'land', 'of']), ('land', ['fathers', 'died', 'of', 'the']), ('of', ['died', 'land', 'the', 'pilgrims']), ('the', ['land', 'of', 'pilgrims', 'pride']), ('pilgrims', ['of', 'the', 'pride', 'from']), ('pride', ['the', 'pilgrims', 'from', 'every']), ('from', ['pilgrims', 'pride', 'every', 'mountainside']), ('every', ['pride', 'from', 'mountainside', 'let']), ('mountainside', ['from', 'every', 'let', 'freedom']), ('let', ['every', 'mountainside', 'freedom', 'ring']), ('freedom', ['mountainside', 'let', 'ring', 'and']), ('ring', ['let', 'freedom', 'and', 'if']), ('and', ['freedom', 'ring', 'if', 'america']), ('if', ['ring', 'and', 'america', 'is']), ('america', ['and', 'if', 'is', 'to']), ('is', ['if', 'america', 'to', 'be']), ('to', ['america', 'is', 'be', 'a']), ('be', ['is', 'to', 'a', 'great']), ('a', ['to', 'be', 'great', 'nation']), ('great', ['be', 'a', 'nation', 'this']), ('nation', ['a', 'great', 'this', 'must']), ('this', ['great', 'nation', 'must', 'become']), ('must', ['nation', 'this', 'become', 'true']), ('become', ['this', 'must', 'true', 'so']), ('true', ['must', 'become', 'so', 'let']), ('so', ['become', 'true', 'let', 'freedom']), ('let', ['true', 'so', 'freedom', 'ring']), ('freedom', ['so', 'let', 'ring', 'from']), ('ring', ['let', 'freedom', 'from', 'the']), ('from', ['freedom', 'ring', 'the', 'hilltops']), ('the', ['ring', 'from', 'hilltops', 'of']), ('hilltops', ['from', 'the', 'of', 'new']), ('of', ['the', 'hilltops', 'new', 'hampshire']), ('new', ['hilltops', 'of', 'hampshire', 'let']), ('hampshire', ['of', 'new', 'let', 'freedom']), ('let', ['new', 'hampshire', 'freedom', 'ring']), ('freedom', ['hampshire', 'let', 'ring', 'from']), ('ring', ['let', 'freedom', 'from', 'the']), ('from', ['freedom', 'ring', 'the', 'mighty']), ('the', ['ring', 'from', 'mighty', 'mountains']), ('mighty', ['from', 'the', 'mountains', 'of']), ('mountains', ['the', 'mighty', 'of', 'new']), ('of', ['mighty', 'mountains', 'new', 'york']), ('new', ['mountains', 'of', 'york', 'let']), ('york', ['of', 'new', 'let', 'freedom']), ('let', ['new', 'york', 'freedom', 'ring']), ('freedom', ['york', 'let', 'ring', 'from']), ('ring', ['let', 'freedom', 'from', 'the']), ('from', ['freedom', 'ring', 'the', 'heightening']), ('the', ['ring', 'from', 'heightening', 'alleghenies']), ('heightening', ['from', 'the', 'alleghenies', 'of']), ('alleghenies', ['the', 'heightening', 'of', 'pennsylvania']), ('of', ['heightening', 'alleghenies', 'pennsylvania', 'let']), ('pennsylvania', ['alleghenies', 'of', 'let', 'freedom']), ('let', ['of', 'pennsylvania', 'freedom', 'ring']), ('freedom', ['pennsylvania', 'let', 'ring', 'from']), ('ring', ['let', 'freedom', 'from', 'the']), ('from', ['freedom', 'ring', 'the', 'snowcapped']), ('the', ['ring', 'from', 'snowcapped', 'rockies']), ('snowcapped', ['from', 'the', 'rockies', 'of']), ('rockies', ['the', 'snowcapped', 'of', 'colorado']), ('of', ['snowcapped', 'rockies', 'colorado', 'let']), ('colorado', ['rockies', 'of', 'let', 'freedom']), ('let', ['of', 'colorado', 'freedom', 'ring']), ('freedom', ['colorado', 'let', 'ring', 'from']), ('ring', ['let', 'freedom', 'from', 'the']), ('from', ['freedom', 'ring', 'the', 'curvaceous']), ('the', ['ring', 'from', 'curvaceous', 'slopes']), ('curvaceous', ['from', 'the', 'slopes', 'of']), ('slopes', ['the', 'curvaceous', 'of', 'california']), ('of', ['curvaceous', 'slopes', 'california', 'but']), ('california', ['slopes', 'of', 'but', 'not']), ('but', ['of', 'california', 'not', 'only']), ('not', ['california', 'but', 'only', 'that']), ('only', ['but', 'not', 'that', 'let']), ('that', ['not', 'only', 'let', 'freedom']), ('let', ['only', 'that', 'freedom', 'ring']), ('freedom', ['that', 'let', 'ring', 'from']), ('ring', ['let', 'freedom', 'from', 'stone']), ('from', ['freedom', 'ring', 'stone', 'mountain']), ('stone', ['ring', 'from', 'mountain', 'of']), ('mountain', ['from', 'stone', 'of', 'georgia']), ('of', ['stone', 'mountain', 'georgia', 'let']), ('georgia', ['mountain', 'of', 'let', 'freedom']), ('let', ['of', 'georgia', 'freedom', 'ring']), ('freedom', ['georgia', 'let', 'ring', 'from']), ('ring', ['let', 'freedom', 'from', 'every']), ('from', ['freedom', 'ring', 'every', 'hill']), ('every', ['ring', 'from', 'hill', 'and']), ('hill', ['from', 'every', 'and', 'molehill']), ('and', ['every', 'hill', 'molehill', 'of']), ('molehill', ['hill', 'and', 'of', 'mississippi']), ('of', ['and', 'molehill', 'mississippi', 'and']), ('mississippi', ['molehill', 'of', 'and', 'every']), ('and', ['of', 'mississippi', 'every', 'mountainside']), ('every', ['mississippi', 'and', 'mountainside', 'when']), ('mountainside', ['and', 'every', 'when', 'we']), ('when', ['every', 'mountainside', 'we', 'let']), ('we', ['mountainside', 'when', 'let', 'freedom']), ('let', ['when', 'we', 'freedom', 'ring']), ('freedom', ['we', 'let', 'ring', 'when']), ('ring', ['let', 'freedom', 'when', 'we']), ('when', ['freedom', 'ring', 'we', 'let']), ('we', ['ring', 'when', 'let', 'it']), ('let', ['when', 'we', 'it', 'ring']), ('it', ['we', 'let', 'ring', 'from']), ('ring', ['let', 'it', 'from', 'every']), ('from', ['it', 'ring', 'every', 'tenement']), ('every', ['ring', 'from', 'tenement', 'and']), ('tenement', ['from', 'every', 'and', 'every']), ('and', ['every', 'tenement', 'every', 'hamlet']), ('every', ['tenement', 'and', 'hamlet', 'from']), ('hamlet', ['and', 'every', 'from', 'every']), ('from', ['every', 'hamlet', 'every', 'state']), ('every', ['hamlet', 'from', 'state', 'and']), ('state', ['from', 'every', 'and', 'every']), ('and', ['every', 'state', 'every', 'city']), ('every', ['state', 'and', 'city', 'we']), ('city', ['and', 'every', 'we', 'will']), ('we', ['every', 'city', 'will', 'be']), ('will', ['city', 'we', 'be', 'able']), ('be', ['we', 'will', 'able', 'to']), ('able', ['will', 'be', 'to', 'speed']), ('to', ['be', 'able', 'speed', 'up']), ('speed', ['able', 'to', 'up', 'that']), ('up', ['to', 'speed', 'that', 'day']), ('that', ['speed', 'up', 'day', 'when']), ('day', ['up', 'that', 'when', 'all']), ('when', ['that', 'day', 'all', 'of']), ('all', ['day', 'when', 'of', 'gods']), ('of', ['when', 'all', 'gods', 'children']), ('gods', ['all', 'of', 'children', 'black']), ('children', ['of', 'gods', 'black', 'men']), ('black', ['gods', 'children', 'men', 'and']), ('men', ['children', 'black', 'and', 'white']), ('and', ['black', 'men', 'white', 'men']), ('white', ['men', 'and', 'men', 'jews']), ('men', ['and', 'white', 'jews', 'and']), ('jews', ['white', 'men', 'and', 'gentiles']), ('and', ['men', 'jews', 'gentiles', 'protestants']), ('gentiles', ['jews', 'and', 'protestants', 'and']), ('protestants', ['and', 'gentiles', 'and', 'catholics']), ('and', ['gentiles', 'protestants', 'catholics', 'will']), ('catholics', ['protestants', 'and', 'will', 'be']), ('will', ['and', 'catholics', 'be', 'able']), ('be', ['catholics', 'will', 'able', 'to']), ('able', ['will', 'be', 'to', 'join']), ('to', ['be', 'able', 'join', 'hands']), ('join', ['able', 'to', 'hands', 'and']), ('hands', ['to', 'join', 'and', 'sing']), ('and', ['join', 'hands', 'sing', 'in']), ('sing', ['hands', 'and', 'in', 'the']), ('in', ['and', 'sing', 'the', 'words']), ('the', ['sing', 'in', 'words', 'of']), ('words', ['in', 'the', 'of', 'the']), ('of', ['the', 'words', 'the', 'old']), ('the', ['words', 'of', 'old', 'spiritual']), ('old', ['of', 'the', 'spiritual', 'free']), ('spiritual', ['the', 'old', 'free', 'at']), ('free', ['old', 'spiritual', 'at', 'last']), ('at', ['spiritual', 'free', 'last', 'free']), ('last', ['free', 'at', 'free', 'at']), ('free', ['at', 'last', 'at', 'last']), ('at', ['last', 'free', 'last', 'thank']), ('last', ['free', 'at', 'thank', 'god']), ('thank', ['at', 'last', 'god', 'almighty']), ('god', ['last', 'thank', 'almighty', 'we']), ('almighty', ['thank', 'god', 'we', 'are']), ('we', ['god', 'almighty', 'are', 'free']), ('are', ['almighty', 'we', 'free', 'at']), ('free', ['we', 'are', 'at', 'last'])]\n"
     ]
    }
   ],
   "source": [
    "print(data)"
   ]
  },
  {
   "cell_type": "code",
   "execution_count": 11,
   "metadata": {},
   "outputs": [],
   "source": [
    "def words_to_tensor(words: list, word2index: dict, dtype = torch.FloatTensor):\n",
    "    \"\"\"\n",
    "    This fucntion converts a word or a list of words into a torch tensor,\n",
    "    with appropriate format.\n",
    "    It reuses the word2index dictionary.\n",
    "    \"\"\"\n",
    "    \n",
    "    tensor =  dtype([word2index[word] for word in words])\n",
    "    tensor = tensor.cuda()\n",
    "    \n",
    "    return Variable(tensor)"
   ]
  },
  {
   "cell_type": "markdown",
   "metadata": {},
   "source": [
    "### Step 2. Create a SkipGram model and train"
   ]
  },
  {
   "cell_type": "markdown",
   "metadata": {},
   "source": [
    "#### Task #1: Write your own model for the SkipGram model below."
   ]
  },
  {
   "cell_type": "code",
   "execution_count": 12,
   "metadata": {},
   "outputs": [],
   "source": [
    "class SkipGram(nn.Module):\n",
    "    \"\"\"\n",
    "    Your skipgram model here!\n",
    "    \"\"\"\n",
    "    \n",
    "    def __init__(self, context_size, embedding_dim, vocab_size):\n",
    "        super(SkipGram, self).__init__()\n",
    "        self.context_size = context_size\n",
    "\n",
    "        self.emb = nn.Embedding(vocab_size, embedding_dim)\n",
    "        self.fc = nn.Linear(embedding_dim, 2 * context_size * vocab_size)\n",
    "\n",
    "    def forward(self, inputs):\n",
    "        x = self.emb(inputs).view((1, -1))\n",
    "        x = self.fc(x)\n",
    "        log_probs = F.log_softmax(x, dim=1).view(2 * self.context_size, -1)\n",
    "        return log_probs"
   ]
  },
  {
   "cell_type": "code",
   "execution_count": 13,
   "metadata": {},
   "outputs": [
    {
     "data": {
      "text/plain": "SkipGram(\n  (emb): Embedding(467, 20)\n  (fc): Linear(in_features=20, out_features=1868, bias=True)\n)"
     },
     "execution_count": 13,
     "metadata": {},
     "output_type": "execute_result"
    }
   ],
   "source": [
    "# Create model and pass to CUDA\n",
    "model = SkipGram(context_size = 2, embedding_dim = 20, vocab_size = len(vocab))\n",
    "model = model.cuda()\n",
    "model.train()"
   ]
  },
  {
   "cell_type": "code",
   "execution_count": 14,
   "metadata": {},
   "outputs": [],
   "source": [
    "# Define training parameters\n",
    "learning_rate = 0.001\n",
    "epochs = 50\n",
    "torch.manual_seed(28)\n",
    "loss_function = nn.NLLLoss()\n",
    "optimizer = optim.SGD(model.parameters(), lr = learning_rate)"
   ]
  },
  {
   "cell_type": "markdown",
   "metadata": {},
   "source": [
    "#### Task #2: Write your own training function for the SkipGram model in the cell below. It should return a list of losses and accuracies for display later on, along with your trained model. You may also write a helper function for computing the accuracy of your model during training."
   ]
  },
  {
   "cell_type": "code",
   "execution_count": 15,
   "metadata": {},
   "outputs": [],
   "source": [
    "def get_accuracy(model, data, word2index):\n",
    "    model.eval()\n",
    "\n",
    "    total_count = 0\n",
    "    correct_count = 0\n",
    "    for x, y in data:\n",
    "        context_idxs = torch.tensor([word2index[x]], dtype=torch.long).cuda()\n",
    "        log_probs = model(context_idxs)\n",
    "        output_ids = torch.argmax(log_probs, dim=1)\n",
    "\n",
    "        target_list = torch.tensor([word2index[w] for w in y], dtype=torch.long).cuda()\n",
    "\n",
    "        for o_id in output_ids:\n",
    "            total_count += 1\n",
    "            for t_id in target_list:\n",
    "                if o_id == t_id:\n",
    "                    correct_count += 1\n",
    "                    break\n",
    "    \n",
    "    return correct_count / total_count"
   ]
  },
  {
   "cell_type": "code",
   "execution_count": 16,
   "metadata": {},
   "outputs": [
    {
     "name": "stdout",
     "output_type": "stream",
     "text": [
      "Epoch 1: loss - 7.686139628047196; accuracy - 0.008185053380782919\n",
      "Epoch 2: loss - 7.667159861771662; accuracy - 0.008540925266903915\n",
      "Epoch 3: loss - 7.648266459699203; accuracy - 0.008896797153024912\n",
      "Epoch 4: loss - 7.629459774112362; accuracy - 0.009608540925266904\n",
      "Epoch 5: loss - 7.610741139815795; accuracy - 0.010854092526690392\n",
      "Epoch 6: loss - 7.5921127343092945; accuracy - 0.019572953736654804\n",
      "Epoch 7: loss - 7.573578082793972; accuracy - 0.021530249110320285\n",
      "Epoch 8: loss - 7.555142109758913; accuracy - 0.03362989323843416\n",
      "Epoch 9: loss - 7.536811459700832; accuracy - 0.03612099644128114\n",
      "Epoch 10: loss - 7.5185947160279625; accuracy - 0.037544483985765126\n",
      "Epoch 11: loss - 7.5005027275492715; accuracy - 0.04234875444839858\n",
      "Epoch 12: loss - 7.482548743550039; accuracy - 0.04359430604982206\n",
      "Epoch 13: loss - 7.464748233577959; accuracy - 0.045907473309608544\n",
      "Epoch 14: loss - 7.447119050687743; accuracy - 0.05\n",
      "Epoch 15: loss - 7.429680839212764; accuracy - 0.05604982206405694\n",
      "Epoch 16: loss - 7.412453907325174; accuracy - 0.060498220640569395\n",
      "Epoch 17: loss - 7.395458427442775; accuracy - 0.06583629893238434\n",
      "Epoch 18: loss - 7.378712218681688; accuracy - 0.0706405693950178\n",
      "Epoch 19: loss - 7.362229288515247; accuracy - 0.07508896797153025\n",
      "Epoch 20: loss - 7.346017587397022; accuracy - 0.08238434163701068\n",
      "Epoch 21: loss - 7.330077870460592; accuracy - 0.08736654804270462\n",
      "Epoch 22: loss - 7.314402867721069; accuracy - 0.09608540925266904\n",
      "Epoch 23: loss - 7.298978141703215; accuracy - 0.10373665480427047\n",
      "Epoch 24: loss - 7.28378341308268; accuracy - 0.10818505338078292\n",
      "Epoch 25: loss - 7.268794806402349; accuracy - 0.11227758007117437\n",
      "Epoch 26: loss - 7.253987505766845; accuracy - 0.11690391459074734\n",
      "Epoch 27: loss - 7.239337752807183; accuracy - 0.1201067615658363\n",
      "Epoch 28: loss - 7.224824196079023; accuracy - 0.12348754448398576\n",
      "Epoch 29: loss - 7.210429002212035; accuracy - 0.1282918149466192\n",
      "Epoch 30: loss - 7.196138102982816; accuracy - 0.13131672597864769\n",
      "Epoch 31: loss - 7.18194101170713; accuracy - 0.1391459074733096\n",
      "Epoch 32: loss - 7.167830180443055; accuracy - 0.14377224199288255\n",
      "Epoch 33: loss - 7.153800551322855; accuracy - 0.1526690391459075\n",
      "Epoch 34: loss - 7.139848935816212; accuracy - 0.15747330960854092\n",
      "Epoch 35: loss - 7.12597396993128; accuracy - 0.16067615658362988\n",
      "Epoch 36: loss - 7.112174872741156; accuracy - 0.16281138790035588\n",
      "Epoch 37: loss - 7.098452018588463; accuracy - 0.16725978647686832\n",
      "Epoch 38: loss - 7.0848060814935545; accuracy - 0.1697508896797153\n",
      "Epoch 39: loss - 7.0712383178629485; accuracy - 0.17099644128113878\n",
      "Epoch 40: loss - 7.057750165335224; accuracy - 0.17277580071174378\n",
      "Epoch 41: loss - 7.044343084627199; accuracy - 0.1816725978647687\n",
      "Epoch 42: loss - 7.0310189291251515; accuracy - 0.18291814946619217\n",
      "Epoch 43: loss - 7.017779577329914; accuracy - 0.18416370106761565\n",
      "Epoch 44: loss - 7.004626525593822; accuracy - 0.18754448398576512\n",
      "Epoch 45: loss - 6.9915620430508545; accuracy - 0.1903914590747331\n",
      "Epoch 46: loss - 6.978587820521453; accuracy - 0.19448398576512455\n",
      "Epoch 47: loss - 6.9657056971376905; accuracy - 0.19572953736654805\n",
      "Epoch 48: loss - 6.952917584660215; accuracy - 0.19750889679715303\n",
      "Epoch 49: loss - 6.940225265543656; accuracy - 0.199288256227758\n",
      "Epoch 50: loss - 6.927630403118202; accuracy - 0.2087188612099644\n"
     ]
    }
   ],
   "source": [
    "def train(data, word2index, model, epochs, loss_func, optimizer):\n",
    "    losses = []\n",
    "    accuracies = []\n",
    "    for epoch_no in range(epochs):\n",
    "        model.train()\n",
    "\n",
    "        e_loss = 0\n",
    "        for x, y in data:\n",
    "            # Step 1. Prepare the inputs to be passed to the model (i.e, turn \n",
    "            # the words into integer indices and wrap them in tensors)\n",
    "\n",
    "            context_idxs = torch.tensor([word2index[x]], dtype=torch.long).cuda()\n",
    "\n",
    "            # Step 2. Recall that torch *accumulates* gradients. Before passing \n",
    "            # in a new instance, you need to zero out the gradients from the old\n",
    "            # instance\n",
    "            optimizer.zero_grad()\n",
    "\n",
    "            # Step 3. Run the forward pass, getting log probabilities over next\n",
    "            # words\n",
    "            log_probs = model(context_idxs)\n",
    "\n",
    "            # Step 4. Compute your loss function. (Again, Torch wants the target\n",
    "            # word wrapped in a tensor)\n",
    "            target_list = torch.tensor([word2index[w] for w in y], dtype=torch.long).cuda()\n",
    "            loss = loss_function(log_probs, target_list)\n",
    "\n",
    "            # Step 5. Do the backward pass and update the gradient\n",
    "            loss.backward()\n",
    "            optimizer.step()\n",
    "\n",
    "            # Get the Python number from a 1-element Tensor by calling tensor.item()\n",
    "            e_loss += loss.item()\n",
    "        \n",
    "        model.eval()\n",
    "\n",
    "        with torch.no_grad():\n",
    "            e_loss /= len(data)\n",
    "            accuracy = get_accuracy(model, data, word2index)\n",
    "\n",
    "            print(f\"Epoch {epoch_no+1}: loss - {e_loss}; accuracy - {accuracy}\")\n",
    "\n",
    "            losses.append(e_loss)\n",
    "            accuracies.append(accuracy)\n",
    "\n",
    "    return losses, accuracies, model\n",
    "\n",
    "losses, accuracies, model = train(data, word2index, model, epochs, loss_function, optimizer)"
   ]
  },
  {
   "cell_type": "markdown",
   "metadata": {},
   "source": [
    "### 3. Visualization"
   ]
  },
  {
   "cell_type": "code",
   "execution_count": 17,
   "metadata": {},
   "outputs": [
    {
     "data": {
      "image/png": "[encoded data removed]",
      "text/plain": "<Figure size 432x288 with 1 Axes>"
     },
     "metadata": {
      "needs_background": "light"
     },
     "output_type": "display_data"
    }
   ],
   "source": [
    "# Display losses over time\n",
    "plt.figure()\n",
    "plt.plot(losses)\n",
    "plt.show()"
   ]
  },
  {
   "cell_type": "code",
   "execution_count": 18,
   "metadata": {},
   "outputs": [
    {
     "data": {
      "image/png": "[encoded data removed]",
      "text/plain": "<Figure size 432x288 with 1 Axes>"
     },
     "metadata": {
      "needs_background": "light"
     },
     "output_type": "display_data"
    }
   ],
   "source": [
    "# Display accuracies over time\n",
    "plt.figure()\n",
    "plt.plot(accuracies)\n",
    "plt.show()"
   ]
  },
  {
   "cell_type": "markdown",
   "metadata": {},
   "source": [
    "### Questions and expected answers for the report\n",
    "\n",
    "A. Copy and paste your SkipGram class code (Task #1 in the notebook)\n",
    "\n",
    "B. Copy and paste your train function (Task #2 in the notebook), along with any helper functions you might have used (e.g. a function to compute the accuracy of your model after each iteration). Please also copy and paste the function call with the parameters you used for the train() function.\n",
    "\n",
    "C. Why is the SkipGram model much more difficult to train than the CBoW. Is it problematic if it does not reach a 100% accuracy on the task it is being trained on?\n",
    "\n",
    "D. If we were to evaluate this model by using intrinsic methods, what could be a possible approach to do so. Please submit some code that will demonstrate the performance/problems of the word embedding you have trained!"
   ]
  },
  {
   "cell_type": "code",
   "execution_count": 20,
   "metadata": {},
   "outputs": [],
   "source": [
    "# save trained model\n",
    "torch.save(model.state_dict(), \"model.pth\")"
   ]
  },
  {
   "cell_type": "code",
   "execution_count": null,
   "metadata": {},
   "outputs": [],
   "source": [
    "# load trained model\n",
    "model = SkipGram(context_size = 2, embedding_dim = 20, vocab_size = len(vocab))\n",
    "model = model.cuda()\n",
    "model.load_state_dict(torch.load(\"model.pth\"))\n",
    "model.eval()"
   ]
  },
  {
   "cell_type": "code",
   "execution_count": 24,
   "metadata": {},
   "outputs": [
    {
     "data": {
      "text/plain": "OrderedDict([('emb.weight',\n              tensor([[ 0.6692,  0.4667, -0.5606,  ...,  1.1003,  0.6653,  1.1416],\n                      [ 0.6129,  1.1501,  1.1069,  ...,  0.1206,  0.3712, -0.6231],\n                      [ 0.7469,  0.4312, -1.8069,  ...,  0.2078,  0.4053,  0.1399],\n                      ...,\n                      [ 1.7283, -0.8735,  0.0599,  ..., -0.6047, -0.3795, -1.0840],\n                      [-0.5119,  1.0575,  0.1732,  ...,  0.0492,  1.7719,  0.1678],\n                      [-0.7073, -0.8920,  0.4307,  ..., -0.3175,  0.2373,  0.7911]],\n                     device='cuda:0')),\n             ('fc.weight',\n              tensor([[-0.0540, -0.0906, -0.1274,  ...,  0.1209,  0.1115,  0.0340],\n                      [-0.1520,  0.0372, -0.1892,  ...,  0.0786,  0.1029,  0.1645],\n                      [-0.1299, -0.1040,  0.0608,  ..., -0.0503,  0.0270,  0.1652],\n                      ...,\n                      [ 0.1085, -0.0765,  0.1842,  ...,  0.0393, -0.0045, -0.2343],\n                      [ 0.0034, -0.1968,  0.0384,  ..., -0.1278,  0.0049, -0.1727],\n                      [-0.0722, -0.1216, -0.1117,  ...,  0.2225, -0.0505, -0.0492]],\n                     device='cuda:0')),\n             ('fc.bias',\n              tensor([ 0.0631, -0.2104, -0.2014,  ..., -0.0824, -0.0798,  0.0910],\n                     device='cuda:0'))])"
     },
     "execution_count": 24,
     "metadata": {},
     "output_type": "execute_result"
    }
   ],
   "source": [
    "model.state_dict()"
   ]
  },
  {
   "cell_type": "code",
   "execution_count": 25,
   "metadata": {},
   "outputs": [
    {
     "data": {
      "text/plain": "tensor([[ 0.6692,  0.4667, -0.5606,  ...,  1.1003,  0.6653,  1.1416],\n        [ 0.6129,  1.1501,  1.1069,  ...,  0.1206,  0.3712, -0.6231],\n        [ 0.7469,  0.4312, -1.8069,  ...,  0.2078,  0.4053,  0.1399],\n        ...,\n        [ 1.7283, -0.8735,  0.0599,  ..., -0.6047, -0.3795, -1.0840],\n        [-0.5119,  1.0575,  0.1732,  ...,  0.0492,  1.7719,  0.1678],\n        [-0.7073, -0.8920,  0.4307,  ..., -0.3175,  0.2373,  0.7911]],\n       device='cuda:0')"
     },
     "execution_count": 25,
     "metadata": {},
     "output_type": "execute_result"
    }
   ],
   "source": [
    "model.state_dict()['emb.weight']"
   ]
  },
  {
   "cell_type": "code",
   "execution_count": 62,
   "metadata": {},
   "outputs": [
    {
     "data": {
      "text/plain": "Embedding(467, 20)"
     },
     "execution_count": 62,
     "metadata": {},
     "output_type": "execute_result"
    }
   ],
   "source": [
    "embedding_layer = nn.Embedding(len(vocab), 20)\n",
    "embedding_layer.weight = torch.nn.Parameter(model.state_dict()['emb.weight'])\n",
    "embedding_layer.eval()"
   ]
  },
  {
   "cell_type": "code",
   "execution_count": 63,
   "metadata": {},
   "outputs": [
    {
     "data": {
      "text/plain": "[29]"
     },
     "execution_count": 63,
     "metadata": {},
     "output_type": "execute_result"
    }
   ],
   "source": [
    "[word2index['his']]"
   ]
  },
  {
   "cell_type": "code",
   "execution_count": 64,
   "metadata": {},
   "outputs": [
    {
     "data": {
      "text/plain": "tensor([[ 0.6692,  0.4667, -0.5606,  ...,  1.1003,  0.6653,  1.1416],\n        [ 0.6692,  0.4667, -0.5606,  ...,  1.1003,  0.6653,  1.1416],\n        [ 0.6692,  0.4667, -0.5606,  ...,  1.1003,  0.6653,  1.1416],\n        ...,\n        [ 0.6692,  0.4667, -0.5606,  ...,  1.1003,  0.6653,  1.1416],\n        [ 0.6692,  0.4667, -0.5606,  ...,  1.1003,  0.6653,  1.1416],\n        [ 0.6692,  0.4667, -0.5606,  ...,  1.1003,  0.6653,  1.1416]],\n       device='cuda:0', grad_fn=<EmbeddingBackward>)"
     },
     "execution_count": 64,
     "metadata": {},
     "output_type": "execute_result"
    }
   ],
   "source": [
    "his_context_id = torch.zeros(len(vocab)).cuda().long()\n",
    "his_context_id[word2index['his']] = 1.\n",
    "his_vec = embedding_layer(his_context_id)\n",
    "his_vec"
   ]
  },
  {
   "cell_type": "code",
   "execution_count": 65,
   "metadata": {},
   "outputs": [
    {
     "data": {
      "text/plain": "tensor([[ 0.6692,  0.4667, -0.5606,  ...,  1.1003,  0.6653,  1.1416],\n        [ 0.6692,  0.4667, -0.5606,  ...,  1.1003,  0.6653,  1.1416],\n        [ 0.6692,  0.4667, -0.5606,  ...,  1.1003,  0.6653,  1.1416],\n        ...,\n        [ 0.6692,  0.4667, -0.5606,  ...,  1.1003,  0.6653,  1.1416],\n        [ 0.6692,  0.4667, -0.5606,  ...,  1.1003,  0.6653,  1.1416],\n        [ 0.6692,  0.4667, -0.5606,  ...,  1.1003,  0.6653,  1.1416]],\n       device='cuda:0', grad_fn=<EmbeddingBackward>)"
     },
     "execution_count": 65,
     "metadata": {},
     "output_type": "execute_result"
    }
   ],
   "source": [
    "her_context_id = torch.zeros(len(vocab)).cuda().long()\n",
    "her_context_id[word2index['her']] = 1.\n",
    "her_vec = embedding_layer(her_context_id)\n",
    "her_vec"
   ]
  },
  {
   "cell_type": "code",
   "execution_count": 66,
   "metadata": {},
   "outputs": [
    {
     "data": {
      "text/plain": "tensor([[ 0.6692,  0.4667, -0.5606,  ...,  1.1003,  0.6653,  1.1416],\n        [ 0.6692,  0.4667, -0.5606,  ...,  1.1003,  0.6653,  1.1416],\n        [ 0.6692,  0.4667, -0.5606,  ...,  1.1003,  0.6653,  1.1416],\n        ...,\n        [ 0.6692,  0.4667, -0.5606,  ...,  1.1003,  0.6653,  1.1416],\n        [ 0.6692,  0.4667, -0.5606,  ...,  1.1003,  0.6653,  1.1416],\n        [ 0.6692,  0.4667, -0.5606,  ...,  1.1003,  0.6653,  1.1416]],\n       device='cuda:0', grad_fn=<EmbeddingBackward>)"
     },
     "execution_count": 66,
     "metadata": {},
     "output_type": "execute_result"
    }
   ],
   "source": [
    "boys_context_id = torch.zeros(len(vocab)).cuda().long()\n",
    "boys_context_id[word2index['boys']] = 1.\n",
    "boys_vec = embedding_layer(boys_context_id)\n",
    "boys_vec"
   ]
  },
  {
   "cell_type": "code",
   "execution_count": 79,
   "metadata": {},
   "outputs": [
    {
     "name": "stdout",
     "output_type": "stream",
     "text": [
      "cosine similarity of 'his' and 'her': tensor([1.0000, 0.9955, 0.9812, 0.9851, 1.0000, 0.9824, 0.9078, 0.9952, 0.9980,\n",
      "        0.9947, 0.9966, 0.9866, 0.9976, 0.9927, 0.9989, 0.8462, 1.0000, 0.9983,\n",
      "        0.9996, 0.9949], device='cuda:0', grad_fn=<DivBackward0>)\n"
     ]
    }
   ],
   "source": [
    "his_her_sim = F.cosine_similarity(his_vec, her_vec, dim=0)\n",
    "print(f\"cosine similarity of 'his' and 'her': {his_her_sim}\")"
   ]
  },
  {
   "cell_type": "code",
   "execution_count": 80,
   "metadata": {},
   "outputs": [
    {
     "name": "stdout",
     "output_type": "stream",
     "text": [
      "cosine similarity of 'his' and 'boys': tensor([1.0000, 0.9955, 0.9812, 0.9851, 1.0000, 0.9824, 0.9078, 0.9952, 0.9980,\n",
      "        0.9947, 0.9966, 0.9866, 0.9976, 0.9927, 0.9989, 0.8462, 1.0000, 0.9983,\n",
      "        0.9996, 0.9949], device='cuda:0', grad_fn=<DivBackward0>)\n",
      "cosine similarity of 'her' and 'boys': tensor([1.0000, 0.9955, 0.9812, 0.9851, 1.0000, 0.9824, 0.9078, 0.9952, 0.9980,\n",
      "        0.9947, 0.9966, 0.9866, 0.9976, 0.9927, 0.9989, 0.8462, 1.0000, 0.9983,\n",
      "        0.9996, 0.9949], device='cuda:0', grad_fn=<DivBackward0>)\n"
     ]
    }
   ],
   "source": [
    "his_boys_sim = F.cosine_similarity(his_vec, boys_vec, dim=0)\n",
    "print(f\"cosine similarity of 'his' and 'boys': {his_boys_sim}\")\n",
    "her_boys_sim = F.cosine_similarity(her_vec, boys_vec, dim=0)\n",
    "print(f\"cosine similarity of 'her' and 'boys': {her_boys_sim}\")"
   ]
  },
  {
   "cell_type": "code",
   "execution_count": null,
   "metadata": {},
   "outputs": [],
   "source": []
  }
 ],
 "metadata": {
  "kernelspec": {
   "display_name": "Python 3.8.8 64-bit ('dl': conda)",
   "name": "python388jvsc74a57bd09bdb71cc335c0ff538946176ad679f1f73afaf0a37ebb6555520787290f7e82f"
  },
  "language_info": {
   "codemirror_mode": {
    "name": "ipython",
    "version": 3
   },
   "file_extension": ".py",
   "mimetype": "text/x-python",
   "name": "python",
   "nbconvert_exporter": "python",
   "pygments_lexer": "ipython3",
   "version": "3.8.8"
  }
 },
 "nbformat": 4,
 "nbformat_minor": 5
}